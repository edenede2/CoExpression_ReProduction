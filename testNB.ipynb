{
 "cells": [
  {
   "cell_type": "markdown",
   "id": "03e13555",
   "metadata": {},
   "source": [
    "## Data Loading"
   ]
  },
  {
   "cell_type": "code",
   "execution_count": 1,
   "id": "230ac451",
   "metadata": {},
   "outputs": [],
   "source": [
    "import streamlit as st\n",
    "import pandas as pd\n",
    "import numpy as np\n",
    "import plotly.express as px\n",
    "import plotly.graph_objects as go\n",
    "from pathlib import Path\n",
    "from typing import List, Dict, Tuple\n",
    "import warnings\n",
    "warnings.filterwarnings('ignore')\n",
    "\n",
    "# Import custom modules\n",
    "from new_script.data_reader import GTExDataReader\n",
    "from new_script.preprocessing import DataPreprocessor\n",
    "from new_script.network_analysis import NetworkAnalysis\n",
    "from new_script.mdc_analysis import MDCAnalyzer\n",
    "from new_script.visualization import NetworkVisualizer"
   ]
  },
  {
   "cell_type": "code",
   "execution_count": 2,
   "id": "38683c3b",
   "metadata": {},
   "outputs": [
    {
     "name": "stdout",
     "output_type": "stream",
     "text": [
      "Found data directory: /Users/edeneldar/CoExpression_reProduction/data\n",
      "Reading GCT file: data/GTEx_Analysis_2017-06-05_v8_RNASeQCv1.1.9_gene_tpm.gct\n",
      "GCT version: #1.2\n",
      "Dimensions: 56200 genes, 17382 samples\n",
      "Preparing to read 17382 samples\n",
      "Processed 1000/56200 genes (1.8%)...\n",
      "Processed 2000/56200 genes (3.6%)...\n",
      "Processed 3000/56200 genes (5.3%)...\n",
      "Processed 4000/56200 genes (7.1%)...\n",
      "Processed 5000/56200 genes (8.9%)...\n",
      "Processed 6000/56200 genes (10.7%)...\n",
      "Processed 7000/56200 genes (12.5%)...\n",
      "Processed 8000/56200 genes (14.2%)...\n",
      "Processed 9000/56200 genes (16.0%)...\n",
      "Processed 10000/56200 genes (17.8%)...\n",
      "Processed 11000/56200 genes (19.6%)...\n",
      "Processed 12000/56200 genes (21.4%)...\n",
      "Processed 13000/56200 genes (23.1%)...\n",
      "Processed 14000/56200 genes (24.9%)...\n",
      "Processed 15000/56200 genes (26.7%)...\n",
      "Processed 16000/56200 genes (28.5%)...\n",
      "Processed 17000/56200 genes (30.2%)...\n",
      "Processed 18000/56200 genes (32.0%)...\n",
      "Processed 19000/56200 genes (33.8%)...\n",
      "Processed 20000/56200 genes (35.6%)...\n",
      "Processed 21000/56200 genes (37.4%)...\n",
      "Processed 22000/56200 genes (39.1%)...\n",
      "Processed 23000/56200 genes (40.9%)...\n",
      "Processed 24000/56200 genes (42.7%)...\n",
      "Processed 25000/56200 genes (44.5%)...\n",
      "Processed 26000/56200 genes (46.3%)...\n",
      "Processed 27000/56200 genes (48.0%)...\n",
      "Processed 28000/56200 genes (49.8%)...\n",
      "Processed 29000/56200 genes (51.6%)...\n",
      "Processed 30000/56200 genes (53.4%)...\n",
      "Processed 31000/56200 genes (55.2%)...\n",
      "Processed 32000/56200 genes (56.9%)...\n",
      "Processed 33000/56200 genes (58.7%)...\n",
      "Processed 34000/56200 genes (60.5%)...\n",
      "Processed 35000/56200 genes (62.3%)...\n",
      "Processed 36000/56200 genes (64.1%)...\n",
      "Processed 37000/56200 genes (65.8%)...\n",
      "Processed 38000/56200 genes (67.6%)...\n",
      "Processed 39000/56200 genes (69.4%)...\n",
      "Processed 40000/56200 genes (71.2%)...\n",
      "Processed 41000/56200 genes (73.0%)...\n",
      "Processed 42000/56200 genes (74.7%)...\n",
      "Processed 43000/56200 genes (76.5%)...\n",
      "Processed 44000/56200 genes (78.3%)...\n",
      "Processed 45000/56200 genes (80.1%)...\n",
      "Processed 46000/56200 genes (81.9%)...\n",
      "Processed 47000/56200 genes (83.6%)...\n",
      "Processed 48000/56200 genes (85.4%)...\n",
      "Processed 49000/56200 genes (87.2%)...\n",
      "Processed 50000/56200 genes (89.0%)...\n",
      "Processed 51000/56200 genes (90.7%)...\n",
      "Processed 52000/56200 genes (92.5%)...\n",
      "Processed 53000/56200 genes (94.3%)...\n",
      "Processed 54000/56200 genes (96.1%)...\n",
      "Processed 55000/56200 genes (97.9%)...\n",
      "Processed 56000/56200 genes (99.6%)...\n",
      "Processed 56200/56200 genes (100.0%)...\n",
      "Finished reading 56200 genes.\n",
      "Loaded expression data: (56200, 17382)\n"
     ]
    }
   ],
   "source": [
    "reader = GTExDataReader()\n",
    "expression_df, gene_metadata = reader.read_gct_file(\n",
    "                \"GTEx_Analysis_2017-06-05_v8_RNASeQCv1.1.9_gene_tpm.gct\"\n",
    "            )"
   ]
  },
  {
   "cell_type": "code",
   "execution_count": 3,
   "id": "9affb4de",
   "metadata": {},
   "outputs": [
    {
     "name": "stdout",
     "output_type": "stream",
     "text": [
      "Reading sample attributes: data/GTEx_Analysis_v8_Annotations_SampleAttributesDS.tsv\n",
      "Loaded sample attributes: (22951, 62)\n",
      "Reading subject phenotypes: data/GTEx_Analysis_v8_Annotations_SubjectPhenotypesDS.tsv\n",
      "Loaded subject phenotypes: (980, 3)\n",
      "Reading HGNC data: data/hgnc_complete_set.tsv\n",
      "Found 19293 protein coding genes\n"
     ]
    }
   ],
   "source": [
    "sample_attrs = reader.read_sample_attributes()\n",
    "subject_attrs = reader.read_subject_phenotypes()\n",
    "protein_coding = reader.read_protein_coding_genes()\n",
    "\n"
   ]
  },
  {
   "cell_type": "code",
   "execution_count": 4,
   "id": "863714e2",
   "metadata": {},
   "outputs": [
    {
     "name": "stdout",
     "output_type": "stream",
     "text": [
      "Available tissues: ['Adipose - Subcutaneous', 'Adipose - Visceral (Omentum)', 'Adrenal Gland', 'Artery - Aorta', 'Artery - Coronary', 'Artery - Tibial', 'Bladder', 'Brain - Amygdala', 'Brain - Anterior cingulate cortex (BA24)', 'Brain - Caudate (basal ganglia)', 'Brain - Cerebellar Hemisphere', 'Brain - Cerebellum', 'Brain - Cortex', 'Brain - Frontal Cortex (BA9)', 'Brain - Hippocampus', 'Brain - Hypothalamus', 'Brain - Nucleus accumbens (basal ganglia)', 'Brain - Putamen (basal ganglia)', 'Brain - Spinal cord (cervical c-1)', 'Brain - Substantia nigra', 'Breast - Mammary Tissue', 'Cells - Cultured fibroblasts', 'Cells - EBV-transformed lymphocytes', 'Cells - Leukemia cell line (CML)', 'Cervix - Ectocervix', 'Cervix - Endocervix', 'Colon - Sigmoid', 'Colon - Transverse', 'Esophagus - Gastroesophageal Junction', 'Esophagus - Mucosa', 'Esophagus - Muscularis', 'Fallopian Tube', 'Heart - Atrial Appendage', 'Heart - Left Ventricle', 'Kidney - Cortex', 'Kidney - Medulla', 'Liver', 'Lung', 'Minor Salivary Gland', 'Muscle - Skeletal', 'Nerve - Tibial', 'Ovary', 'Pancreas', 'Pituitary', 'Prostate', 'Skin - Not Sun Exposed (Suprapubic)', 'Skin - Sun Exposed (Lower leg)', 'Small Intestine - Terminal Ileum', 'Spleen', 'Stomach', 'Testis', 'Thyroid', 'Uterus', 'Vagina', 'Whole Blood']\n",
      "Found 763 samples for tissue: Adipose - Subcutaneous\n",
      "Found 564 samples for tissue: Adipose - Visceral (Omentum)\n",
      "Found 275 samples for tissue: Adrenal Gland\n",
      "Found 450 samples for tissue: Artery - Aorta\n",
      "Found 253 samples for tissue: Artery - Coronary\n",
      "Found 770 samples for tissue: Artery - Tibial\n",
      "Found 21 samples for tissue: Bladder\n",
      "Found 177 samples for tissue: Brain - Amygdala\n",
      "Found 213 samples for tissue: Brain - Anterior cingulate cortex (BA24)\n",
      "Found 291 samples for tissue: Brain - Caudate (basal ganglia)\n",
      "Found 263 samples for tissue: Brain - Cerebellar Hemisphere\n",
      "Found 298 samples for tissue: Brain - Cerebellum\n",
      "Found 325 samples for tissue: Brain - Cortex\n",
      "Found 425 samples for tissue: Brain - Frontal Cortex (BA9)\n",
      "Found 243 samples for tissue: Brain - Hippocampus\n",
      "Found 236 samples for tissue: Brain - Hypothalamus\n",
      "Found 277 samples for tissue: Brain - Nucleus accumbens (basal ganglia)\n",
      "Found 232 samples for tissue: Brain - Putamen (basal ganglia)\n",
      "Found 182 samples for tissue: Brain - Spinal cord (cervical c-1)\n",
      "Found 164 samples for tissue: Brain - Substantia nigra\n",
      "Found 480 samples for tissue: Breast - Mammary Tissue\n",
      "Found 527 samples for tissue: Cells - Cultured fibroblasts\n",
      "Found 192 samples for tissue: Cells - EBV-transformed lymphocytes\n",
      "Found 217 samples for tissue: Cells - Leukemia cell line (CML)\n",
      "Found 9 samples for tissue: Cervix - Ectocervix\n",
      "Found 10 samples for tissue: Cervix - Endocervix\n",
      "Found 389 samples for tissue: Colon - Sigmoid\n",
      "Found 432 samples for tissue: Colon - Transverse\n",
      "Found 401 samples for tissue: Esophagus - Gastroesophageal Junction\n",
      "Found 622 samples for tissue: Esophagus - Mucosa\n",
      "Found 559 samples for tissue: Esophagus - Muscularis\n",
      "Found 9 samples for tissue: Fallopian Tube\n",
      "Found 452 samples for tissue: Heart - Atrial Appendage\n",
      "Found 689 samples for tissue: Heart - Left Ventricle\n",
      "Found 100 samples for tissue: Kidney - Cortex\n",
      "Found 4 samples for tissue: Kidney - Medulla\n",
      "Found 251 samples for tissue: Liver\n",
      "Found 867 samples for tissue: Lung\n",
      "Found 181 samples for tissue: Minor Salivary Gland\n",
      "Found 1132 samples for tissue: Muscle - Skeletal\n",
      "Found 722 samples for tissue: Nerve - Tibial\n",
      "Found 195 samples for tissue: Ovary\n",
      "Found 360 samples for tissue: Pancreas\n",
      "Found 301 samples for tissue: Pituitary\n",
      "Found 262 samples for tissue: Prostate\n",
      "Found 638 samples for tissue: Skin - Not Sun Exposed (Suprapubic)\n",
      "Found 849 samples for tissue: Skin - Sun Exposed (Lower leg)\n",
      "Found 193 samples for tissue: Small Intestine - Terminal Ileum\n",
      "Found 260 samples for tissue: Spleen\n",
      "Found 381 samples for tissue: Stomach\n",
      "Found 406 samples for tissue: Testis\n",
      "Found 812 samples for tissue: Thyroid\n",
      "Found 166 samples for tissue: Uterus\n",
      "Found 173 samples for tissue: Vagina\n",
      "Found 3288 samples for tissue: Whole Blood\n"
     ]
    }
   ],
   "source": [
    "available_tissues = reader.get_available_tissues(sample_attrs)\n",
    "print(f\"Available tissues: {available_tissues}\")\n",
    "loaded_samples = set(expression_df.columns)\n",
    "tissues_with_samples = []\n",
    "tissue_sample_counts = {}\n",
    "\n",
    "for tissue in available_tissues:\n",
    "    all_tissue_samples = reader.get_tissue_samples(sample_attrs, tissue)\n",
    "    loaded_tissue_samples = [s for s in all_tissue_samples if s in loaded_samples]\n",
    "    if len(loaded_tissue_samples) >= 10:\n",
    "        tissues_with_samples.append(tissue)\n",
    "        tissue_sample_counts[tissue] = len(loaded_tissue_samples)\n",
    "\n",
    "tissues_with_samples.sort(key=lambda x: tissue_sample_counts[x], reverse=True)\n",
    "\n",
    "if not tissues_with_samples:\n",
    "    print(\"No tissues have sufficient samples in the loaded data.\")"
   ]
  },
  {
   "cell_type": "code",
   "execution_count": 26,
   "id": "f142b902",
   "metadata": {},
   "outputs": [],
   "source": [
    "tissues = ['Muscle - Skeletal',\n",
    "     'Whole Blood',\n",
    "     'Skin - Sun Exposed (Lower leg)',\n",
    "     'Skin - Not Sun Exposed (Suprapubic)',\n",
    "     'Adipose - Subcutaneous',\n",
    "     'Thyroid',\n",
    "     'Artery - Tibial',\n",
    "     'Nerve - Tibial',\n",
    "     'Lung',\n",
    "     'Brain - Cerebellum',\n",
    "     'Heart - Atrial Appendage',\n",
    "     'Brain - Cortex',\n",
    "     'Adipose - Visceral (Omentum)']"
   ]
  },
  {
   "cell_type": "code",
   "execution_count": 28,
   "id": "d144b571",
   "metadata": {},
   "outputs": [
    {
     "name": "stdout",
     "output_type": "stream",
     "text": [
      "After RIN >= 5.6: 19828 samples\n",
      "After tissue filter (Muscle - Skeletal): 1019 samples\n",
      "   Extracted 1019 subject IDs from 1019 samples\n",
      "   Samples with valid subject IDs: 1019\n",
      "   Samples with phenotype data: 1019\n",
      "After age group filter (young): 653 samples\n",
      "After RIN >= 5.6: 19828 samples\n",
      "After tissue filter (Muscle - Skeletal): 1019 samples\n",
      "   Extracted 1019 subject IDs from 1019 samples\n",
      "   Samples with valid subject IDs: 1019\n",
      "   Samples with phenotype data: 1019\n",
      "After age group filter (old): 366 samples\n",
      "After RIN >= 5.6: 19828 samples\n",
      "After tissue filter (Whole Blood): 929 samples\n",
      "   Extracted 929 subject IDs from 929 samples\n",
      "   Samples with valid subject IDs: 929\n",
      "   Samples with phenotype data: 929\n",
      "After age group filter (young): 612 samples\n",
      "After RIN >= 5.6: 19828 samples\n",
      "After tissue filter (Whole Blood): 929 samples\n",
      "   Extracted 929 subject IDs from 929 samples\n",
      "   Samples with valid subject IDs: 929\n",
      "   Samples with phenotype data: 929\n",
      "After age group filter (old): 317 samples\n",
      "After RIN >= 5.6: 19828 samples\n",
      "After tissue filter (Skin - Sun Exposed (Lower leg)): 829 samples\n",
      "   Extracted 829 subject IDs from 829 samples\n",
      "   Samples with valid subject IDs: 829\n",
      "   Samples with phenotype data: 829\n",
      "After age group filter (young): 540 samples\n",
      "After RIN >= 5.6: 19828 samples\n",
      "After tissue filter (Skin - Sun Exposed (Lower leg)): 829 samples\n",
      "   Extracted 829 subject IDs from 829 samples\n",
      "   Samples with valid subject IDs: 829\n",
      "   Samples with phenotype data: 829\n",
      "After age group filter (old): 289 samples\n",
      "After RIN >= 5.6: 19828 samples\n",
      "After tissue filter (Skin - Not Sun Exposed (Suprapubic)): 636 samples\n",
      "   Extracted 636 subject IDs from 636 samples\n",
      "   Samples with valid subject IDs: 636\n",
      "   Samples with phenotype data: 636\n",
      "After age group filter (young): 400 samples\n",
      "After RIN >= 5.6: 19828 samples\n",
      "After tissue filter (Skin - Not Sun Exposed (Suprapubic)): 636 samples\n",
      "   Extracted 636 subject IDs from 636 samples\n",
      "   Samples with valid subject IDs: 636\n",
      "   Samples with phenotype data: 636\n",
      "After age group filter (old): 236 samples\n",
      "After RIN >= 5.6: 19828 samples\n",
      "After tissue filter (Adipose - Subcutaneous): 757 samples\n",
      "   Extracted 757 subject IDs from 757 samples\n",
      "   Samples with valid subject IDs: 757\n",
      "   Samples with phenotype data: 757\n",
      "After age group filter (young): 500 samples\n",
      "After RIN >= 5.6: 19828 samples\n",
      "After tissue filter (Adipose - Subcutaneous): 757 samples\n",
      "   Extracted 757 subject IDs from 757 samples\n",
      "   Samples with valid subject IDs: 757\n",
      "   Samples with phenotype data: 757\n",
      "After age group filter (old): 257 samples\n",
      "After RIN >= 5.6: 19828 samples\n",
      "After tissue filter (Thyroid): 766 samples\n",
      "   Extracted 766 subject IDs from 766 samples\n",
      "   Samples with valid subject IDs: 766\n",
      "   Samples with phenotype data: 766\n",
      "After age group filter (young): 503 samples\n",
      "After RIN >= 5.6: 19828 samples\n",
      "After tissue filter (Thyroid): 766 samples\n",
      "   Extracted 766 subject IDs from 766 samples\n",
      "   Samples with valid subject IDs: 766\n",
      "   Samples with phenotype data: 766\n",
      "After age group filter (old): 263 samples\n",
      "After RIN >= 5.6: 19828 samples\n",
      "After tissue filter (Artery - Tibial): 763 samples\n",
      "   Extracted 763 subject IDs from 763 samples\n",
      "   Samples with valid subject IDs: 763\n",
      "   Samples with phenotype data: 763\n",
      "After age group filter (young): 525 samples\n",
      "After RIN >= 5.6: 19828 samples\n",
      "After tissue filter (Artery - Tibial): 763 samples\n",
      "   Extracted 763 subject IDs from 763 samples\n",
      "   Samples with valid subject IDs: 763\n",
      "   Samples with phenotype data: 763\n",
      "After age group filter (old): 238 samples\n",
      "After RIN >= 5.6: 19828 samples\n",
      "After tissue filter (Nerve - Tibial): 703 samples\n",
      "   Extracted 703 subject IDs from 703 samples\n",
      "   Samples with valid subject IDs: 703\n",
      "   Samples with phenotype data: 703\n",
      "After age group filter (young): 455 samples\n",
      "After RIN >= 5.6: 19828 samples\n",
      "After tissue filter (Nerve - Tibial): 703 samples\n",
      "   Extracted 703 subject IDs from 703 samples\n",
      "   Samples with valid subject IDs: 703\n",
      "   Samples with phenotype data: 703\n",
      "After age group filter (old): 248 samples\n",
      "After RIN >= 5.6: 19828 samples\n",
      "After tissue filter (Lung): 765 samples\n",
      "   Extracted 765 subject IDs from 765 samples\n",
      "   Samples with valid subject IDs: 765\n",
      "   Samples with phenotype data: 765\n",
      "After age group filter (young): 492 samples\n",
      "After RIN >= 5.6: 19828 samples\n",
      "After tissue filter (Lung): 765 samples\n",
      "   Extracted 765 subject IDs from 765 samples\n",
      "   Samples with valid subject IDs: 765\n",
      "   Samples with phenotype data: 765\n",
      "After age group filter (old): 273 samples\n",
      "After RIN >= 5.6: 19828 samples\n",
      "After tissue filter (Brain - Cerebellum): 297 samples\n",
      "   Extracted 297 subject IDs from 297 samples\n",
      "   Samples with valid subject IDs: 297\n",
      "   Samples with phenotype data: 297\n",
      "After age group filter (young): 137 samples\n",
      "After RIN >= 5.6: 19828 samples\n",
      "After tissue filter (Brain - Cerebellum): 297 samples\n",
      "   Extracted 297 subject IDs from 297 samples\n",
      "   Samples with valid subject IDs: 297\n",
      "   Samples with phenotype data: 297\n",
      "After age group filter (old): 160 samples\n",
      "After RIN >= 5.6: 19828 samples\n",
      "After tissue filter (Heart - Atrial Appendage): 447 samples\n",
      "   Extracted 447 subject IDs from 447 samples\n",
      "   Samples with valid subject IDs: 447\n",
      "   Samples with phenotype data: 447\n",
      "After age group filter (young): 260 samples\n",
      "After RIN >= 5.6: 19828 samples\n",
      "After tissue filter (Heart - Atrial Appendage): 447 samples\n",
      "   Extracted 447 subject IDs from 447 samples\n",
      "   Samples with valid subject IDs: 447\n",
      "   Samples with phenotype data: 447\n",
      "After age group filter (old): 187 samples\n",
      "After RIN >= 5.6: 19828 samples\n",
      "   Samples with phenotype data: 766\n",
      "After age group filter (young): 503 samples\n",
      "After RIN >= 5.6: 19828 samples\n",
      "After tissue filter (Thyroid): 766 samples\n",
      "   Extracted 766 subject IDs from 766 samples\n",
      "   Samples with valid subject IDs: 766\n",
      "   Samples with phenotype data: 766\n",
      "After age group filter (old): 263 samples\n",
      "After RIN >= 5.6: 19828 samples\n",
      "After tissue filter (Artery - Tibial): 763 samples\n",
      "   Extracted 763 subject IDs from 763 samples\n",
      "   Samples with valid subject IDs: 763\n",
      "   Samples with phenotype data: 763\n",
      "After age group filter (young): 525 samples\n",
      "After RIN >= 5.6: 19828 samples\n",
      "After tissue filter (Artery - Tibial): 763 samples\n",
      "   Extracted 763 subject IDs from 763 samples\n",
      "   Samples with valid subject IDs: 763\n",
      "   Samples with phenotype data: 763\n",
      "After age group filter (old): 238 samples\n",
      "After RIN >= 5.6: 19828 samples\n",
      "After tissue filter (Nerve - Tibial): 703 samples\n",
      "   Extracted 703 subject IDs from 703 samples\n",
      "   Samples with valid subject IDs: 703\n",
      "   Samples with phenotype data: 703\n",
      "After age group filter (young): 455 samples\n",
      "After RIN >= 5.6: 19828 samples\n",
      "After tissue filter (Nerve - Tibial): 703 samples\n",
      "   Extracted 703 subject IDs from 703 samples\n",
      "   Samples with valid subject IDs: 703\n",
      "   Samples with phenotype data: 703\n",
      "After age group filter (old): 248 samples\n",
      "After RIN >= 5.6: 19828 samples\n",
      "After tissue filter (Lung): 765 samples\n",
      "   Extracted 765 subject IDs from 765 samples\n",
      "   Samples with valid subject IDs: 765\n",
      "   Samples with phenotype data: 765\n",
      "After age group filter (young): 492 samples\n",
      "After RIN >= 5.6: 19828 samples\n",
      "After tissue filter (Lung): 765 samples\n",
      "   Extracted 765 subject IDs from 765 samples\n",
      "   Samples with valid subject IDs: 765\n",
      "   Samples with phenotype data: 765\n",
      "After age group filter (old): 273 samples\n",
      "After RIN >= 5.6: 19828 samples\n",
      "After tissue filter (Brain - Cerebellum): 297 samples\n",
      "   Extracted 297 subject IDs from 297 samples\n",
      "   Samples with valid subject IDs: 297\n",
      "   Samples with phenotype data: 297\n",
      "After age group filter (young): 137 samples\n",
      "After RIN >= 5.6: 19828 samples\n",
      "After tissue filter (Brain - Cerebellum): 297 samples\n",
      "   Extracted 297 subject IDs from 297 samples\n",
      "   Samples with valid subject IDs: 297\n",
      "   Samples with phenotype data: 297\n",
      "After age group filter (old): 160 samples\n",
      "After RIN >= 5.6: 19828 samples\n",
      "After tissue filter (Heart - Atrial Appendage): 447 samples\n",
      "   Extracted 447 subject IDs from 447 samples\n",
      "   Samples with valid subject IDs: 447\n",
      "   Samples with phenotype data: 447\n",
      "After age group filter (young): 260 samples\n",
      "After RIN >= 5.6: 19828 samples\n",
      "After tissue filter (Heart - Atrial Appendage): 447 samples\n",
      "   Extracted 447 subject IDs from 447 samples\n",
      "   Samples with valid subject IDs: 447\n",
      "   Samples with phenotype data: 447\n",
      "After age group filter (old): 187 samples\n",
      "After RIN >= 5.6: 19828 samples\n",
      "After tissue filter (Brain - Cortex): 320 samples\n",
      "   Extracted 320 subject IDs from 320 samples\n",
      "   Samples with valid subject IDs: 320\n",
      "   Samples with phenotype data: 320\n",
      "After age group filter (young): 148 samples\n",
      "After RIN >= 5.6: 19828 samples\n",
      "After tissue filter (Brain - Cortex): 320 samples\n",
      "   Extracted 320 subject IDs from 320 samples\n",
      "   Samples with valid subject IDs: 320\n",
      "   Samples with phenotype data: 320\n",
      "After age group filter (old): 172 samples\n",
      "After RIN >= 5.6: 19828 samples\n",
      "After tissue filter (Adipose - Visceral (Omentum)): 560 samples\n",
      "   Extracted 560 subject IDs from 560 samples\n",
      "   Samples with valid subject IDs: 560\n",
      "   Samples with phenotype data: 560\n",
      "After age group filter (young): 369 samples\n",
      "After RIN >= 5.6: 19828 samples\n",
      "After tissue filter (Adipose - Visceral (Omentum)): 560 samples\n",
      "   Extracted 560 subject IDs from 560 samples\n",
      "   Samples with valid subject IDs: 560\n",
      "   Samples with phenotype data: 560\n",
      "After age group filter (old): 191 samples\n",
      "After tissue filter (Brain - Cortex): 320 samples\n",
      "   Extracted 320 subject IDs from 320 samples\n",
      "   Samples with valid subject IDs: 320\n",
      "   Samples with phenotype data: 320\n",
      "After age group filter (young): 148 samples\n",
      "After RIN >= 5.6: 19828 samples\n",
      "After tissue filter (Brain - Cortex): 320 samples\n",
      "   Extracted 320 subject IDs from 320 samples\n",
      "   Samples with valid subject IDs: 320\n",
      "   Samples with phenotype data: 320\n",
      "After age group filter (old): 172 samples\n",
      "After RIN >= 5.6: 19828 samples\n",
      "After tissue filter (Adipose - Visceral (Omentum)): 560 samples\n",
      "   Extracted 560 subject IDs from 560 samples\n",
      "   Samples with valid subject IDs: 560\n",
      "   Samples with phenotype data: 560\n",
      "After age group filter (young): 369 samples\n",
      "After RIN >= 5.6: 19828 samples\n",
      "After tissue filter (Adipose - Visceral (Omentum)): 560 samples\n",
      "   Extracted 560 subject IDs from 560 samples\n",
      "   Samples with valid subject IDs: 560\n",
      "   Samples with phenotype data: 560\n",
      "After age group filter (old): 191 samples\n"
     ]
    }
   ],
   "source": [
    "tissue_samples = {}\n",
    "groups = ['young', 'old']\n",
    "\n",
    "for tissue in tissues:\n",
    "    tissue_samples[tissue] = {}\n",
    "    for group in groups:\n",
    "        tissue_samples[tissue][group] = reader.filter_samples_by_metadata(\n",
    "            sample_attrs, \n",
    "            subject_attrs,\n",
    "            tissue = tissue, \n",
    "            age_group = group, \n",
    "            min_rin = 5.6\n",
    "        )\n"
   ]
  },
  {
   "cell_type": "code",
   "execution_count": 30,
   "id": "88bf8596",
   "metadata": {},
   "outputs": [],
   "source": [
    "# Save the filtered samples for later use\n",
    "available_samples = set(expression_df.columns)\n",
    "for tissue, groups in tissue_samples.items():\n",
    "    for group, samples in groups.items():\n",
    "        path = Path(f\"filtered_samples/{tissue.replace(' ', '_')}_{group}.csv\")\n",
    "        path.parent.mkdir(parents=True, exist_ok=True)\n",
    "        pd.Series(samples).to_csv(path, index=False)\n"
   ]
  },
  {
   "cell_type": "code",
   "execution_count": 19,
   "id": "d653856a",
   "metadata": {},
   "outputs": [
    {
     "name": "stdout",
     "output_type": "stream",
     "text": [
      "Total samples in expression data: 17382\n",
      "Young muscle samples found: 653\n",
      "Young muscle samples available in data: 510\n",
      "Old muscle samples found: 366\n",
      "Old muscle samples available in data: 292\n",
      "Total muscle samples we can use: 802\n"
     ]
    }
   ],
   "source": [
    "# Check what samples we actually have in the expression data\n",
    "available_samples = set(expression_df.columns)\n",
    "print(f\"Total samples in expression data: {len(available_samples)}\")\n",
    "\n",
    "# Check how many of the muscle samples are actually in our data\n",
    "young_muscle_available = [s for s in young_muscle_samples_filtered if s in available_samples]\n",
    "old_muscle_available = [s for s in old_muscle_samples_filtered if s in available_samples]\n",
    "\n",
    "print(f\"Young muscle samples found: {len(young_muscle_samples_filtered)}\")\n",
    "print(f\"Young muscle samples available in data: {len(young_muscle_available)}\")\n",
    "print(f\"Old muscle samples found: {len(old_muscle_samples_filtered)}\")\n",
    "print(f\"Old muscle samples available in data: {len(old_muscle_available)}\")\n",
    "\n",
    "# Use only the available samples\n",
    "all_muscle_samples = young_muscle_available + old_muscle_available\n",
    "print(f\"Total muscle samples we can use: {len(all_muscle_samples)}\")"
   ]
  },
  {
   "cell_type": "code",
   "execution_count": 20,
   "id": "3d62ac76",
   "metadata": {},
   "outputs": [
    {
     "name": "stdout",
     "output_type": "stream",
     "text": [
      "Using 802 muscle samples (510 young, 292 old)\n"
     ]
    }
   ],
   "source": [
    "# Use only samples that are actually available in our expression data\n",
    "available_samples = set(expression_df.columns)\n",
    "young_muscle_available = [s for s in young_muscle_samples_filtered if s in available_samples]\n",
    "old_muscle_available = [s for s in old_muscle_samples_filtered if s in available_samples]\n",
    "all_muscle_samples = young_muscle_available + old_muscle_available\n",
    "\n",
    "print(f\"Using {len(all_muscle_samples)} muscle samples ({len(young_muscle_available)} young, {len(old_muscle_available)} old)\")\n",
    "\n",
    "preprocessor = DataPreprocessor()"
   ]
  },
  {
   "cell_type": "code",
   "execution_count": 18,
   "id": "04bafce8",
   "metadata": {},
   "outputs": [
    {
     "data": {
      "application/vnd.microsoft.datawrangler.viewer.v0+json": {
       "columns": [
        {
         "name": "index",
         "rawType": "object",
         "type": "string"
        },
        {
         "name": "GTEX-111CU-2026-SM-5GZZC",
         "rawType": "float64",
         "type": "float"
        }
       ],
       "ref": "f9d7551e-a6ab-4cad-a875-a305c034d70d",
       "rows": [
        [
         "ENSG00000223972.5",
         "0.0"
        ],
        [
         "ENSG00000227232.5",
         "1.036"
        ],
        [
         "ENSG00000278267.1",
         "0.0"
        ],
        [
         "ENSG00000243485.5",
         "0.0"
        ],
        [
         "ENSG00000237613.2",
         "0.0"
        ],
        [
         "ENSG00000268020.3",
         "0.0"
        ],
        [
         "ENSG00000240361.1",
         "0.1098"
        ],
        [
         "ENSG00000186092.4",
         "0.0"
        ],
        [
         "ENSG00000238009.6",
         "0.03345"
        ],
        [
         "ENSG00000233750.3",
         "0.0"
        ],
        [
         "ENSG00000268903.1",
         "0.4101"
        ],
        [
         "ENSG00000269981.1",
         "0.4845"
        ],
        [
         "ENSG00000239906.1",
         "0.0"
        ],
        [
         "ENSG00000241860.6",
         "0.04998"
        ],
        [
         "ENSG00000222623.1",
         "0.0"
        ],
        [
         "ENSG00000241599.1",
         "0.0"
        ],
        [
         "ENSG00000279928.2",
         "0.0"
        ],
        [
         "ENSG00000279457.4",
         "2.019"
        ],
        [
         "ENSG00000273874.1",
         "0.0"
        ],
        [
         "ENSG00000228463.9",
         "0.3458"
        ],
        [
         "ENSG00000236679.2",
         "0.0"
        ],
        [
         "ENSG00000236743.1",
         "0.0"
        ],
        [
         "ENSG00000236601.2",
         "0.0"
        ],
        [
         "ENSG00000237094.11",
         "0.1216"
        ],
        [
         "ENSG00000269732.1",
         "0.09477"
        ],
        [
         "ENSG00000278566.1",
         "0.0"
        ],
        [
         "ENSG00000233653.3",
         "0.0"
        ],
        [
         "ENSG00000250575.1",
         "0.0"
        ],
        [
         "ENSG00000278757.1",
         "0.0"
        ],
        [
         "ENSG00000230021.8",
         "0.06416"
        ],
        [
         "ENSG00000235146.2",
         "0.0"
        ],
        [
         "ENSG00000225972.1",
         "14.7"
        ],
        [
         "ENSG00000225630.1",
         "1203.0"
        ],
        [
         "ENSG00000237973.1",
         "89.6"
        ],
        [
         "ENSG00000229344.1",
         "18.11"
        ],
        [
         "ENSG00000240409.1",
         "30.98"
        ],
        [
         "ENSG00000248527.1",
         "5558.0"
        ],
        [
         "ENSG00000198744.5",
         "22.11"
        ],
        [
         "ENSG00000268663.1",
         "0.0"
        ],
        [
         "ENSG00000273547.1",
         "0.03664"
        ],
        [
         "ENSG00000283574.1",
         "0.0"
        ],
        [
         "ENSG00000229376.3",
         "0.07015"
        ],
        [
         "ENSG00000228327.3",
         "0.5669"
        ],
        [
         "ENSG00000223181.1",
         "0.0"
        ],
        [
         "ENSG00000229905.1",
         "0.0"
        ],
        [
         "ENSG00000237491.8",
         "0.212"
        ],
        [
         "ENSG00000230092.7",
         "0.3233"
        ],
        [
         "ENSG00000177757.2",
         "0.08563"
        ],
        [
         "ENSG00000228794.8",
         "9.765"
        ],
        [
         "ENSG00000225880.5",
         "1.208"
        ]
       ],
       "shape": {
        "columns": 1,
        "rows": 56200
       }
      },
      "text/plain": [
       "ENSG00000223972.5        0.000\n",
       "ENSG00000227232.5        1.036\n",
       "ENSG00000278267.1        0.000\n",
       "ENSG00000243485.5        0.000\n",
       "ENSG00000237613.2        0.000\n",
       "                       ...    \n",
       "ENSG00000198695.2    17820.000\n",
       "ENSG00000210194.1       59.830\n",
       "ENSG00000198727.2    33600.000\n",
       "ENSG00000210195.2        1.042\n",
       "ENSG00000210196.2        2.024\n",
       "Name: GTEX-111CU-2026-SM-5GZZC, Length: 56200, dtype: float64"
      ]
     },
     "execution_count": 18,
     "metadata": {},
     "output_type": "execute_result"
    }
   ],
   "source": [
    "expression_df[all_muscle_samples[0]]"
   ]
  },
  {
   "cell_type": "code",
   "execution_count": 25,
   "id": "18a00242",
   "metadata": {},
   "outputs": [
    {
     "name": "stdout",
     "output_type": "stream",
     "text": [
      "Starting expression data preprocessing pipeline...\n",
      "Filtered to 19124 protein coding genes (from 56200)\n",
      "Applying log2(TPM + 1) transformation...\n",
      "Filtered to 13638 genes (removed 5486 genes with low expression in > 20.0% of samples)\n",
      "Filtered to 19124 protein coding genes (from 56200)\n",
      "Applying log2(TPM + 1) transformation...\n",
      "Filtered to 13638 genes (removed 5486 genes with low expression in > 20.0% of samples)\n",
      "Filtered to 12325 genes with variance >= 0.1\n",
      "Detecting outliers using TruncatedSVD with 20 components...\n",
      "Filtered to 12325 genes with variance >= 0.1\n",
      "Detecting outliers using TruncatedSVD with 20 components...\n",
      "Detected 4 outlier samples\n",
      "SVD explained variance ratio: [0.92396903 0.0163448  0.00956844 0.0042763  0.00315717]\n",
      "Removed 4 outlier samples\n",
      "Remaining samples: 798\n",
      "Applying quantile normalization...\n",
      "Detected 4 outlier samples\n",
      "SVD explained variance ratio: [0.92396903 0.0163448  0.00956844 0.0042763  0.00315717]\n",
      "Removed 4 outlier samples\n",
      "Remaining samples: 798\n",
      "Applying quantile normalization...\n",
      "Quantile normalization completed\n",
      "Preprocessing completed. Final shape: (12325, 798)\n",
      "Steps applied: ['protein_coding_filter', 'log_transform', 'low_expression_filter', 'low_variance_filter', 'outlier_removal', 'quantile_normalization']\n",
      "Quantile normalization completed\n",
      "Preprocessing completed. Final shape: (12325, 798)\n",
      "Steps applied: ['protein_coding_filter', 'log_transform', 'low_expression_filter', 'low_variance_filter', 'outlier_removal', 'quantile_normalization']\n"
     ]
    }
   ],
   "source": [
    "filtered_muscle_expression_df = expression_df[all_muscle_samples]\n",
    "\n",
    "processed_df, processed_info = preprocessor.preprocess_expression_data(\n",
    "    filtered_muscle_expression_df,\n",
    "    protein_coding,\n",
    "    apply_log = True,\n",
    "    filter_low_expr = True,\n",
    "    filter_low_var = True,\n",
    "    detect_outliers = True,\n",
    "    min_expression=0.1,\n",
    "    min_variance=0.1,\n",
    "    outlier_contamination=0.05\n",
    ")"
   ]
  },
  {
   "cell_type": "code",
   "execution_count": 24,
   "id": "71d05339",
   "metadata": {},
   "outputs": [
    {
     "data": {
      "application/vnd.microsoft.datawrangler.viewer.v0+json": {
       "columns": [
        {
         "name": "index",
         "rawType": "object",
         "type": "string"
        },
        {
         "name": "GTEX-111CU-2026-SM-5GZZC",
         "rawType": "float64",
         "type": "float"
        },
        {
         "name": "GTEX-113JC-2726-SM-5EGIS",
         "rawType": "float64",
         "type": "float"
        },
        {
         "name": "GTEX-117YW-2426-SM-5Q5AE",
         "rawType": "float64",
         "type": "float"
        },
        {
         "name": "GTEX-117YX-2526-SM-5EQ4Q",
         "rawType": "float64",
         "type": "float"
        },
        {
         "name": "GTEX-1192X-0426-SM-5GIEE",
         "rawType": "float64",
         "type": "float"
        },
        {
         "name": "GTEX-11DXW-0726-SM-5H12J",
         "rawType": "float64",
         "type": "float"
        },
        {
         "name": "GTEX-11DXZ-2426-SM-5N9DT",
         "rawType": "float64",
         "type": "float"
        },
        {
         "name": "GTEX-11DZ1-0926-SM-5EQ5R",
         "rawType": "float64",
         "type": "float"
        },
        {
         "name": "GTEX-11EM3-2126-SM-5H11M",
         "rawType": "float64",
         "type": "float"
        },
        {
         "name": "GTEX-11EQ9-2126-SM-5PNVW",
         "rawType": "float64",
         "type": "float"
        },
        {
         "name": "GTEX-11H98-0326-SM-5HL4S",
         "rawType": "float64",
         "type": "float"
        },
        {
         "name": "GTEX-11I78-2426-SM-5A5K9",
         "rawType": "float64",
         "type": "float"
        },
        {
         "name": "GTEX-11LCK-1226-SM-5Q5AM",
         "rawType": "float64",
         "type": "float"
        },
        {
         "name": "GTEX-11NSD-2026-SM-5HL5U",
         "rawType": "float64",
         "type": "float"
        },
        {
         "name": "GTEX-11NUK-0226-SM-5A5L4",
         "rawType": "float64",
         "type": "float"
        },
        {
         "name": "GTEX-11O72-0326-SM-5986D",
         "rawType": "float64",
         "type": "float"
        },
        {
         "name": "GTEX-11P7K-1926-SM-5GU6R",
         "rawType": "float64",
         "type": "float"
        },
        {
         "name": "GTEX-11P81-2526-SM-5GU6H",
         "rawType": "float64",
         "type": "float"
        },
        {
         "name": "GTEX-11P82-1826-SM-5PNYJ",
         "rawType": "float64",
         "type": "float"
        },
        {
         "name": "GTEX-11PRG-0326-SM-5GU53",
         "rawType": "float64",
         "type": "float"
        },
        {
         "name": "GTEX-11TT1-2326-SM-5GU6N",
         "rawType": "float64",
         "type": "float"
        },
        {
         "name": "GTEX-11UD1-0326-SM-5EQKX",
         "rawType": "float64",
         "type": "float"
        },
        {
         "name": "GTEX-11UD2-0326-SM-5EQLE",
         "rawType": "float64",
         "type": "float"
        },
        {
         "name": "GTEX-11VI4-1926-SM-5CVLI",
         "rawType": "float64",
         "type": "float"
        },
        {
         "name": "GTEX-11WQK-0726-SM-5GU71",
         "rawType": "float64",
         "type": "float"
        },
        {
         "name": "GTEX-11XUK-2226-SM-5CVLL",
         "rawType": "float64",
         "type": "float"
        },
        {
         "name": "GTEX-11ZUS-1426-SM-5FQSP",
         "rawType": "float64",
         "type": "float"
        },
        {
         "name": "GTEX-11ZVC-2726-SM-5FQSZ",
         "rawType": "float64",
         "type": "float"
        },
        {
         "name": "GTEX-12126-0526-SM-5PNW4",
         "rawType": "float64",
         "type": "float"
        },
        {
         "name": "GTEX-12584-0526-SM-5FQTS",
         "rawType": "float64",
         "type": "float"
        },
        {
         "name": "GTEX-12C56-1926-SM-5FQUG",
         "rawType": "float64",
         "type": "float"
        },
        {
         "name": "GTEX-12KS4-0826-SM-5BC5R",
         "rawType": "float64",
         "type": "float"
        },
        {
         "name": "GTEX-12WSC-0326-SM-5EQ5E",
         "rawType": "float64",
         "type": "float"
        },
        {
         "name": "GTEX-12WSG-5016-SM-7SB84",
         "rawType": "float64",
         "type": "float"
        },
        {
         "name": "GTEX-12WSH-2526-SM-5CVNH",
         "rawType": "float64",
         "type": "float"
        },
        {
         "name": "GTEX-12WSJ-1726-SM-5LZVV",
         "rawType": "float64",
         "type": "float"
        },
        {
         "name": "GTEX-12WSL-2726-SM-5CVNL",
         "rawType": "float64",
         "type": "float"
        },
        {
         "name": "GTEX-12WSN-2526-SM-5LZU8",
         "rawType": "float64",
         "type": "float"
        },
        {
         "name": "GTEX-12ZZX-0326-SM-5DUVH",
         "rawType": "float64",
         "type": "float"
        },
        {
         "name": "GTEX-13111-2226-SM-5LZUE",
         "rawType": "float64",
         "type": "float"
        },
        {
         "name": "GTEX-13112-2626-SM-5BC66",
         "rawType": "float64",
         "type": "float"
        },
        {
         "name": "GTEX-1313W-0526-SM-5P9FZ",
         "rawType": "float64",
         "type": "float"
        },
        {
         "name": "GTEX-1314G-1726-SM-5LZUX",
         "rawType": "float64",
         "type": "float"
        },
        {
         "name": "GTEX-131XE-2726-SM-5P9G7",
         "rawType": "float64",
         "type": "float"
        },
        {
         "name": "GTEX-131XG-2326-SM-5HL8F",
         "rawType": "float64",
         "type": "float"
        },
        {
         "name": "GTEX-131XH-2726-SM-5GCO2",
         "rawType": "float64",
         "type": "float"
        },
        {
         "name": "GTEX-131XW-0326-SM-5KM1J",
         "rawType": "float64",
         "type": "float"
        },
        {
         "name": "GTEX-132AR-1026-SM-5PNVL",
         "rawType": "float64",
         "type": "float"
        },
        {
         "name": "GTEX-1339X-2426-SM-5KLYU",
         "rawType": "float64",
         "type": "float"
        },
        {
         "name": "GTEX-133LE-2026-SM-5K7WM",
         "rawType": "float64",
         "type": "float"
        },
        {
         "name": "GTEX-1399Q-2426-SM-5J2MO",
         "rawType": "float64",
         "type": "float"
        },
        {
         "name": "GTEX-1399R-2526-SM-5IFG2",
         "rawType": "float64",
         "type": "float"
        },
        {
         "name": "GTEX-1399S-2726-SM-5KM22",
         "rawType": "float64",
         "type": "float"
        },
        {
         "name": "GTEX-1399U-2526-SM-5L3DL",
         "rawType": "float64",
         "type": "float"
        },
        {
         "name": "GTEX-139D8-0726-SM-5P9GJ",
         "rawType": "float64",
         "type": "float"
        },
        {
         "name": "GTEX-139T4-0326-SM-5K7XN",
         "rawType": "float64",
         "type": "float"
        },
        {
         "name": "GTEX-139T6-2026-SM-5IFFL",
         "rawType": "float64",
         "type": "float"
        },
        {
         "name": "GTEX-139YR-2526-SM-5IJC6",
         "rawType": "float64",
         "type": "float"
        },
        {
         "name": "GTEX-13D11-2526-SM-5KM28",
         "rawType": "float64",
         "type": "float"
        },
        {
         "name": "GTEX-13FH7-2126-SM-5L3DJ",
         "rawType": "float64",
         "type": "float"
        },
        {
         "name": "GTEX-13FHP-0526-SM-5K7UY",
         "rawType": "float64",
         "type": "float"
        },
        {
         "name": "GTEX-13FTW-2326-SM-5K7YS",
         "rawType": "float64",
         "type": "float"
        },
        {
         "name": "GTEX-13FTX-2026-SM-5L3D6",
         "rawType": "float64",
         "type": "float"
        },
        {
         "name": "GTEX-13FTY-0226-SM-5IJBW",
         "rawType": "float64",
         "type": "float"
        },
        {
         "name": "GTEX-13FXS-0326-SM-5K7TV",
         "rawType": "float64",
         "type": "float"
        },
        {
         "name": "GTEX-13JUV-2326-SM-5IJCE",
         "rawType": "float64",
         "type": "float"
        },
        {
         "name": "GTEX-13N11-2726-SM-5L3ER",
         "rawType": "float64",
         "type": "float"
        },
        {
         "name": "GTEX-13NYB-2726-SM-5J2MT",
         "rawType": "float64",
         "type": "float"
        },
        {
         "name": "GTEX-13NZ9-0626-SM-5IJCO",
         "rawType": "float64",
         "type": "float"
        },
        {
         "name": "GTEX-13NZB-2626-SM-5J2M7",
         "rawType": "float64",
         "type": "float"
        },
        {
         "name": "GTEX-13O21-1726-SM-5MR5A",
         "rawType": "float64",
         "type": "float"
        },
        {
         "name": "GTEX-13O3P-0626-SM-5L3D5",
         "rawType": "float64",
         "type": "float"
        },
        {
         "name": "GTEX-13O3Q-2726-SM-5KM51",
         "rawType": "float64",
         "type": "float"
        },
        {
         "name": "GTEX-13OVJ-0226-SM-5L3GK",
         "rawType": "float64",
         "type": "float"
        },
        {
         "name": "GTEX-13OVK-1926-SM-6M48G",
         "rawType": "float64",
         "type": "float"
        },
        {
         "name": "GTEX-13OVL-1426-SM-5IJC1",
         "rawType": "float64",
         "type": "float"
        },
        {
         "name": "GTEX-13OW6-0626-SM-5L3IB",
         "rawType": "float64",
         "type": "float"
        },
        {
         "name": "GTEX-13OW7-0326-SM-5J1MP",
         "rawType": "float64",
         "type": "float"
        },
        {
         "name": "GTEX-13PL6-0326-SM-5IJCP",
         "rawType": "float64",
         "type": "float"
        },
        {
         "name": "GTEX-13PVQ-0326-SM-5K7YF",
         "rawType": "float64",
         "type": "float"
        },
        {
         "name": "GTEX-13QBU-2426-SM-5LU4L",
         "rawType": "float64",
         "type": "float"
        },
        {
         "name": "GTEX-13QJ3-0726-SM-5SI68",
         "rawType": "float64",
         "type": "float"
        },
        {
         "name": "GTEX-13RTK-1626-SM-5QGQS",
         "rawType": "float64",
         "type": "float"
        },
        {
         "name": "GTEX-13RTL-0326-SM-7LT89",
         "rawType": "float64",
         "type": "float"
        },
        {
         "name": "GTEX-13S86-2326-SM-5RQK1",
         "rawType": "float64",
         "type": "float"
        },
        {
         "name": "GTEX-13SLX-0326-SM-5Q5E4",
         "rawType": "float64",
         "type": "float"
        },
        {
         "name": "GTEX-13U4I-1826-SM-5IJD2",
         "rawType": "float64",
         "type": "float"
        },
        {
         "name": "GTEX-13VXT-0326-SM-5LU4U",
         "rawType": "float64",
         "type": "float"
        },
        {
         "name": "GTEX-13VXU-0326-SM-5LU36",
         "rawType": "float64",
         "type": "float"
        },
        {
         "name": "GTEX-13W46-0726-SM-5LU3Z",
         "rawType": "float64",
         "type": "float"
        },
        {
         "name": "GTEX-13X6H-2326-SM-7EWEB",
         "rawType": "float64",
         "type": "float"
        },
        {
         "name": "GTEX-13X6J-0326-SM-7EPGD",
         "rawType": "float64",
         "type": "float"
        },
        {
         "name": "GTEX-144FL-0326-SM-5O99O",
         "rawType": "float64",
         "type": "float"
        },
        {
         "name": "GTEX-144GL-0326-SM-5QGOY",
         "rawType": "float64",
         "type": "float"
        },
        {
         "name": "GTEX-144GM-2026-SM-5LU3D",
         "rawType": "float64",
         "type": "float"
        },
        {
         "name": "GTEX-144GN-2426-SM-5LU4R",
         "rawType": "float64",
         "type": "float"
        },
        {
         "name": "GTEX-145LT-1626-SM-5O992",
         "rawType": "float64",
         "type": "float"
        },
        {
         "name": "GTEX-145LU-2026-SM-5Q5E8",
         "rawType": "float64",
         "type": "float"
        },
        {
         "name": "GTEX-145LV-2326-SM-5LU8Z",
         "rawType": "float64",
         "type": "float"
        },
        {
         "name": "GTEX-145ME-2026-SM-5SIA5",
         "rawType": "float64",
         "type": "float"
        },
        {
         "name": "GTEX-145MG-0226-SM-5TDDB",
         "rawType": "float64",
         "type": "float"
        },
        {
         "name": "GTEX-145MH-0326-SM-5LU8H",
         "rawType": "float64",
         "type": "float"
        },
        {
         "name": "GTEX-145MN-2426-SM-5NQA5",
         "rawType": "float64",
         "type": "float"
        },
        {
         "name": "GTEX-146FH-0526-SM-5QGQ3",
         "rawType": "float64",
         "type": "float"
        },
        {
         "name": "GTEX-146FQ-0326-SM-5NQAX",
         "rawType": "float64",
         "type": "float"
        },
        {
         "name": "GTEX-147F3-0226-SM-5NQBV",
         "rawType": "float64",
         "type": "float"
        },
        {
         "name": "GTEX-147F4-0326-SM-5TDCK",
         "rawType": "float64",
         "type": "float"
        },
        {
         "name": "GTEX-14A5I-0326-SM-5NQ9J",
         "rawType": "float64",
         "type": "float"
        },
        {
         "name": "GTEX-14A6H-5019-SM-793DH",
         "rawType": "float64",
         "type": "float"
        },
        {
         "name": "GTEX-14ABY-0126-SM-62LDI",
         "rawType": "float64",
         "type": "float"
        },
        {
         "name": "GTEX-14AS3-2126-SM-5S2MK",
         "rawType": "float64",
         "type": "float"
        },
        {
         "name": "GTEX-14BIL-0326-SM-5SI9Q",
         "rawType": "float64",
         "type": "float"
        },
        {
         "name": "GTEX-14BMU-2026-SM-5S2W6",
         "rawType": "float64",
         "type": "float"
        },
        {
         "name": "GTEX-14BMV-0326-SM-5RQHW",
         "rawType": "float64",
         "type": "float"
        },
        {
         "name": "GTEX-14C38-0426-SM-5TDDZ",
         "rawType": "float64",
         "type": "float"
        },
        {
         "name": "GTEX-14C39-2426-SM-5S2U5",
         "rawType": "float64",
         "type": "float"
        },
        {
         "name": "GTEX-14DAR-1826-SM-664N1",
         "rawType": "float64",
         "type": "float"
        },
        {
         "name": "GTEX-14E1K-2326-SM-664MP",
         "rawType": "float64",
         "type": "float"
        },
        {
         "name": "GTEX-14E6C-1526-SM-664ND",
         "rawType": "float64",
         "type": "float"
        },
        {
         "name": "GTEX-14E6D-0326-SM-62LDX",
         "rawType": "float64",
         "type": "float"
        },
        {
         "name": "GTEX-14E6E-2026-SM-664N5",
         "rawType": "float64",
         "type": "float"
        },
        {
         "name": "GTEX-14H4A-0926-SM-5ZZUU",
         "rawType": "float64",
         "type": "float"
        },
        {
         "name": "GTEX-14ICL-1926-SM-5RQIZ",
         "rawType": "float64",
         "type": "float"
        },
        {
         "name": "GTEX-14JG1-0126-SM-5ZZUP",
         "rawType": "float64",
         "type": "float"
        },
        {
         "name": "GTEX-14JG6-2126-SM-6EU2F",
         "rawType": "float64",
         "type": "float"
        },
        {
         "name": "GTEX-14PJ2-0326-SM-6EU2Q",
         "rawType": "float64",
         "type": "float"
        },
        {
         "name": "GTEX-14PJ3-2026-SM-5ZZVK",
         "rawType": "float64",
         "type": "float"
        },
        {
         "name": "GTEX-14PJM-0426-SM-5ZZVN",
         "rawType": "float64",
         "type": "float"
        },
        {
         "name": "GTEX-14PJN-2126-SM-6AJBM",
         "rawType": "float64",
         "type": "float"
        },
        {
         "name": "GTEX-14PN4-0326-SM-6EU2N",
         "rawType": "float64",
         "type": "float"
        },
        {
         "name": "GTEX-14PQA-0526-SM-7KUFS",
         "rawType": "float64",
         "type": "float"
        },
        {
         "name": "GTEX-15CHR-2426-SM-7DUFX",
         "rawType": "float64",
         "type": "float"
        },
        {
         "name": "GTEX-15D79-0526-SM-6ETZP",
         "rawType": "float64",
         "type": "float"
        },
        {
         "name": "GTEX-15DDE-0526-SM-6ETZQ",
         "rawType": "float64",
         "type": "float"
        },
        {
         "name": "GTEX-15DZA-2026-SM-6PANE",
         "rawType": "float64",
         "type": "float"
        },
        {
         "name": "GTEX-15EO6-2826-SM-6PANB",
         "rawType": "float64",
         "type": "float"
        },
        {
         "name": "GTEX-15ER7-0226-SM-7KUEU",
         "rawType": "float64",
         "type": "float"
        },
        {
         "name": "GTEX-15ETS-0326-SM-6PANH",
         "rawType": "float64",
         "type": "float"
        },
        {
         "name": "GTEX-15F5U-1826-SM-6LLJF",
         "rawType": "float64",
         "type": "float"
        },
        {
         "name": "GTEX-15G1A-2026-SM-7KUFG",
         "rawType": "float64",
         "type": "float"
        },
        {
         "name": "GTEX-15RIF-2126-SM-7KUM8",
         "rawType": "float64",
         "type": "float"
        },
        {
         "name": "GTEX-15RIG-0426-SM-7KUF4",
         "rawType": "float64",
         "type": "float"
        },
        {
         "name": "GTEX-15RJ7-2426-SM-6M48L",
         "rawType": "float64",
         "type": "float"
        },
        {
         "name": "GTEX-15SB6-1826-SM-6PALN",
         "rawType": "float64",
         "type": "float"
        },
        {
         "name": "GTEX-15SDE-2326-SM-6PAL4",
         "rawType": "float64",
         "type": "float"
        },
        {
         "name": "GTEX-15SHU-0626-SM-7KUFH",
         "rawType": "float64",
         "type": "float"
        },
        {
         "name": "GTEX-15UF7-2226-SM-6PAMQ",
         "rawType": "float64",
         "type": "float"
        },
        {
         "name": "GTEX-15UKP-0326-SM-7KUFP",
         "rawType": "float64",
         "type": "float"
        },
        {
         "name": "GTEX-169BO-1526-SM-9KNVR",
         "rawType": "float64",
         "type": "float"
        },
        {
         "name": "GTEX-16AAH-1826-SM-7939D",
         "rawType": "float64",
         "type": "float"
        },
        {
         "name": "GTEX-16BQI-0326-SM-6PAM4",
         "rawType": "float64",
         "type": "float"
        },
        {
         "name": "GTEX-16MTA-2026-SM-7KUL3",
         "rawType": "float64",
         "type": "float"
        },
        {
         "name": "GTEX-16NGA-1926-SM-7LTA6",
         "rawType": "float64",
         "type": "float"
        },
        {
         "name": "GTEX-16NPV-2426-SM-6M482",
         "rawType": "float64",
         "type": "float"
        },
        {
         "name": "GTEX-16NPX-0626-SM-7KULB",
         "rawType": "float64",
         "type": "float"
        },
        {
         "name": "GTEX-16YQH-0426-SM-7KUL7",
         "rawType": "float64",
         "type": "float"
        },
        {
         "name": "GTEX-17EUY-0626-SM-793BE",
         "rawType": "float64",
         "type": "float"
        },
        {
         "name": "GTEX-17EVP-1326-SM-7DHMR",
         "rawType": "float64",
         "type": "float"
        },
        {
         "name": "GTEX-17F97-0526-SM-7DUF8",
         "rawType": "float64",
         "type": "float"
        },
        {
         "name": "GTEX-17F98-1626-SM-7938R",
         "rawType": "float64",
         "type": "float"
        },
        {
         "name": "GTEX-17F9E-0226-SM-79OKK",
         "rawType": "float64",
         "type": "float"
        },
        {
         "name": "GTEX-17HG3-2726-SM-7DHL5",
         "rawType": "float64",
         "type": "float"
        },
        {
         "name": "GTEX-17HGU-0626-SM-7939Y",
         "rawType": "float64",
         "type": "float"
        },
        {
         "name": "GTEX-17HHE-2126-SM-7DHLO",
         "rawType": "float64",
         "type": "float"
        },
        {
         "name": "GTEX-17HHY-0326-SM-7938H",
         "rawType": "float64",
         "type": "float"
        },
        {
         "name": "GTEX-17HII-0426-SM-793A3",
         "rawType": "float64",
         "type": "float"
        },
        {
         "name": "GTEX-17KNJ-2426-SM-7DHLR",
         "rawType": "float64",
         "type": "float"
        },
        {
         "name": "GTEX-17MF6-2026-SM-7LG5I",
         "rawType": "float64",
         "type": "float"
        },
        {
         "name": "GTEX-17MFQ-1926-SM-793A6",
         "rawType": "float64",
         "type": "float"
        },
        {
         "name": "GTEX-183FY-0226-SM-7LG54",
         "rawType": "float64",
         "type": "float"
        },
        {
         "name": "GTEX-18465-0326-SM-7LTAD",
         "rawType": "float64",
         "type": "float"
        },
        {
         "name": "GTEX-18A67-0326-SM-7LG5X",
         "rawType": "float64",
         "type": "float"
        },
        {
         "name": "GTEX-18A7A-0626-SM-718BJ",
         "rawType": "float64",
         "type": "float"
        },
        {
         "name": "GTEX-18D9A-1826-SM-718BK",
         "rawType": "float64",
         "type": "float"
        },
        {
         "name": "GTEX-18D9U-0626-SM-7LTA4",
         "rawType": "float64",
         "type": "float"
        },
        {
         "name": "GTEX-18QFQ-0326-SM-731C3",
         "rawType": "float64",
         "type": "float"
        },
        {
         "name": "GTEX-1A32A-0526-SM-731B9",
         "rawType": "float64",
         "type": "float"
        },
        {
         "name": "GTEX-1A3MV-2026-SM-718BU",
         "rawType": "float64",
         "type": "float"
        },
        {
         "name": "GTEX-1A8FM-0526-SM-7P8SF",
         "rawType": "float64",
         "type": "float"
        },
        {
         "name": "GTEX-1AMEY-1526-SM-73KYW",
         "rawType": "float64",
         "type": "float"
        },
        {
         "name": "GTEX-1AMFI-2226-SM-731C6",
         "rawType": "float64",
         "type": "float"
        },
        {
         "name": "GTEX-1AX9K-2726-SM-7DHMA",
         "rawType": "float64",
         "type": "float"
        },
        {
         "name": "GTEX-1AYD5-2226-SM-73KX3",
         "rawType": "float64",
         "type": "float"
        },
        {
         "name": "GTEX-1B8KE-2226-SM-7939K",
         "rawType": "float64",
         "type": "float"
        },
        {
         "name": "GTEX-1B8KZ-2126-SM-73KYG",
         "rawType": "float64",
         "type": "float"
        },
        {
         "name": "GTEX-1B8SG-0326-SM-73KXW",
         "rawType": "float64",
         "type": "float"
        },
        {
         "name": "GTEX-1B932-0526-SM-73KU7",
         "rawType": "float64",
         "type": "float"
        },
        {
         "name": "GTEX-1B933-0426-SM-7DHMC",
         "rawType": "float64",
         "type": "float"
        },
        {
         "name": "GTEX-1B97I-2026-SM-7DHN2",
         "rawType": "float64",
         "type": "float"
        },
        {
         "name": "GTEX-1B97J-1226-SM-7PBZR",
         "rawType": "float64",
         "type": "float"
        },
        {
         "name": "GTEX-1C2JI-2126-SM-793CG",
         "rawType": "float64",
         "type": "float"
        },
        {
         "name": "GTEX-1C475-1726-SM-73KVX",
         "rawType": "float64",
         "type": "float"
        },
        {
         "name": "GTEX-1C4CL-0326-SM-7DHMH",
         "rawType": "float64",
         "type": "float"
        },
        {
         "name": "GTEX-1C64N-0326-SM-7P8QC",
         "rawType": "float64",
         "type": "float"
        },
        {
         "name": "GTEX-1C6VQ-0326-SM-7DHMS",
         "rawType": "float64",
         "type": "float"
        },
        {
         "name": "GTEX-1CAMQ-0326-SM-7MXUI",
         "rawType": "float64",
         "type": "float"
        },
        {
         "name": "GTEX-1CAMR-1726-SM-793CU",
         "rawType": "float64",
         "type": "float"
        },
        {
         "name": "GTEX-1CAMS-0126-SM-79396",
         "rawType": "float64",
         "type": "float"
        },
        {
         "name": "GTEX-1CAV2-2426-SM-7P8QF",
         "rawType": "float64",
         "type": "float"
        },
        {
         "name": "GTEX-1CB4I-0326-SM-7DHMM",
         "rawType": "float64",
         "type": "float"
        },
        {
         "name": "GTEX-1E1VI-0426-SM-7DHN1",
         "rawType": "float64",
         "type": "float"
        },
        {
         "name": "GTEX-1E2YA-0526-SM-7P8RY",
         "rawType": "float64",
         "type": "float"
        },
        {
         "name": "GTEX-1EN7A-0326-SM-7P8T1",
         "rawType": "float64",
         "type": "float"
        },
        {
         "name": "GTEX-1EX96-1526-SM-7PBXK",
         "rawType": "float64",
         "type": "float"
        },
        {
         "name": "GTEX-1F48J-0526-SM-9WYSX",
         "rawType": "float64",
         "type": "float"
        },
        {
         "name": "GTEX-1F5PK-2626-SM-7RHH6",
         "rawType": "float64",
         "type": "float"
        },
        {
         "name": "GTEX-1F5PL-0426-SM-7P8PR",
         "rawType": "float64",
         "type": "float"
        },
        {
         "name": "GTEX-1F75A-0626-SM-7PBYI",
         "rawType": "float64",
         "type": "float"
        },
        {
         "name": "GTEX-1F75B-0526-SM-7P8T5",
         "rawType": "float64",
         "type": "float"
        },
        {
         "name": "GTEX-1F75I-0526-SM-7RHI3",
         "rawType": "float64",
         "type": "float"
        },
        {
         "name": "GTEX-1F7RK-0326-SM-7RHH7",
         "rawType": "float64",
         "type": "float"
        },
        {
         "name": "GTEX-1FIGZ-1726-SM-9MQKS",
         "rawType": "float64",
         "type": "float"
        },
        {
         "name": "GTEX-1GF9U-2326-SM-7RHH9",
         "rawType": "float64",
         "type": "float"
        },
        {
         "name": "GTEX-1GF9X-2126-SM-7PBXN",
         "rawType": "float64",
         "type": "float"
        },
        {
         "name": "GTEX-1GMR2-2126-SM-7P8TX",
         "rawType": "float64",
         "type": "float"
        },
        {
         "name": "GTEX-1GMR3-2126-SM-9WYTZ",
         "rawType": "float64",
         "type": "float"
        },
        {
         "name": "GTEX-1GMR8-0326-SM-9KNUO",
         "rawType": "float64",
         "type": "float"
        },
        {
         "name": "GTEX-1GMRU-0326-SM-9WYT6",
         "rawType": "float64",
         "type": "float"
        },
        {
         "name": "GTEX-1GN1U-2226-SM-9MQK1",
         "rawType": "float64",
         "type": "float"
        },
        {
         "name": "GTEX-1GN1W-0726-SM-9KNTV",
         "rawType": "float64",
         "type": "float"
        },
        {
         "name": "GTEX-1GPI7-0426-SM-7RHHP",
         "rawType": "float64",
         "type": "float"
        },
        {
         "name": "GTEX-1GZ2Q-0426-SM-9WPOU",
         "rawType": "float64",
         "type": "float"
        },
        {
         "name": "GTEX-1GZ4H-1626-SM-7PC3F",
         "rawType": "float64",
         "type": "float"
        },
        {
         "name": "GTEX-1GZ4I-0526-SM-9YFLX",
         "rawType": "float64",
         "type": "float"
        },
        {
         "name": "GTEX-1GZHY-0126-SM-9WYUQ",
         "rawType": "float64",
         "type": "float"
        },
        {
         "name": "GTEX-1H11D-0326-SM-9WG71",
         "rawType": "float64",
         "type": "float"
        },
        {
         "name": "GTEX-1H1DE-1726-SM-A9G3G",
         "rawType": "float64",
         "type": "float"
        },
        {
         "name": "GTEX-1H1E6-2126-SM-9KNVM",
         "rawType": "float64",
         "type": "float"
        },
        {
         "name": "GTEX-1H3VE-0126-SM-9WYTW",
         "rawType": "float64",
         "type": "float"
        },
        {
         "name": "GTEX-1H3VY-0326-SM-9WYU6",
         "rawType": "float64",
         "type": "float"
        },
        {
         "name": "GTEX-1H4P4-0626-SM-9YFKZ",
         "rawType": "float64",
         "type": "float"
        },
        {
         "name": "GTEX-1HB9E-0326-SM-D3LA5",
         "rawType": "float64",
         "type": "float"
        },
        {
         "name": "GTEX-1HBPH-0826-SM-ARZNB",
         "rawType": "float64",
         "type": "float"
        },
        {
         "name": "GTEX-1HBPI-0226-SM-ADEJ7",
         "rawType": "float64",
         "type": "float"
        },
        {
         "name": "GTEX-1HBPN-0526-SM-A9SM6",
         "rawType": "float64",
         "type": "float"
        },
        {
         "name": "GTEX-1HC8U-2626-SM-CNPPH",
         "rawType": "float64",
         "type": "float"
        },
        {
         "name": "GTEX-1HCU7-0426-SM-D3L8Q",
         "rawType": "float64",
         "type": "float"
        },
        {
         "name": "GTEX-1HCU9-1926-SM-9WYSE",
         "rawType": "float64",
         "type": "float"
        },
        {
         "name": "GTEX-1HCUA-2326-SM-ACKVJ",
         "rawType": "float64",
         "type": "float"
        },
        {
         "name": "GTEX-1HCVE-0326-SM-CGQEW",
         "rawType": "float64",
         "type": "float"
        },
        {
         "name": "GTEX-1HFI6-0426-SM-B2LXB",
         "rawType": "float64",
         "type": "float"
        },
        {
         "name": "GTEX-1HFI7-1926-SM-A96TQ",
         "rawType": "float64",
         "type": "float"
        },
        {
         "name": "GTEX-1HKZK-0226-SM-9WYUG",
         "rawType": "float64",
         "type": "float"
        },
        {
         "name": "GTEX-1HSGN-0326-SM-ACKXQ",
         "rawType": "float64",
         "type": "float"
        },
        {
         "name": "GTEX-1HSMQ-1326-SM-ADEHS",
         "rawType": "float64",
         "type": "float"
        },
        {
         "name": "GTEX-1HT8W-0326-SM-CM2SG",
         "rawType": "float64",
         "type": "float"
        },
        {
         "name": "GTEX-1I1GP-2126-SM-CKZPJ",
         "rawType": "float64",
         "type": "float"
        },
        {
         "name": "GTEX-1I1GQ-0326-SM-A9SKS",
         "rawType": "float64",
         "type": "float"
        },
        {
         "name": "GTEX-1I1GU-2126-SM-CGQF9",
         "rawType": "float64",
         "type": "float"
        },
        {
         "name": "GTEX-1I4MK-2326-SM-ADEHR",
         "rawType": "float64",
         "type": "float"
        },
        {
         "name": "GTEX-1I6K6-0326-SM-CJI4A",
         "rawType": "float64",
         "type": "float"
        },
        {
         "name": "GTEX-1I6K7-0326-SM-B2LXO",
         "rawType": "float64",
         "type": "float"
        },
        {
         "name": "GTEX-1ICLY-0326-SM-ARL7S",
         "rawType": "float64",
         "type": "float"
        },
        {
         "name": "GTEX-1IDJC-2026-SM-ADEIK",
         "rawType": "float64",
         "type": "float"
        },
        {
         "name": "GTEX-1IDJD-1326-SM-CM2TQ",
         "rawType": "float64",
         "type": "float"
        },
        {
         "name": "GTEX-1IDJE-2426-SM-ACKWF",
         "rawType": "float64",
         "type": "float"
        },
        {
         "name": "GTEX-1IDJF-0326-SM-ADEIG",
         "rawType": "float64",
         "type": "float"
        },
        {
         "name": "GTEX-1IE54-0326-SM-ARZMD",
         "rawType": "float64",
         "type": "float"
        },
        {
         "name": "GTEX-1IOXB-0326-SM-CL55M",
         "rawType": "float64",
         "type": "float"
        },
        {
         "name": "GTEX-1J1OQ-0426-SM-A9SLI",
         "rawType": "float64",
         "type": "float"
        },
        {
         "name": "GTEX-1J1R8-2326-SM-CKZPS",
         "rawType": "float64",
         "type": "float"
        },
        {
         "name": "GTEX-1JKYN-1826-SM-ARZMZ",
         "rawType": "float64",
         "type": "float"
        },
        {
         "name": "GTEX-1JKYR-0326-SM-CNPOL",
         "rawType": "float64",
         "type": "float"
        },
        {
         "name": "GTEX-1JMLX-0326-SM-CM2RP",
         "rawType": "float64",
         "type": "float"
        },
        {
         "name": "GTEX-1JMPY-1226-SM-CJI3A",
         "rawType": "float64",
         "type": "float"
        },
        {
         "name": "GTEX-1JMPZ-0126-SM-CNPOZ",
         "rawType": "float64",
         "type": "float"
        },
        {
         "name": "GTEX-1JMQI-2126-SM-CM2SC",
         "rawType": "float64",
         "type": "float"
        },
        {
         "name": "GTEX-1JMQJ-0126-SM-E6CI2",
         "rawType": "float64",
         "type": "float"
        },
        {
         "name": "GTEX-1JMQL-0126-SM-CY8HN",
         "rawType": "float64",
         "type": "float"
        },
        {
         "name": "GTEX-1JN76-0326-SM-ARZNJ",
         "rawType": "float64",
         "type": "float"
        },
        {
         "name": "GTEX-1K2DA-2226-SM-CGQGM",
         "rawType": "float64",
         "type": "float"
        },
        {
         "name": "GTEX-1K2DU-2526-SM-D3L8V",
         "rawType": "float64",
         "type": "float"
        },
        {
         "name": "GTEX-1K9T9-0326-SM-EWRNQ",
         "rawType": "float64",
         "type": "float"
        },
        {
         "name": "GTEX-1KAFJ-2326-SM-D3L8Z",
         "rawType": "float64",
         "type": "float"
        },
        {
         "name": "GTEX-1KANA-0926-SM-D3L9K",
         "rawType": "float64",
         "type": "float"
        },
        {
         "name": "GTEX-1KANB-0126-SM-E6CJT",
         "rawType": "float64",
         "type": "float"
        },
        {
         "name": "GTEX-1KANC-1626-SM-E6CIA",
         "rawType": "float64",
         "type": "float"
        },
        {
         "name": "GTEX-1KD4Q-0326-SM-E9TJA",
         "rawType": "float64",
         "type": "float"
        },
        {
         "name": "GTEX-1KD5A-0726-SM-DIPEO",
         "rawType": "float64",
         "type": "float"
        },
        {
         "name": "GTEX-1KWVE-0926-SM-CXZKP",
         "rawType": "float64",
         "type": "float"
        },
        {
         "name": "GTEX-1L5NE-2226-SM-CXZKS",
         "rawType": "float64",
         "type": "float"
        },
        {
         "name": "GTEX-1LB8K-0126-SM-EVYCN",
         "rawType": "float64",
         "type": "float"
        },
        {
         "name": "GTEX-1LBAC-0326-SM-DIPF1",
         "rawType": "float64",
         "type": "float"
        },
        {
         "name": "GTEX-1LG7Y-0126-SM-E6CJ8",
         "rawType": "float64",
         "type": "float"
        },
        {
         "name": "GTEX-1LG7Z-2126-SM-CXKYU",
         "rawType": "float64",
         "type": "float"
        },
        {
         "name": "GTEX-1LGOU-2126-SM-DIPFG",
         "rawType": "float64",
         "type": "float"
        },
        {
         "name": "GTEX-1LGRB-2626-SM-CNPPR",
         "rawType": "float64",
         "type": "float"
        },
        {
         "name": "GTEX-1LH75-2626-SM-E9TKL",
         "rawType": "float64",
         "type": "float"
        },
        {
         "name": "GTEX-1LNCM-1226-SM-E9U5C",
         "rawType": "float64",
         "type": "float"
        },
        {
         "name": "GTEX-1LSNL-0126-SM-EWRNR",
         "rawType": "float64",
         "type": "float"
        },
        {
         "name": "GTEX-1LSNM-2326-SM-EWRO8",
         "rawType": "float64",
         "type": "float"
        },
        {
         "name": "GTEX-1LVA9-0326-SM-DLHBU",
         "rawType": "float64",
         "type": "float"
        },
        {
         "name": "GTEX-1LVAM-0326-SM-DIPFL",
         "rawType": "float64",
         "type": "float"
        },
        {
         "name": "GTEX-1LVAN-0526-SM-CNNQ1",
         "rawType": "float64",
         "type": "float"
        },
        {
         "name": "GTEX-1M5QR-1326-SM-EWROC",
         "rawType": "float64",
         "type": "float"
        },
        {
         "name": "GTEX-1MA7W-1826-SM-DIPFP",
         "rawType": "float64",
         "type": "float"
        },
        {
         "name": "GTEX-1MCC2-2726-SM-EWRN3",
         "rawType": "float64",
         "type": "float"
        },
        {
         "name": "GTEX-1MCYP-2026-SM-DTXE4",
         "rawType": "float64",
         "type": "float"
        },
        {
         "name": "GTEX-1MJIX-2126-SM-E9J3A",
         "rawType": "float64",
         "type": "float"
        },
        {
         "name": "GTEX-1MJK3-1426-SM-E9TK1",
         "rawType": "float64",
         "type": "float"
        },
        {
         "name": "GTEX-1N2DV-0526-SM-DTX8W",
         "rawType": "float64",
         "type": "float"
        },
        {
         "name": "GTEX-1N2DW-0426-SM-E9TK4",
         "rawType": "float64",
         "type": "float"
        },
        {
         "name": "GTEX-1NHNU-1226-SM-DTX8I",
         "rawType": "float64",
         "type": "float"
        },
        {
         "name": "GTEX-1NUQO-0726-SM-E9J3K",
         "rawType": "float64",
         "type": "float"
        },
        {
         "name": "GTEX-1O9I2-0526-SM-EYYXI",
         "rawType": "float64",
         "type": "float"
        },
        {
         "name": "GTEX-1P4AB-0326-SM-EXUT3",
         "rawType": "float64",
         "type": "float"
        },
        {
         "name": "GTEX-1PBJJ-0326-SM-E8VNT",
         "rawType": "float64",
         "type": "float"
        },
        {
         "name": "GTEX-1PDJ9-0526-SM-DTXDL",
         "rawType": "float64",
         "type": "float"
        },
        {
         "name": "GTEX-1PIEJ-0326-SM-EVYB5",
         "rawType": "float64",
         "type": "float"
        },
        {
         "name": "GTEX-1PIGE-0226-SM-E76OT",
         "rawType": "float64",
         "type": "float"
        },
        {
         "name": "GTEX-1PIIG-0126-SM-E9J46",
         "rawType": "float64",
         "type": "float"
        },
        {
         "name": "GTEX-1PPH7-2526-SM-E76OJ",
         "rawType": "float64",
         "type": "float"
        },
        {
         "name": "GTEX-1PPH8-0326-SM-E76PR",
         "rawType": "float64",
         "type": "float"
        },
        {
         "name": "GTEX-1QAET-2026-SM-E9J3S",
         "rawType": "float64",
         "type": "float"
        },
        {
         "name": "GTEX-1QCLY-0426-SM-E8VOH",
         "rawType": "float64",
         "type": "float"
        },
        {
         "name": "GTEX-1QP28-0526-SM-E8VNR",
         "rawType": "float64",
         "type": "float"
        },
        {
         "name": "GTEX-1QP2A-0526-SM-E8VN5",
         "rawType": "float64",
         "type": "float"
        },
        {
         "name": "GTEX-1QP66-1626-SM-E76PC",
         "rawType": "float64",
         "type": "float"
        },
        {
         "name": "GTEX-1QP67-1826-SM-DTX8D",
         "rawType": "float64",
         "type": "float"
        },
        {
         "name": "GTEX-1QP6S-0426-SM-DTXG4",
         "rawType": "float64",
         "type": "float"
        },
        {
         "name": "GTEX-1QP9N-1926-SM-E6CPY",
         "rawType": "float64",
         "type": "float"
        },
        {
         "name": "GTEX-1QW4Y-1726-SM-EWRN1",
         "rawType": "float64",
         "type": "float"
        },
        {
         "name": "GTEX-1R7EV-2026-SM-DTX83",
         "rawType": "float64",
         "type": "float"
        },
        {
         "name": "GTEX-1R9JW-2426-SM-DTXFI",
         "rawType": "float64",
         "type": "float"
        },
        {
         "name": "GTEX-1R9K5-0326-SM-EWRNG",
         "rawType": "float64",
         "type": "float"
        },
        {
         "name": "GTEX-1R9PM-2226-SM-E8VOC",
         "rawType": "float64",
         "type": "float"
        },
        {
         "name": "GTEX-1R9PN-1826-SM-E8VO4",
         "rawType": "float64",
         "type": "float"
        },
        {
         "name": "GTEX-1RAZA-0526-SM-E76R2",
         "rawType": "float64",
         "type": "float"
        },
        {
         "name": "GTEX-1RAZQ-0426-SM-DTXFQ",
         "rawType": "float64",
         "type": "float"
        },
        {
         "name": "GTEX-1RAZR-0326-SM-EWRNM",
         "rawType": "float64",
         "type": "float"
        },
        {
         "name": "GTEX-1S5ZA-0526-SM-EWRO1",
         "rawType": "float64",
         "type": "float"
        },
        {
         "name": "GTEX-1S82U-1426-SM-E6CJL",
         "rawType": "float64",
         "type": "float"
        },
        {
         "name": "GTEX-1S82Y-2226-SM-EWRNV",
         "rawType": "float64",
         "type": "float"
        },
        {
         "name": "GTEX-1S83E-2126-SM-EWRO6",
         "rawType": "float64",
         "type": "float"
        },
        {
         "name": "GTEX-NFK9-0626-SM-2HMIV",
         "rawType": "float64",
         "type": "float"
        },
        {
         "name": "GTEX-O5YT-1626-SM-32PK6",
         "rawType": "float64",
         "type": "float"
        },
        {
         "name": "GTEX-OHPK-1626-SM-2YUN3",
         "rawType": "float64",
         "type": "float"
        },
        {
         "name": "GTEX-OIZG-1326-SM-2HMIQ",
         "rawType": "float64",
         "type": "float"
        },
        {
         "name": "GTEX-OIZH-1626-SM-2HMKI",
         "rawType": "float64",
         "type": "float"
        },
        {
         "name": "GTEX-OIZI-0626-SM-2XCEH",
         "rawType": "float64",
         "type": "float"
        },
        {
         "name": "GTEX-OOBK-1626-SM-2HMKG",
         "rawType": "float64",
         "type": "float"
        },
        {
         "name": "GTEX-OXRK-1826-SM-2HMJE",
         "rawType": "float64",
         "type": "float"
        },
        {
         "name": "GTEX-OXRL-1626-SM-2YUMU",
         "rawType": "float64",
         "type": "float"
        },
        {
         "name": "GTEX-OXRN-1326-SM-3LK5V",
         "rawType": "float64",
         "type": "float"
        },
        {
         "name": "GTEX-P44G-0526-SM-2XCD1",
         "rawType": "float64",
         "type": "float"
        },
        {
         "name": "GTEX-P44H-0426-SM-2XCEZ",
         "rawType": "float64",
         "type": "float"
        },
        {
         "name": "GTEX-P4PP-1626-SM-2HMJF",
         "rawType": "float64",
         "type": "float"
        },
        {
         "name": "GTEX-P4QT-1626-SM-DHXIR",
         "rawType": "float64",
         "type": "float"
        },
        {
         "name": "GTEX-P78B-1626-SM-5SI85",
         "rawType": "float64",
         "type": "float"
        },
        {
         "name": "GTEX-PLZ4-0926-SM-2S1OI",
         "rawType": "float64",
         "type": "float"
        },
        {
         "name": "GTEX-PLZ5-1726-SM-2I5F6",
         "rawType": "float64",
         "type": "float"
        },
        {
         "name": "GTEX-PLZ6-1526-SM-2S1OC",
         "rawType": "float64",
         "type": "float"
        },
        {
         "name": "GTEX-POMQ-1926-SM-3NB1Y",
         "rawType": "float64",
         "type": "float"
        },
        {
         "name": "GTEX-PSDG-0426-SM-5SI86",
         "rawType": "float64",
         "type": "float"
        },
        {
         "name": "GTEX-PW2O-1726-SM-2S1OO",
         "rawType": "float64",
         "type": "float"
        },
        {
         "name": "GTEX-PWCY-2026-SM-5SI8R",
         "rawType": "float64",
         "type": "float"
        },
        {
         "name": "GTEX-PWN1-1626-SM-2S1OL",
         "rawType": "float64",
         "type": "float"
        },
        {
         "name": "GTEX-PX3G-1626-SM-2S1PT",
         "rawType": "float64",
         "type": "float"
        },
        {
         "name": "GTEX-Q2AG-0426-SM-2S1PU",
         "rawType": "float64",
         "type": "float"
        },
        {
         "name": "GTEX-Q2AH-1826-SM-2S1Q2",
         "rawType": "float64",
         "type": "float"
        },
        {
         "name": "GTEX-Q2AI-1526-SM-3GIJ3",
         "rawType": "float64",
         "type": "float"
        },
        {
         "name": "GTEX-Q734-2026-SM-3GADA",
         "rawType": "float64",
         "type": "float"
        },
        {
         "name": "GTEX-QCQG-2126-SM-DTXFV",
         "rawType": "float64",
         "type": "float"
        },
        {
         "name": "GTEX-QDT8-0526-SM-3NMD8",
         "rawType": "float64",
         "type": "float"
        },
        {
         "name": "GTEX-QDVJ-1926-SM-2S1PJ",
         "rawType": "float64",
         "type": "float"
        },
        {
         "name": "GTEX-QDVN-2426-SM-2S1Q4",
         "rawType": "float64",
         "type": "float"
        },
        {
         "name": "GTEX-QEG4-0626-SM-2S1OY",
         "rawType": "float64",
         "type": "float"
        },
        {
         "name": "GTEX-QEG5-0426-SM-2I5GJ",
         "rawType": "float64",
         "type": "float"
        },
        {
         "name": "GTEX-QEL4-0626-SM-3GIJM",
         "rawType": "float64",
         "type": "float"
        },
        {
         "name": "GTEX-QESD-1626-SM-2S1RB",
         "rawType": "float64",
         "type": "float"
        },
        {
         "name": "GTEX-QLQW-1326-SM-2S1QS",
         "rawType": "float64",
         "type": "float"
        },
        {
         "name": "GTEX-QV31-1426-SM-2S1QD",
         "rawType": "float64",
         "type": "float"
        },
        {
         "name": "GTEX-QV44-2026-SM-2S1RD",
         "rawType": "float64",
         "type": "float"
        },
        {
         "name": "GTEX-QXCU-1726-SM-2TC6L",
         "rawType": "float64",
         "type": "float"
        },
        {
         "name": "GTEX-R3RS-0526-SM-3GADG",
         "rawType": "float64",
         "type": "float"
        },
        {
         "name": "GTEX-R53T-1826-SM-3GIJX",
         "rawType": "float64",
         "type": "float"
        },
        {
         "name": "GTEX-R55C-1726-SM-3GADJ",
         "rawType": "float64",
         "type": "float"
        },
        {
         "name": "GTEX-R55D-0626-SM-3GAD5",
         "rawType": "float64",
         "type": "float"
        },
        {
         "name": "GTEX-R55E-0526-SM-2TC6B",
         "rawType": "float64",
         "type": "float"
        },
        {
         "name": "GTEX-R55G-2326-SM-2TC61",
         "rawType": "float64",
         "type": "float"
        },
        {
         "name": "GTEX-RM2N-1626-SM-2TF5N",
         "rawType": "float64",
         "type": "float"
        },
        {
         "name": "GTEX-RN64-0326-SM-2TC5J",
         "rawType": "float64",
         "type": "float"
        },
        {
         "name": "GTEX-RNOR-0526-SM-2TF4O",
         "rawType": "float64",
         "type": "float"
        },
        {
         "name": "GTEX-RU1J-1726-SM-2TF5S",
         "rawType": "float64",
         "type": "float"
        },
        {
         "name": "GTEX-RU72-1326-SM-2TF6T",
         "rawType": "float64",
         "type": "float"
        },
        {
         "name": "GTEX-RUSQ-1726-SM-2TF68",
         "rawType": "float64",
         "type": "float"
        },
        {
         "name": "GTEX-RWSA-0726-SM-2XCBE",
         "rawType": "float64",
         "type": "float"
        },
        {
         "name": "GTEX-S32W-2326-SM-2XCAW",
         "rawType": "float64",
         "type": "float"
        },
        {
         "name": "GTEX-S33H-2226-SM-DKPOP",
         "rawType": "float64",
         "type": "float"
        },
        {
         "name": "GTEX-SE5C-1826-SM-2XCE4",
         "rawType": "float64",
         "type": "float"
        },
        {
         "name": "GTEX-SIU8-0526-SM-2XCDP",
         "rawType": "float64",
         "type": "float"
        },
        {
         "name": "GTEX-SN8G-0326-SM-32PLG",
         "rawType": "float64",
         "type": "float"
        },
        {
         "name": "GTEX-SNMC-1426-SM-2XCFM",
         "rawType": "float64",
         "type": "float"
        },
        {
         "name": "GTEX-SNOS-1526-SM-32PLW",
         "rawType": "float64",
         "type": "float"
        },
        {
         "name": "GTEX-T2IS-2626-SM-32QPP",
         "rawType": "float64",
         "type": "float"
        },
        {
         "name": "GTEX-T5JC-0626-SM-3NMA6",
         "rawType": "float64",
         "type": "float"
        },
        {
         "name": "GTEX-T5JW-1826-SM-3GAE1",
         "rawType": "float64",
         "type": "float"
        },
        {
         "name": "GTEX-T6MN-0526-SM-32PMS",
         "rawType": "float64",
         "type": "float"
        },
        {
         "name": "GTEX-T8EM-1326-SM-3DB7G",
         "rawType": "float64",
         "type": "float"
        },
        {
         "name": "GTEX-TKQ1-1426-SM-4GICK",
         "rawType": "float64",
         "type": "float"
        },
        {
         "name": "GTEX-TKQ2-0826-SM-33HB6",
         "rawType": "float64",
         "type": "float"
        },
        {
         "name": "GTEX-TML8-1826-SM-32QOR",
         "rawType": "float64",
         "type": "float"
        },
        {
         "name": "GTEX-TMMY-0426-SM-33HBB",
         "rawType": "float64",
         "type": "float"
        },
        {
         "name": "GTEX-U3ZG-0326-SM-47JXN",
         "rawType": "float64",
         "type": "float"
        },
        {
         "name": "GTEX-U3ZH-1926-SM-4DXTR",
         "rawType": "float64",
         "type": "float"
        },
        {
         "name": "GTEX-U3ZM-1226-SM-3DB9G",
         "rawType": "float64",
         "type": "float"
        },
        {
         "name": "GTEX-U3ZN-2226-SM-3DB88",
         "rawType": "float64",
         "type": "float"
        },
        {
         "name": "GTEX-U4B1-1626-SM-3DB8N",
         "rawType": "float64",
         "type": "float"
        },
        {
         "name": "GTEX-U8XE-0726-SM-3DB8O",
         "rawType": "float64",
         "type": "float"
        },
        {
         "name": "GTEX-UJHI-1726-SM-3DB9B",
         "rawType": "float64",
         "type": "float"
        },
        {
         "name": "GTEX-UJMC-1826-SM-3GADT",
         "rawType": "float64",
         "type": "float"
        },
        {
         "name": "GTEX-UPJH-0526-SM-4IHK8",
         "rawType": "float64",
         "type": "float"
        },
        {
         "name": "GTEX-V1D1-2426-SM-3GAER",
         "rawType": "float64",
         "type": "float"
        },
        {
         "name": "GTEX-VJWN-0426-SM-3GIJI",
         "rawType": "float64",
         "type": "float"
        },
        {
         "name": "GTEX-VUSG-2626-SM-4KKZI",
         "rawType": "float64",
         "type": "float"
        },
        {
         "name": "GTEX-W5WG-1926-SM-4KKZK",
         "rawType": "float64",
         "type": "float"
        },
        {
         "name": "GTEX-WEY5-2026-SM-CYPRC",
         "rawType": "float64",
         "type": "float"
        },
        {
         "name": "GTEX-WFG7-2226-SM-3GIKP",
         "rawType": "float64",
         "type": "float"
        },
        {
         "name": "GTEX-WFG8-2426-SM-3GILL",
         "rawType": "float64",
         "type": "float"
        },
        {
         "name": "GTEX-WFON-2326-SM-3LK7M",
         "rawType": "float64",
         "type": "float"
        },
        {
         "name": "GTEX-WHPG-2226-SM-3NMBO",
         "rawType": "float64",
         "type": "float"
        },
        {
         "name": "GTEX-WHSB-1826-SM-3TW8M",
         "rawType": "float64",
         "type": "float"
        },
        {
         "name": "GTEX-WHSE-0526-SM-5GZZD",
         "rawType": "float64",
         "type": "float"
        },
        {
         "name": "GTEX-WK11-2526-SM-3NM9Y",
         "rawType": "float64",
         "type": "float"
        },
        {
         "name": "GTEX-WL46-0626-SM-3LK7R",
         "rawType": "float64",
         "type": "float"
        },
        {
         "name": "GTEX-WOFM-1326-SM-3MJFR",
         "rawType": "float64",
         "type": "float"
        },
        {
         "name": "GTEX-WRHK-1626-SM-3MJFH",
         "rawType": "float64",
         "type": "float"
        },
        {
         "name": "GTEX-WRHU-0826-SM-3MJFN",
         "rawType": "float64",
         "type": "float"
        },
        {
         "name": "GTEX-WWTW-0626-SM-4MVNS",
         "rawType": "float64",
         "type": "float"
        },
        {
         "name": "GTEX-WWYW-0526-SM-3NB2W",
         "rawType": "float64",
         "type": "float"
        },
        {
         "name": "GTEX-WXYG-2526-SM-3NB3F",
         "rawType": "float64",
         "type": "float"
        },
        {
         "name": "GTEX-WY7C-2526-SM-3NB2N",
         "rawType": "float64",
         "type": "float"
        },
        {
         "name": "GTEX-WYJK-1726-SM-3NM9U",
         "rawType": "float64",
         "type": "float"
        },
        {
         "name": "GTEX-WYVS-2326-SM-3NMAI",
         "rawType": "float64",
         "type": "float"
        },
        {
         "name": "GTEX-WZTO-0826-SM-3NM8Q",
         "rawType": "float64",
         "type": "float"
        },
        {
         "name": "GTEX-X261-0326-SM-3NMD4",
         "rawType": "float64",
         "type": "float"
        },
        {
         "name": "GTEX-X5EB-2326-SM-46MW5",
         "rawType": "float64",
         "type": "float"
        },
        {
         "name": "GTEX-X88G-0326-SM-47JZ4",
         "rawType": "float64",
         "type": "float"
        },
        {
         "name": "GTEX-X8HC-0526-SM-4E3JA",
         "rawType": "float64",
         "type": "float"
        },
        {
         "name": "GTEX-XAJ8-1026-SM-47JY9",
         "rawType": "float64",
         "type": "float"
        },
        {
         "name": "GTEX-XBEC-0626-SM-4QARY",
         "rawType": "float64",
         "type": "float"
        },
        {
         "name": "GTEX-XBEW-1026-SM-4QARV",
         "rawType": "float64",
         "type": "float"
        },
        {
         "name": "GTEX-XGQ4-2326-SM-4AT53",
         "rawType": "float64",
         "type": "float"
        },
        {
         "name": "GTEX-XPT6-2026-SM-4B64V",
         "rawType": "float64",
         "type": "float"
        },
        {
         "name": "GTEX-XPVG-2526-SM-4B66D",
         "rawType": "float64",
         "type": "float"
        },
        {
         "name": "GTEX-XQ3S-0426-SM-4BOOA",
         "rawType": "float64",
         "type": "float"
        },
        {
         "name": "GTEX-XQ8I-0626-SM-4BOPT",
         "rawType": "float64",
         "type": "float"
        },
        {
         "name": "GTEX-XUW1-0826-SM-4BOP6",
         "rawType": "float64",
         "type": "float"
        },
        {
         "name": "GTEX-XUYS-0326-SM-47JX2",
         "rawType": "float64",
         "type": "float"
        },
        {
         "name": "GTEX-XUZC-2126-SM-4BRW8",
         "rawType": "float64",
         "type": "float"
        },
        {
         "name": "GTEX-XV7Q-2926-SM-4BRUL",
         "rawType": "float64",
         "type": "float"
        },
        {
         "name": "GTEX-Y111-0326-SM-4SOIX",
         "rawType": "float64",
         "type": "float"
        },
        {
         "name": "GTEX-Y114-2526-SM-4TT8M",
         "rawType": "float64",
         "type": "float"
        },
        {
         "name": "GTEX-Y3I4-2326-SM-4TT81",
         "rawType": "float64",
         "type": "float"
        },
        {
         "name": "GTEX-Y3IK-2626-SM-4WWDK",
         "rawType": "float64",
         "type": "float"
        },
        {
         "name": "GTEX-Y5LM-2126-SM-4VDSY",
         "rawType": "float64",
         "type": "float"
        },
        {
         "name": "GTEX-Y8E4-1026-SM-4VBQ5",
         "rawType": "float64",
         "type": "float"
        },
        {
         "name": "GTEX-Y8LW-2026-SM-4V6G8",
         "rawType": "float64",
         "type": "float"
        },
        {
         "name": "GTEX-Y9LG-1926-SM-5IFHY",
         "rawType": "float64",
         "type": "float"
        },
        {
         "name": "GTEX-YB5E-2226-SM-5IFJ5",
         "rawType": "float64",
         "type": "float"
        },
        {
         "name": "GTEX-YB5K-2326-SM-5IFHD",
         "rawType": "float64",
         "type": "float"
        },
        {
         "name": "GTEX-YBZK-0326-SM-59HLN",
         "rawType": "float64",
         "type": "float"
        },
        {
         "name": "GTEX-YEC3-2126-SM-4YCDB",
         "rawType": "float64",
         "type": "float"
        },
        {
         "name": "GTEX-YEC4-2226-SM-5IFJT",
         "rawType": "float64",
         "type": "float"
        },
        {
         "name": "GTEX-YF7O-2526-SM-5IFJX",
         "rawType": "float64",
         "type": "float"
        },
        {
         "name": "GTEX-YFC4-1026-SM-5RQJM",
         "rawType": "float64",
         "type": "float"
        },
        {
         "name": "GTEX-YFCO-1926-SM-4W212",
         "rawType": "float64",
         "type": "float"
        },
        {
         "name": "GTEX-YJ8O-2826-SM-5CVM4",
         "rawType": "float64",
         "type": "float"
        },
        {
         "name": "GTEX-Z93S-1326-SM-5CVMR",
         "rawType": "float64",
         "type": "float"
        },
        {
         "name": "GTEX-Z9EW-1726-SM-5CVMO",
         "rawType": "float64",
         "type": "float"
        },
        {
         "name": "GTEX-ZA64-2026-SM-5PNXT",
         "rawType": "float64",
         "type": "float"
        },
        {
         "name": "GTEX-ZAB4-0426-SM-5HL7N",
         "rawType": "float64",
         "type": "float"
        },
        {
         "name": "GTEX-ZAB5-2126-SM-5K7UN",
         "rawType": "float64",
         "type": "float"
        },
        {
         "name": "GTEX-ZAJG-0526-SM-5S2MT",
         "rawType": "float64",
         "type": "float"
        },
        {
         "name": "GTEX-ZAK1-0526-SM-5K7X4",
         "rawType": "float64",
         "type": "float"
        },
        {
         "name": "GTEX-ZC5H-0326-SM-5HL9F",
         "rawType": "float64",
         "type": "float"
        },
        {
         "name": "GTEX-ZDYS-1726-SM-5HL4Y",
         "rawType": "float64",
         "type": "float"
        },
        {
         "name": "GTEX-ZE7O-0326-SM-51MTH",
         "rawType": "float64",
         "type": "float"
        },
        {
         "name": "GTEX-ZEX8-2526-SM-DO92M",
         "rawType": "float64",
         "type": "float"
        },
        {
         "name": "GTEX-ZF2S-2126-SM-4WWAY",
         "rawType": "float64",
         "type": "float"
        },
        {
         "name": "GTEX-ZF3C-0326-SM-4WWBF",
         "rawType": "float64",
         "type": "float"
        },
        {
         "name": "GTEX-ZGAY-0726-SM-DO91O",
         "rawType": "float64",
         "type": "float"
        },
        {
         "name": "GTEX-ZLFU-2526-SM-DO91K",
         "rawType": "float64",
         "type": "float"
        },
        {
         "name": "GTEX-ZLWG-2126-SM-DO91M",
         "rawType": "float64",
         "type": "float"
        },
        {
         "name": "GTEX-ZP4G-2026-SM-57WEH",
         "rawType": "float64",
         "type": "float"
        },
        {
         "name": "GTEX-ZPIC-2526-SM-57WDP",
         "rawType": "float64",
         "type": "float"
        },
        {
         "name": "GTEX-ZT9X-1826-SM-57WDU",
         "rawType": "float64",
         "type": "float"
        },
        {
         "name": "GTEX-ZTPG-0126-SM-5O9AL",
         "rawType": "float64",
         "type": "float"
        },
        {
         "name": "GTEX-ZTX8-1626-SM-51MRY",
         "rawType": "float64",
         "type": "float"
        },
        {
         "name": "GTEX-ZUA1-0326-SM-5NQA3",
         "rawType": "float64",
         "type": "float"
        },
        {
         "name": "GTEX-ZV68-0526-SM-59HKI",
         "rawType": "float64",
         "type": "float"
        },
        {
         "name": "GTEX-ZV6S-2126-SM-4YCEM",
         "rawType": "float64",
         "type": "float"
        },
        {
         "name": "GTEX-ZV7C-2426-SM-5NQ7Q",
         "rawType": "float64",
         "type": "float"
        },
        {
         "name": "GTEX-ZVE1-0526-SM-5NQ71",
         "rawType": "float64",
         "type": "float"
        },
        {
         "name": "GTEX-ZVE2-0626-SM-5GU7I",
         "rawType": "float64",
         "type": "float"
        },
        {
         "name": "GTEX-ZVP2-2126-SM-5GU6E",
         "rawType": "float64",
         "type": "float"
        },
        {
         "name": "GTEX-ZVT2-2426-SM-57WCQ",
         "rawType": "float64",
         "type": "float"
        },
        {
         "name": "GTEX-ZVT4-0326-SM-51MS5",
         "rawType": "float64",
         "type": "float"
        },
        {
         "name": "GTEX-ZVTK-0626-SM-5GU6Y",
         "rawType": "float64",
         "type": "float"
        },
        {
         "name": "GTEX-ZVZO-0326-SM-5HL4N",
         "rawType": "float64",
         "type": "float"
        },
        {
         "name": "GTEX-ZVZP-2526-SM-57WBR",
         "rawType": "float64",
         "type": "float"
        },
        {
         "name": "GTEX-ZWKS-0326-SM-5NQ7G",
         "rawType": "float64",
         "type": "float"
        },
        {
         "name": "GTEX-ZY6K-2026-SM-5GZXQ",
         "rawType": "float64",
         "type": "float"
        },
        {
         "name": "GTEX-ZYFC-0526-SM-5GIDF",
         "rawType": "float64",
         "type": "float"
        },
        {
         "name": "GTEX-ZYFD-0326-SM-5NQ8I",
         "rawType": "float64",
         "type": "float"
        },
        {
         "name": "GTEX-ZYT6-1626-SM-5E45R",
         "rawType": "float64",
         "type": "float"
        },
        {
         "name": "GTEX-ZZ64-1526-SM-5E43K",
         "rawType": "float64",
         "type": "float"
        },
        {
         "name": "GTEX-ZZPT-0626-SM-5GZXT",
         "rawType": "float64",
         "type": "float"
        },
        {
         "name": "GTEX-ZZPU-2626-SM-5E45Y",
         "rawType": "float64",
         "type": "float"
        },
        {
         "name": "GTEX-1117F-0426-SM-5EGHI",
         "rawType": "float64",
         "type": "float"
        },
        {
         "name": "GTEX-111FC-0326-SM-5GZZ1",
         "rawType": "float64",
         "type": "float"
        },
        {
         "name": "GTEX-111VG-2626-SM-5GZY2",
         "rawType": "float64",
         "type": "float"
        },
        {
         "name": "GTEX-111YS-2326-SM-5987L",
         "rawType": "float64",
         "type": "float"
        },
        {
         "name": "GTEX-1122O-2426-SM-5GIDN",
         "rawType": "float64",
         "type": "float"
        },
        {
         "name": "GTEX-1128S-2426-SM-5H11B",
         "rawType": "float64",
         "type": "float"
        },
        {
         "name": "GTEX-117XS-2526-SM-5H11G",
         "rawType": "float64",
         "type": "float"
        },
        {
         "name": "GTEX-11DXX-2726-SM-5PNXO",
         "rawType": "float64",
         "type": "float"
        },
        {
         "name": "GTEX-11DXY-2726-SM-5GID2",
         "rawType": "float64",
         "type": "float"
        },
        {
         "name": "GTEX-11EI6-0326-SM-5EQ6G",
         "rawType": "float64",
         "type": "float"
        },
        {
         "name": "GTEX-11EMC-2626-SM-59864",
         "rawType": "float64",
         "type": "float"
        },
        {
         "name": "GTEX-11EQ8-0526-SM-5N9BC",
         "rawType": "float64",
         "type": "float"
        },
        {
         "name": "GTEX-11GS4-2526-SM-5A5KT",
         "rawType": "float64",
         "type": "float"
        },
        {
         "name": "GTEX-11GSO-2526-SM-5PNVX",
         "rawType": "float64",
         "type": "float"
        },
        {
         "name": "GTEX-11GSP-2726-SM-5A5LJ",
         "rawType": "float64",
         "type": "float"
        },
        {
         "name": "GTEX-11NV4-0326-SM-5HL58",
         "rawType": "float64",
         "type": "float"
        },
        {
         "name": "GTEX-11OC5-0326-SM-5PNW5",
         "rawType": "float64",
         "type": "float"
        },
        {
         "name": "GTEX-11OF3-2526-SM-5P9JL",
         "rawType": "float64",
         "type": "float"
        },
        {
         "name": "GTEX-11ONC-2426-SM-5GU7H",
         "rawType": "float64",
         "type": "float"
        },
        {
         "name": "GTEX-11TTK-0326-SM-5BC5N",
         "rawType": "float64",
         "type": "float"
        },
        {
         "name": "GTEX-11TUW-2526-SM-5EQKN",
         "rawType": "float64",
         "type": "float"
        },
        {
         "name": "GTEX-11WQC-2626-SM-5CVLF",
         "rawType": "float64",
         "type": "float"
        },
        {
         "name": "GTEX-11ZTS-0526-SM-5CVL9",
         "rawType": "float64",
         "type": "float"
        },
        {
         "name": "GTEX-11ZTT-2626-SM-5EQKK",
         "rawType": "float64",
         "type": "float"
        },
        {
         "name": "GTEX-11ZU8-2326-SM-5EQMJ",
         "rawType": "float64",
         "type": "float"
        },
        {
         "name": "GTEX-1211K-2126-SM-59HJZ",
         "rawType": "float64",
         "type": "float"
        },
        {
         "name": "GTEX-1212Z-2626-SM-5YY8P",
         "rawType": "float64",
         "type": "float"
        },
        {
         "name": "GTEX-12696-2826-SM-5FQTY",
         "rawType": "float64",
         "type": "float"
        },
        {
         "name": "GTEX-1269C-2626-SM-5EQ5C",
         "rawType": "float64",
         "type": "float"
        },
        {
         "name": "GTEX-12BJ1-2526-SM-5FQUE",
         "rawType": "float64",
         "type": "float"
        },
        {
         "name": "GTEX-12WSA-0726-SM-5FQU2",
         "rawType": "float64",
         "type": "float"
        },
        {
         "name": "GTEX-12WSD-0526-SM-5EQ6F",
         "rawType": "float64",
         "type": "float"
        },
        {
         "name": "GTEX-12WSF-0926-SM-6PALU",
         "rawType": "float64",
         "type": "float"
        },
        {
         "name": "GTEX-12WSM-0326-SM-5LZVI",
         "rawType": "float64",
         "type": "float"
        },
        {
         "name": "GTEX-12ZZY-0626-SM-5EQ5T",
         "rawType": "float64",
         "type": "float"
        },
        {
         "name": "GTEX-12ZZZ-0226-SM-59HKU",
         "rawType": "float64",
         "type": "float"
        },
        {
         "name": "GTEX-13113-5019-SM-7EPH2",
         "rawType": "float64",
         "type": "float"
        },
        {
         "name": "GTEX-131XF-2326-SM-5BC6B",
         "rawType": "float64",
         "type": "float"
        },
        {
         "name": "GTEX-131YS-0526-SM-5EGKJ",
         "rawType": "float64",
         "type": "float"
        },
        {
         "name": "GTEX-132NY-0726-SM-5KLZM",
         "rawType": "float64",
         "type": "float"
        },
        {
         "name": "GTEX-132Q8-0626-SM-5L3F3",
         "rawType": "float64",
         "type": "float"
        },
        {
         "name": "GTEX-1399T-2426-SM-5L3FJ",
         "rawType": "float64",
         "type": "float"
        },
        {
         "name": "GTEX-139T8-0526-SM-5KLZL",
         "rawType": "float64",
         "type": "float"
        },
        {
         "name": "GTEX-139TS-2626-SM-5J1MT",
         "rawType": "float64",
         "type": "float"
        },
        {
         "name": "GTEX-139TT-0426-SM-5IJFA",
         "rawType": "float64",
         "type": "float"
        },
        {
         "name": "GTEX-139TU-0526-SM-5J2M8",
         "rawType": "float64",
         "type": "float"
        },
        {
         "name": "GTEX-139UW-2626-SM-5K7W1",
         "rawType": "float64",
         "type": "float"
        },
        {
         "name": "GTEX-13CF2-2726-SM-5LZWW",
         "rawType": "float64",
         "type": "float"
        },
        {
         "name": "GTEX-13CF3-1826-SM-5J1NK",
         "rawType": "float64",
         "type": "float"
        },
        {
         "name": "GTEX-13FHO-0726-SM-5IJDG",
         "rawType": "float64",
         "type": "float"
        },
        {
         "name": "GTEX-13FTZ-2226-SM-5LZXI",
         "rawType": "float64",
         "type": "float"
        },
        {
         "name": "GTEX-13G51-2726-SM-5LZZ9",
         "rawType": "float64",
         "type": "float"
        },
        {
         "name": "GTEX-13IVO-0626-SM-5LZYJ",
         "rawType": "float64",
         "type": "float"
        },
        {
         "name": "GTEX-13JVG-0126-SM-5L3D3",
         "rawType": "float64",
         "type": "float"
        },
        {
         "name": "GTEX-13N1W-0526-SM-5MR4I",
         "rawType": "float64",
         "type": "float"
        },
        {
         "name": "GTEX-13N2G-2326-SM-5J1ON",
         "rawType": "float64",
         "type": "float"
        },
        {
         "name": "GTEX-13NYC-0726-SM-5J2NQ",
         "rawType": "float64",
         "type": "float"
        },
        {
         "name": "GTEX-13NYS-0326-SM-5MR4L",
         "rawType": "float64",
         "type": "float"
        },
        {
         "name": "GTEX-13NZA-0526-SM-5L3D7",
         "rawType": "float64",
         "type": "float"
        },
        {
         "name": "GTEX-13O1R-0526-SM-5K7XU",
         "rawType": "float64",
         "type": "float"
        },
        {
         "name": "GTEX-13O3O-0526-SM-5J1NL",
         "rawType": "float64",
         "type": "float"
        },
        {
         "name": "GTEX-13O61-2326-SM-5J1NJ",
         "rawType": "float64",
         "type": "float"
        },
        {
         "name": "GTEX-13OVG-2126-SM-5KM1K",
         "rawType": "float64",
         "type": "float"
        },
        {
         "name": "GTEX-13OVH-0626-SM-5L3EI",
         "rawType": "float64",
         "type": "float"
        },
        {
         "name": "GTEX-13OVI-1726-SM-5L3DW",
         "rawType": "float64",
         "type": "float"
        },
        {
         "name": "GTEX-13OW5-0326-SM-5L3HK",
         "rawType": "float64",
         "type": "float"
        },
        {
         "name": "GTEX-13OW8-1426-SM-5IJDT",
         "rawType": "float64",
         "type": "float"
        },
        {
         "name": "GTEX-13PDP-0326-SM-5K7XP",
         "rawType": "float64",
         "type": "float"
        },
        {
         "name": "GTEX-13PL7-0626-SM-5IJCD",
         "rawType": "float64",
         "type": "float"
        },
        {
         "name": "GTEX-13PLJ-0326-SM-5L3I7",
         "rawType": "float64",
         "type": "float"
        },
        {
         "name": "GTEX-13PVR-2526-SM-5RQIT",
         "rawType": "float64",
         "type": "float"
        },
        {
         "name": "GTEX-13QIC-1226-SM-5K7YR",
         "rawType": "float64",
         "type": "float"
        },
        {
         "name": "GTEX-13RTJ-2726-SM-73KVG",
         "rawType": "float64",
         "type": "float"
        },
        {
         "name": "GTEX-13S7M-0326-SM-5S2PH",
         "rawType": "float64",
         "type": "float"
        },
        {
         "name": "GTEX-13SLW-0326-SM-5RQK5",
         "rawType": "float64",
         "type": "float"
        },
        {
         "name": "GTEX-13W3W-2626-SM-5SIA2",
         "rawType": "float64",
         "type": "float"
        },
        {
         "name": "GTEX-13X6I-0526-SM-5QGP8",
         "rawType": "float64",
         "type": "float"
        },
        {
         "name": "GTEX-13X6K-0326-SM-5Q5D6",
         "rawType": "float64",
         "type": "float"
        },
        {
         "name": "GTEX-13YAN-0526-SM-5O9BE",
         "rawType": "float64",
         "type": "float"
        },
        {
         "name": "GTEX-1445S-0626-SM-5LU3C",
         "rawType": "float64",
         "type": "float"
        },
        {
         "name": "GTEX-144GO-1326-SM-5Q5EL",
         "rawType": "float64",
         "type": "float"
        },
        {
         "name": "GTEX-145LS-0526-SM-5LU8Y",
         "rawType": "float64",
         "type": "float"
        },
        {
         "name": "GTEX-145MI-0326-SM-5Q5EV",
         "rawType": "float64",
         "type": "float"
        },
        {
         "name": "GTEX-145MO-0726-SM-5NQB9",
         "rawType": "float64",
         "type": "float"
        },
        {
         "name": "GTEX-146FR-1726-SM-5Q5DT",
         "rawType": "float64",
         "type": "float"
        },
        {
         "name": "GTEX-14753-0526-SM-5QGPR",
         "rawType": "float64",
         "type": "float"
        },
        {
         "name": "GTEX-1477Z-1626-SM-5SIA8",
         "rawType": "float64",
         "type": "float"
        },
        {
         "name": "GTEX-147GR-0126-SM-62LER",
         "rawType": "float64",
         "type": "float"
        },
        {
         "name": "GTEX-147JS-0526-SM-5TDD3",
         "rawType": "float64",
         "type": "float"
        },
        {
         "name": "GTEX-148VJ-0326-SM-5QGQE",
         "rawType": "float64",
         "type": "float"
        },
        {
         "name": "GTEX-1497J-2626-SM-5SI9K",
         "rawType": "float64",
         "type": "float"
        },
        {
         "name": "GTEX-14A5H-0326-SM-5RQIB",
         "rawType": "float64",
         "type": "float"
        },
        {
         "name": "GTEX-14ASI-0526-SM-5QGQP",
         "rawType": "float64",
         "type": "float"
        },
        {
         "name": "GTEX-14BIM-0326-SM-5SI9B",
         "rawType": "float64",
         "type": "float"
        },
        {
         "name": "GTEX-14C5O-0626-SM-664N2",
         "rawType": "float64",
         "type": "float"
        },
        {
         "name": "GTEX-14DAQ-0326-SM-664MR",
         "rawType": "float64",
         "type": "float"
        },
        {
         "name": "GTEX-14JIY-0426-SM-62LF7",
         "rawType": "float64",
         "type": "float"
        },
        {
         "name": "GTEX-14LLW-0526-SM-62LFB",
         "rawType": "float64",
         "type": "float"
        },
        {
         "name": "GTEX-14LZ3-0626-SM-5ZZWP",
         "rawType": "float64",
         "type": "float"
        },
        {
         "name": "GTEX-14PII-0626-SM-69LPY",
         "rawType": "float64",
         "type": "float"
        },
        {
         "name": "GTEX-14PJ4-2426-SM-6EU1U",
         "rawType": "float64",
         "type": "float"
        },
        {
         "name": "GTEX-14PJ5-2026-SM-6LLIN",
         "rawType": "float64",
         "type": "float"
        },
        {
         "name": "GTEX-14PJ6-2326-SM-6ETZR",
         "rawType": "float64",
         "type": "float"
        },
        {
         "name": "GTEX-14PJO-0526-SM-6EU2O",
         "rawType": "float64",
         "type": "float"
        },
        {
         "name": "GTEX-14PK6-2126-SM-6ETZV",
         "rawType": "float64",
         "type": "float"
        },
        {
         "name": "GTEX-14XAO-2226-SM-6LLHU",
         "rawType": "float64",
         "type": "float"
        },
        {
         "name": "GTEX-15CHC-2426-SM-6EU22",
         "rawType": "float64",
         "type": "float"
        },
        {
         "name": "GTEX-15CHQ-0726-SM-6EU18",
         "rawType": "float64",
         "type": "float"
        },
        {
         "name": "GTEX-15DCD-0626-SM-7KUG7",
         "rawType": "float64",
         "type": "float"
        },
        {
         "name": "GTEX-15G19-0526-SM-6PAMT",
         "rawType": "float64",
         "type": "float"
        },
        {
         "name": "GTEX-15RIE-2426-SM-7KUDS",
         "rawType": "float64",
         "type": "float"
        },
        {
         "name": "GTEX-15SHV-2526-SM-6PAMG",
         "rawType": "float64",
         "type": "float"
        },
        {
         "name": "GTEX-15SHW-0726-SM-7KUEI",
         "rawType": "float64",
         "type": "float"
        },
        {
         "name": "GTEX-15SKB-2526-SM-6PALP",
         "rawType": "float64",
         "type": "float"
        },
        {
         "name": "GTEX-15UF6-1026-SM-7KUF7",
         "rawType": "float64",
         "type": "float"
        },
        {
         "name": "GTEX-16GPK-0526-SM-7KUER",
         "rawType": "float64",
         "type": "float"
        },
        {
         "name": "GTEX-16MT8-0326-SM-6PAM5",
         "rawType": "float64",
         "type": "float"
        },
        {
         "name": "GTEX-16XZY-2226-SM-7938N",
         "rawType": "float64",
         "type": "float"
        },
        {
         "name": "GTEX-16XZZ-0526-SM-7KUF1",
         "rawType": "float64",
         "type": "float"
        },
        {
         "name": "GTEX-16Z82-0126-SM-7DHLF",
         "rawType": "float64",
         "type": "float"
        },
        {
         "name": "GTEX-17EVQ-1226-SM-7LG59",
         "rawType": "float64",
         "type": "float"
        },
        {
         "name": "GTEX-17F96-2726-SM-7LT9F",
         "rawType": "float64",
         "type": "float"
        },
        {
         "name": "GTEX-17GQL-1926-SM-718B9",
         "rawType": "float64",
         "type": "float"
        },
        {
         "name": "GTEX-17JCI-0326-SM-7LG5H",
         "rawType": "float64",
         "type": "float"
        },
        {
         "name": "GTEX-183WM-0426-SM-731B1",
         "rawType": "float64",
         "type": "float"
        },
        {
         "name": "GTEX-18A66-0126-SM-731CQ",
         "rawType": "float64",
         "type": "float"
        },
        {
         "name": "GTEX-18A6Q-0326-SM-718AT",
         "rawType": "float64",
         "type": "float"
        },
        {
         "name": "GTEX-18A7B-0326-SM-7LG65",
         "rawType": "float64",
         "type": "float"
        },
        {
         "name": "GTEX-18D9B-0426-SM-7LTAR",
         "rawType": "float64",
         "type": "float"
        },
        {
         "name": "GTEX-1A3MW-0526-SM-731BY",
         "rawType": "float64",
         "type": "float"
        },
        {
         "name": "GTEX-1A3MX-0526-SM-718A9",
         "rawType": "float64",
         "type": "float"
        },
        {
         "name": "GTEX-1A8G6-0126-SM-7DUFY",
         "rawType": "float64",
         "type": "float"
        },
        {
         "name": "GTEX-1A8G7-0326-SM-72D5B",
         "rawType": "float64",
         "type": "float"
        },
        {
         "name": "GTEX-1AX8Z-5004-SM-ARZLD",
         "rawType": "float64",
         "type": "float"
        },
        {
         "name": "GTEX-1AX9I-0326-SM-73KXQ",
         "rawType": "float64",
         "type": "float"
        },
        {
         "name": "GTEX-1AX9J-0126-SM-73KY2",
         "rawType": "float64",
         "type": "float"
        },
        {
         "name": "GTEX-1B8L1-2726-SM-793AL",
         "rawType": "float64",
         "type": "float"
        },
        {
         "name": "GTEX-1B8SF-0426-SM-79OL4",
         "rawType": "float64",
         "type": "float"
        },
        {
         "name": "GTEX-1B996-0326-SM-7DHMU",
         "rawType": "float64",
         "type": "float"
        },
        {
         "name": "GTEX-1BAJH-0126-SM-7DHMF",
         "rawType": "float64",
         "type": "float"
        },
        {
         "name": "GTEX-1C64O-0326-SM-73KVW",
         "rawType": "float64",
         "type": "float"
        },
        {
         "name": "GTEX-1C6VR-2526-SM-7DHMT",
         "rawType": "float64",
         "type": "float"
        },
        {
         "name": "GTEX-1C6VS-0126-SM-7PC2H",
         "rawType": "float64",
         "type": "float"
        },
        {
         "name": "GTEX-1C6WA-0326-SM-7DUGE",
         "rawType": "float64",
         "type": "float"
        },
        {
         "name": "GTEX-1CB4E-2126-SM-793AP",
         "rawType": "float64",
         "type": "float"
        },
        {
         "name": "GTEX-1CB4F-0326-SM-9MQKD",
         "rawType": "float64",
         "type": "float"
        },
        {
         "name": "GTEX-1CB4G-0426-SM-7MXUN",
         "rawType": "float64",
         "type": "float"
        },
        {
         "name": "GTEX-1CB4H-0426-SM-7MXTL",
         "rawType": "float64",
         "type": "float"
        },
        {
         "name": "GTEX-1CB4J-1226-SM-7P8P3",
         "rawType": "float64",
         "type": "float"
        },
        {
         "name": "GTEX-1EH9U-0326-SM-7P8S2",
         "rawType": "float64",
         "type": "float"
        },
        {
         "name": "GTEX-1EMGI-0326-SM-9MQM5",
         "rawType": "float64",
         "type": "float"
        },
        {
         "name": "GTEX-1EU9M-0126-SM-7P8P8",
         "rawType": "float64",
         "type": "float"
        },
        {
         "name": "GTEX-1EWIQ-0626-SM-7PBYW",
         "rawType": "float64",
         "type": "float"
        },
        {
         "name": "GTEX-1F52S-0826-SM-7P8TQ",
         "rawType": "float64",
         "type": "float"
        },
        {
         "name": "GTEX-1F6I4-0326-SM-7P8T8",
         "rawType": "float64",
         "type": "float"
        },
        {
         "name": "GTEX-1F6IF-0226-SM-7PBZ6",
         "rawType": "float64",
         "type": "float"
        },
        {
         "name": "GTEX-1F75W-0326-SM-7PC2Q",
         "rawType": "float64",
         "type": "float"
        },
        {
         "name": "GTEX-1F88E-1826-SM-9MQLV",
         "rawType": "float64",
         "type": "float"
        },
        {
         "name": "GTEX-1F88F-2526-SM-7PC2R",
         "rawType": "float64",
         "type": "float"
        },
        {
         "name": "GTEX-1GF9V-0126-SM-9WYT2",
         "rawType": "float64",
         "type": "float"
        },
        {
         "name": "GTEX-1GF9W-0526-SM-9MQJP",
         "rawType": "float64",
         "type": "float"
        },
        {
         "name": "GTEX-1GN1V-0326-SM-9WYTO",
         "rawType": "float64",
         "type": "float"
        },
        {
         "name": "GTEX-1GN2E-0726-SM-9MQLU",
         "rawType": "float64",
         "type": "float"
        },
        {
         "name": "GTEX-1GN73-0126-SM-CNPPT",
         "rawType": "float64",
         "type": "float"
        },
        {
         "name": "GTEX-1GPI6-0326-SM-9MQM6",
         "rawType": "float64",
         "type": "float"
        },
        {
         "name": "GTEX-1GTWX-0326-SM-9WYTP",
         "rawType": "float64",
         "type": "float"
        },
        {
         "name": "GTEX-1H1CY-2726-SM-9MQLR",
         "rawType": "float64",
         "type": "float"
        },
        {
         "name": "GTEX-1H1DG-0326-SM-9QEHK",
         "rawType": "float64",
         "type": "float"
        },
        {
         "name": "GTEX-1H1ZS-0626-SM-CNPPU",
         "rawType": "float64",
         "type": "float"
        },
        {
         "name": "GTEX-1H23P-0526-SM-9WG6S",
         "rawType": "float64",
         "type": "float"
        },
        {
         "name": "GTEX-1H2FU-0526-SM-ACKXO",
         "rawType": "float64",
         "type": "float"
        },
        {
         "name": "GTEX-1H3NZ-0326-SM-9MQL6",
         "rawType": "float64",
         "type": "float"
        },
        {
         "name": "GTEX-1HBPM-0426-SM-CKZOO",
         "rawType": "float64",
         "type": "float"
        },
        {
         "name": "GTEX-1HCU6-0526-SM-A9SKU",
         "rawType": "float64",
         "type": "float"
        },
        {
         "name": "GTEX-1HGF4-2626-SM-CM2SJ",
         "rawType": "float64",
         "type": "float"
        },
        {
         "name": "GTEX-1HR9M-0326-SM-CL549",
         "rawType": "float64",
         "type": "float"
        },
        {
         "name": "GTEX-1HSEH-0326-SM-A9G26",
         "rawType": "float64",
         "type": "float"
        },
        {
         "name": "GTEX-1HSKV-0126-SM-E6CI1",
         "rawType": "float64",
         "type": "float"
        },
        {
         "name": "GTEX-1HSMO-0526-SM-ACKXB",
         "rawType": "float64",
         "type": "float"
        },
        {
         "name": "GTEX-1HSMP-0326-SM-A9SMC",
         "rawType": "float64",
         "type": "float"
        },
        {
         "name": "GTEX-1HUB1-0526-SM-CL54N",
         "rawType": "float64",
         "type": "float"
        },
        {
         "name": "GTEX-1I19N-2026-SM-ACKXJ",
         "rawType": "float64",
         "type": "float"
        },
        {
         "name": "GTEX-1I1GR-0326-SM-CKZPI",
         "rawType": "float64",
         "type": "float"
        },
        {
         "name": "GTEX-1I1GS-0326-SM-ARL7X",
         "rawType": "float64",
         "type": "float"
        },
        {
         "name": "GTEX-1I1GT-0726-SM-B2LWN",
         "rawType": "float64",
         "type": "float"
        },
        {
         "name": "GTEX-1I1GV-0126-SM-CL55G",
         "rawType": "float64",
         "type": "float"
        },
        {
         "name": "GTEX-1I1HK-0326-SM-ACKW5",
         "rawType": "float64",
         "type": "float"
        },
        {
         "name": "GTEX-1ICG6-2726-SM-CKZPN",
         "rawType": "float64",
         "type": "float"
        },
        {
         "name": "GTEX-1ICLZ-0626-SM-ARL83",
         "rawType": "float64",
         "type": "float"
        },
        {
         "name": "GTEX-1IDFM-1526-SM-ARL7U",
         "rawType": "float64",
         "type": "float"
        },
        {
         "name": "GTEX-1IDJH-0226-SM-CYPSB",
         "rawType": "float64",
         "type": "float"
        },
        {
         "name": "GTEX-1IDJU-2426-SM-ARZM9",
         "rawType": "float64",
         "type": "float"
        },
        {
         "name": "GTEX-1IDJV-0426-SM-COH3Z",
         "rawType": "float64",
         "type": "float"
        },
        {
         "name": "GTEX-1IGQW-0526-SM-CKZO3",
         "rawType": "float64",
         "type": "float"
        },
        {
         "name": "GTEX-1IKJJ-0326-SM-CL55L",
         "rawType": "float64",
         "type": "float"
        },
        {
         "name": "GTEX-1IKK5-0426-SM-CL53X",
         "rawType": "float64",
         "type": "float"
        },
        {
         "name": "GTEX-1IKOH-0126-SM-COH4D",
         "rawType": "float64",
         "type": "float"
        },
        {
         "name": "GTEX-1IL2U-0726-SM-EAZ2Y",
         "rawType": "float64",
         "type": "float"
        },
        {
         "name": "GTEX-1IL2V-0526-SM-ARL8B",
         "rawType": "float64",
         "type": "float"
        },
        {
         "name": "GTEX-1IY9M-0326-SM-ARZMN",
         "rawType": "float64",
         "type": "float"
        },
        {
         "name": "GTEX-1J8EW-0326-SM-CYPSX",
         "rawType": "float64",
         "type": "float"
        },
        {
         "name": "GTEX-1J8JJ-0126-SM-D3L93",
         "rawType": "float64",
         "type": "float"
        },
        {
         "name": "GTEX-1J8Q2-0126-SM-E9J2G",
         "rawType": "float64",
         "type": "float"
        },
        {
         "name": "GTEX-1J8Q3-1426-SM-CKZPU",
         "rawType": "float64",
         "type": "float"
        },
        {
         "name": "GTEX-1J8QM-2226-SM-CYPSK",
         "rawType": "float64",
         "type": "float"
        },
        {
         "name": "GTEX-1JJ6O-0926-SM-CYPT1",
         "rawType": "float64",
         "type": "float"
        },
        {
         "name": "GTEX-1JJEA-0126-SM-D3L8A",
         "rawType": "float64",
         "type": "float"
        },
        {
         "name": "GTEX-1JK1U-2226-SM-CNNPL",
         "rawType": "float64",
         "type": "float"
        },
        {
         "name": "GTEX-1JMQK-0326-SM-ARZN5",
         "rawType": "float64",
         "type": "float"
        },
        {
         "name": "GTEX-1JN1M-0526-SM-CJI3D",
         "rawType": "float64",
         "type": "float"
        },
        {
         "name": "GTEX-1JN6P-0526-SM-COH33",
         "rawType": "float64",
         "type": "float"
        },
        {
         "name": "GTEX-1KXAM-2426-SM-DIPFC",
         "rawType": "float64",
         "type": "float"
        },
        {
         "name": "GTEX-1LC47-0626-SM-DIPFE",
         "rawType": "float64",
         "type": "float"
        },
        {
         "name": "GTEX-1LVAO-0526-SM-EWRNS",
         "rawType": "float64",
         "type": "float"
        },
        {
         "name": "GTEX-1M4P7-0126-SM-DKPQF",
         "rawType": "float64",
         "type": "float"
        },
        {
         "name": "GTEX-1MCQQ-0626-SM-E9U5Q",
         "rawType": "float64",
         "type": "float"
        },
        {
         "name": "GTEX-1MUQO-0226-SM-E9TJL",
         "rawType": "float64",
         "type": "float"
        },
        {
         "name": "GTEX-1N2EF-0526-SM-E76OK",
         "rawType": "float64",
         "type": "float"
        },
        {
         "name": "GTEX-1OFPY-2526-SM-DTXEK",
         "rawType": "float64",
         "type": "float"
        },
        {
         "name": "GTEX-1PPGY-0426-SM-DTXFE",
         "rawType": "float64",
         "type": "float"
        },
        {
         "name": "GTEX-1PWST-0426-SM-E76QV",
         "rawType": "float64",
         "type": "float"
        },
        {
         "name": "GTEX-1QCLZ-0326-SM-DTXG2",
         "rawType": "float64",
         "type": "float"
        },
        {
         "name": "GTEX-1QEPI-0526-SM-E76QF",
         "rawType": "float64",
         "type": "float"
        },
        {
         "name": "GTEX-1QMI2-0526-SM-DTXFU",
         "rawType": "float64",
         "type": "float"
        },
        {
         "name": "GTEX-1R46S-0326-SM-EWRNE",
         "rawType": "float64",
         "type": "float"
        },
        {
         "name": "GTEX-1R7EU-0626-SM-DTX9N",
         "rawType": "float64",
         "type": "float"
        },
        {
         "name": "GTEX-1R9K4-0626-SM-E76OZ",
         "rawType": "float64",
         "type": "float"
        },
        {
         "name": "GTEX-1R9PO-2426-SM-EVYBS",
         "rawType": "float64",
         "type": "float"
        },
        {
         "name": "GTEX-1RB15-2226-SM-DTXFZ",
         "rawType": "float64",
         "type": "float"
        },
        {
         "name": "GTEX-1RQEC-0126-SM-E9J2H",
         "rawType": "float64",
         "type": "float"
        },
        {
         "name": "GTEX-1RQED-0426-SM-E6CJP",
         "rawType": "float64",
         "type": "float"
        },
        {
         "name": "GTEX-1S5VW-0526-SM-E6CHL",
         "rawType": "float64",
         "type": "float"
        },
        {
         "name": "GTEX-1S82P-0326-SM-E9TIR",
         "rawType": "float64",
         "type": "float"
        },
        {
         "name": "GTEX-N7MS-0426-SM-2YUN6",
         "rawType": "float64",
         "type": "float"
        },
        {
         "name": "GTEX-O5YV-2026-SM-2D7VS",
         "rawType": "float64",
         "type": "float"
        },
        {
         "name": "GTEX-OHPL-1626-SM-2HMIR",
         "rawType": "float64",
         "type": "float"
        },
        {
         "name": "GTEX-OHPN-2726-SM-2I5H4",
         "rawType": "float64",
         "type": "float"
        },
        {
         "name": "GTEX-OIZF-1626-SM-2YUNE",
         "rawType": "float64",
         "type": "float"
        },
        {
         "name": "GTEX-OOBJ-1626-SM-2I3F7",
         "rawType": "float64",
         "type": "float"
        },
        {
         "name": "GTEX-OXRP-2326-SM-2S1NL",
         "rawType": "float64",
         "type": "float"
        },
        {
         "name": "GTEX-P4PQ-1626-SM-2HMKK",
         "rawType": "float64",
         "type": "float"
        },
        {
         "name": "GTEX-P4QS-1626-SM-2S1NH",
         "rawType": "float64",
         "type": "float"
        },
        {
         "name": "GTEX-QLQ7-1726-SM-2S1QQ",
         "rawType": "float64",
         "type": "float"
        },
        {
         "name": "GTEX-QVJO-0126-SM-3GIK4",
         "rawType": "float64",
         "type": "float"
        },
        {
         "name": "GTEX-QVUS-0226-SM-3GIJY",
         "rawType": "float64",
         "type": "float"
        },
        {
         "name": "GTEX-REY6-0826-SM-2TF4S",
         "rawType": "float64",
         "type": "float"
        },
        {
         "name": "GTEX-RTLS-0526-SM-2TF64",
         "rawType": "float64",
         "type": "float"
        },
        {
         "name": "GTEX-RWS6-2126-SM-2XCAV",
         "rawType": "float64",
         "type": "float"
        },
        {
         "name": "GTEX-S7PM-0526-SM-3NM92",
         "rawType": "float64",
         "type": "float"
        },
        {
         "name": "GTEX-S95S-1426-SM-2XCDM",
         "rawType": "float64",
         "type": "float"
        },
        {
         "name": "GTEX-SJXC-0526-SM-2XCFG",
         "rawType": "float64",
         "type": "float"
        },
        {
         "name": "GTEX-SSA3-0326-SM-32QPS",
         "rawType": "float64",
         "type": "float"
        },
        {
         "name": "GTEX-SUCS-1626-SM-32PLS",
         "rawType": "float64",
         "type": "float"
        },
        {
         "name": "GTEX-TMZS-0326-SM-3DB9P",
         "rawType": "float64",
         "type": "float"
        },
        {
         "name": "GTEX-TSE9-0526-SM-3DB7Z",
         "rawType": "float64",
         "type": "float"
        },
        {
         "name": "GTEX-U412-0326-SM-3DB9L",
         "rawType": "float64",
         "type": "float"
        },
        {
         "name": "GTEX-U8T8-1426-SM-3DB9H",
         "rawType": "float64",
         "type": "float"
        },
        {
         "name": "GTEX-UTHO-0726-SM-3GAEN",
         "rawType": "float64",
         "type": "float"
        },
        {
         "name": "GTEX-V955-2426-SM-3GAEF",
         "rawType": "float64",
         "type": "float"
        },
        {
         "name": "GTEX-VJYA-1926-SM-3GIJJ",
         "rawType": "float64",
         "type": "float"
        },
        {
         "name": "GTEX-WOFL-0626-SM-3MJG3",
         "rawType": "float64",
         "type": "float"
        },
        {
         "name": "GTEX-X4EO-0526-SM-3P5Z3",
         "rawType": "float64",
         "type": "float"
        },
        {
         "name": "GTEX-X4XX-0626-SM-3NMC1",
         "rawType": "float64",
         "type": "float"
        },
        {
         "name": "GTEX-X4XY-0626-SM-4E3IN",
         "rawType": "float64",
         "type": "float"
        },
        {
         "name": "GTEX-X638-0326-SM-47JY1",
         "rawType": "float64",
         "type": "float"
        },
        {
         "name": "GTEX-XBED-2626-SM-4E3J5",
         "rawType": "float64",
         "type": "float"
        },
        {
         "name": "GTEX-XMD1-0626-SM-EZ6MC",
         "rawType": "float64",
         "type": "float"
        },
        {
         "name": "GTEX-XMD2-0526-SM-4YCDI",
         "rawType": "float64",
         "type": "float"
        },
        {
         "name": "GTEX-XOT4-0526-SM-4B66O",
         "rawType": "float64",
         "type": "float"
        },
        {
         "name": "GTEX-XYKS-2426-SM-4AT43",
         "rawType": "float64",
         "type": "float"
        },
        {
         "name": "GTEX-Y5V5-2526-SM-4VBQ4",
         "rawType": "float64",
         "type": "float"
        },
        {
         "name": "GTEX-Y5V6-2626-SM-5IFIX",
         "rawType": "float64",
         "type": "float"
        },
        {
         "name": "GTEX-Y8DK-0326-SM-4TT3P",
         "rawType": "float64",
         "type": "float"
        },
        {
         "name": "GTEX-Y8E5-0326-SM-57WBM",
         "rawType": "float64",
         "type": "float"
        },
        {
         "name": "GTEX-YECK-0626-SM-4W1ZE",
         "rawType": "float64",
         "type": "float"
        },
        {
         "name": "GTEX-ZAKK-0326-SM-5EGHA",
         "rawType": "float64",
         "type": "float"
        },
        {
         "name": "GTEX-ZDTS-0526-SM-4WKH9",
         "rawType": "float64",
         "type": "float"
        },
        {
         "name": "GTEX-ZDXO-0326-SM-4WKHJ",
         "rawType": "float64",
         "type": "float"
        },
        {
         "name": "GTEX-ZE9C-2326-SM-5J1NT",
         "rawType": "float64",
         "type": "float"
        },
        {
         "name": "GTEX-ZF28-0526-SM-4WKGW",
         "rawType": "float64",
         "type": "float"
        },
        {
         "name": "GTEX-ZF29-2426-SM-DO92G",
         "rawType": "float64",
         "type": "float"
        },
        {
         "name": "GTEX-ZLV1-2126-SM-4WWD2",
         "rawType": "float64",
         "type": "float"
        },
        {
         "name": "GTEX-ZPCL-2026-SM-57WFD",
         "rawType": "float64",
         "type": "float"
        },
        {
         "name": "GTEX-ZQG8-1226-SM-51MRX",
         "rawType": "float64",
         "type": "float"
        },
        {
         "name": "GTEX-ZVT3-0526-SM-5GIE9",
         "rawType": "float64",
         "type": "float"
        },
        {
         "name": "GTEX-ZXG5-0326-SM-5GICH",
         "rawType": "float64",
         "type": "float"
        },
        {
         "name": "GTEX-ZYFG-2426-SM-5GIE8",
         "rawType": "float64",
         "type": "float"
        },
        {
         "name": "GTEX-ZYW4-0526-SM-5GZZ5",
         "rawType": "float64",
         "type": "float"
        },
        {
         "name": "GTEX-ZYY3-0526-SM-5E45G",
         "rawType": "float64",
         "type": "float"
        }
       ],
       "ref": "cdef9d22-52af-4833-a340-77c7cde6cd83",
       "rows": [
        [
         "ENSG00000187634.11",
         "0.3307431202825068",
         "0.6274968606199947",
         "0.5382734997122358",
         "0.1687281200398718",
         "0.2678843095496133",
         "0.791885981789942",
         "0.6257346432038405",
         "0.4537821642148248",
         "0.5863933284673918",
         "0.1971034298394005",
         "0.25316337435451",
         "0.5356432284817968",
         "0.4119400475530678",
         "0.31878955585946034",
         "0.5088575097567518",
         "0.4141484607495405",
         "0.4699745251709595",
         "0.594321661195352",
         "0.4720460462186702",
         "1.159364177126411",
         "0.40286282970167664",
         "0.5524544523419876",
         "0.409670609941011",
         "0.25220446487577713",
         "0.2229017953902731",
         "1.129706177852046",
         "0.34716254964459153",
         "0.6552081957443356",
         "0.8758977269216642",
         "0.18033248407395255",
         "0.5141313871875465",
         "0.4043843433810582",
         "0.6684765797545552",
         "0.3222304629153711",
         "0.3161732522758757",
         "0.9582948853211222",
         "1.1045320230197715",
         "0.705019013103062",
         "0.25806813164253434",
         "0.5819584068220672",
         "0.4382877211665226",
         "0.24509869386769306",
         "0.12247608675659281",
         "0.6805914596589877",
         "0.2782807069761063",
         "0.4523984424103094",
         "2.0575924239455707",
         "0.46790016338063356",
         "0.369776792982654",
         "0.20184859479724288",
         "0.33497378476955497",
         "0.24097293685771046",
         "0.5985540026728112",
         "0.5081628730059751",
         "0.6041540927741451",
         "0.9697844804488268",
         "1.2647535435879875",
         "0.4193821543534589",
         "0.6433735089830904",
         "0.30192259503313224",
         "0.36326000712775075",
         "0.4467978749476762",
         "0.3072217763307044",
         "1.4621416919944294",
         "2.1489940328633446",
         "1.0356222528191834",
         "0.2471034721348151",
         "0.504062246620176",
         "0.3107661243258311",
         "0.5580393642335063",
         "0.22509390060279413",
         "0.10038534007133375",
         "0.2065560950545169",
         "0.19003250539810826",
         "0.20184859479724288",
         "0.6575618591538617",
         "0.5807218125192565",
         "0.4993176013311249",
         "0.33904557282601205",
         "0.3868870678090722",
         "0.47830620484295383",
         "0.22935174439354863",
         "0.48032710423895325",
         "0.7466636602651777",
         "0.486633228905674",
         "0.6107722483188286",
         "0.2131698004485339",
         "0.3248878912177609",
         "0.5813209876762979",
         "0.07387222492083201",
         "0.17901797523225269",
         "0.5020270833594973",
         "0.13400619711641795",
         "0.5168080460899352",
         "1.1094163552893592",
         "0.4289236933978278",
         "0.7285108253925134",
         "0.49539232981643755",
         "0.5838986782178284",
         "0.40214054520897446",
         "0.7869881347950393",
         "0.20426094526668967",
         "1.0851638773529793",
         "0.20541513582226764",
         "0.762172953360802",
         "0.6644877319905833",
         "0.41712537032466135",
         "0.1324687357096026",
         "0.08360117669290007",
         "0.40214054520897446",
         "0.5949010014991302",
         "0.13400619711641795",
         "0.409670609941011",
         "0.7368439694991927",
         "0.32736521875454905",
         "0.48032710423895325",
         "0.20541513582226764",
         "0.356139902627693",
         "0.22183571241489566",
         "0.3830519588522569",
         "0.3496268960257929",
         "0.22830583281303427",
         "0.2065560950545169",
         "0.5486638728624267",
         "0.7757727770457056",
         "0.33246642432398926",
         "0.2120746079457211",
         "0.3010408582874686",
         "0.5530707981021459",
         "0.45032974083926947",
         "0.6445943259808897",
         "0.3107661243258311",
         "0.24509869386769306",
         "0.25806813164253434",
         "0.19828543412181443",
         "0.20768606249590132",
         "0.7318472670447488",
         "0.397616601156821",
         "0.4523984424103094",
         "0.18886800276136442",
         "0.3265339996479001",
         "0.46582272625036436",
         "0.5194882901302904",
         "0.40286282970167664",
         "0.3569613953097655",
         "0.5800946323493593",
         "0.4960703266003835",
         "0.45590578953905375",
         "0.3117350833341667",
         "0.3791151146572858",
         "0.38460474309698944",
         "0.3446560955201571",
         "0.2304554034548915",
         "0.19003250539810826",
         "0.1324687357096026",
         "0.34716254964459153",
         "0.4593697224307827",
         "0.2847489294070584",
         "0.1674678171005679",
         "0.2501672302547971",
         "0.23481766498711465",
         "2.788311469492217",
         "0.21963068388133525",
         "0.16483546043072486",
         "0.7257010234546327",
         "0.3107661243258311",
         "0.10623261998472544",
         "0.4382877211665226",
         "2.5553015235669583",
         "0.8479229115225212",
         "0.14145253832668478",
         "0.6575618591538617",
         "0.6765970214068799",
         "0.7472451759585742",
         "0.29373249527650364",
         "0.2471034721348151",
         "1.1320731978969463",
         "0.7994556194039388",
         "0.8338212416152996",
         "1.0069970032956754",
         "0.13089068501972992",
         "0.5292225734650224",
         "0.13563011900336086",
         "0.08360117669290007",
         "0.3152470676506806",
         "0.29645432209817274",
         "0.15834068865759998",
         "1.017410729801911",
         "0.4940595975986585",
         "0.42156669182135237",
         "0.7196523505602067",
         "1.1503695738742685",
         "0.3143799379720103",
         "0.6328995262089766",
         "0.08360117669290007",
         "0.7357342448457236",
         "0.08792435070665036",
         "0.20768606249590132",
         "1.074005287348389",
         "0.23266445715853995",
         "0.4810278664181543",
         "0.9878017757896103",
         "0.9477120281208932",
         "0.2471034721348151",
         "0.15019106179275568",
         "0.2399894944473055",
         "0.8938090346570762",
         "1.6053208214462402",
         "0.7434500241324696",
         "0.47347456798180587",
         "0.7827401441249003",
         "0.4223051959198721",
         "1.3486476359114434",
         "0.5599853975153023",
         "1.372239180776027",
         "0.19249897346600311",
         "0.4467978749476762",
         "0.2430545480599227",
         "0.09417963098887173",
         "0.256074576026207",
         "0.4282087702375254",
         "0.19003250539810826",
         "2.174225324413772",
         "0.18397931595696165",
         "0.5421779173701186",
         "0.15299382596926608",
         "0.2874142318548427",
         "0.16483546043072486",
         "0.17389688731216543",
         "0.2369191727923201",
         "0.932612179278747",
         "0.30192259503313224",
         "0.9472260216409069",
         "0.435368486156474",
         "0.12084900707583454",
         "0.18397931595696165",
         "0.2131698004485339",
         "0.2782807069761063",
         "0.6696193467046768",
         "0.21963068388133525",
         "0.6851450671771968",
         "0.500644846965191",
         "0.10228442690943369",
         "0.2649947595566959",
         "1.7381315523841547",
         "0.5259354145023579",
         "0.369776792982654",
         "1.0880998544411846",
         "0.09621041862397718",
         "0.3143799379720103",
         "1.9423975227372292",
         "0.29828743480476827",
         "0.544140604724152",
         "0.1488386279309429",
         "0.17523285927994905",
         "0.84370803897791",
         "0.15959561210108186",
         "0.22509390060279413",
         "0.3170572571693433",
         "0.35773905142311246",
         "0.36166221717631675",
         "0.24915201508854504",
         "0.1764762371643818",
         "0.7692858303724609",
         "0.22830583281303427",
         "0.1488386279309429",
         "0.22509390060279413",
         "0.2773530187925346",
         "0.1777544168946779",
         "0.48379141698103245",
         "0.3791151146572858",
         "0.6041540927741451",
         "0.8312707698762803",
         "0.22073804173541114",
         "0.9981062874996195",
         "3.1348806331163552",
         "0.22183571241489566",
         "0.36326000712775075",
         "0.17005283567941204",
         "0.2570703721755751",
         "0.34148857613628725",
         "0.41271816815262097",
         "0.5518012910996493",
         "0.19249897346600311",
         "0.7687635894754197",
         "0.15834068865759998",
         "0.3998097520073061",
         "0.4303286623255267",
         "0.5246840252651557",
         "0.31878955585946034",
         "0.6684765797545552",
         "0.6274968606199947",
         "0.7346364169686205",
         "0.15299382596926608",
         "0.3357724569031598",
         "0.166148874017591",
         "0.6828633280006573",
         "0.6719569639664188",
         "0.6748490130640036",
         "0.66677759394749",
         "0.25220446487577713",
         "0.5599853975153023",
         "0.9718007043254472",
         "0.07637817967713878",
         "0.1815600888008592",
         "0.6357783172435613",
         "0.06583988344435276",
         "0.20305895164154344",
         "0.08573817778291415",
         "0.11554175482619077",
         "0.3117350833341667",
         "0.47136909827955836",
         "0.1971034298394005",
         "0.26000427681991733",
         "0.3170572571693433",
         "0.22509390060279413",
         "0.2726618978201689",
         "0.005625233756168236",
         "0.28012579728059855",
         "0.17523285927994905",
         "0.28012579728059855",
         "1.9779781509204601",
         "0.6845830488751962",
         "0.09217431490549452",
         "1.3072532006509656",
         "1.9357660040458937",
         "0.641642938920461",
         "0.16230428236180644",
         "0.10623261998472544",
         "0.14145253832668478",
         "0.27452030155407653",
         "0.29828743480476827",
         "0.18886800276136442",
         "0.4693188590937521",
         "0.9320883902959083",
         "0.43469556045065855",
         "0.7395907798221901",
         "1.2643022807496611",
         "0.8143258587149287",
         "0.26402951498565047",
         "0.7902643192363213",
         "0.8682553335592796",
         "0.5619292421405714",
         "0.1516458195661254",
         "0.26309611267617994",
         "0.18397931595696165",
         "0.594321661195352",
         "0.11554175482619077",
         "0.32906357218794274",
         "0.48524122679229154",
         "0.6328995262089766",
         "0.974788088675959",
         "0.7251495760411745",
         "0.3721046632029544",
         "0.5154444557558515",
         "0.2726618978201689",
         "0.9086331524885349",
         "0.356139902627693",
         "0.9422479899641232",
         "2.454850929234589",
         "0.45590578953905375",
         "0.2883326905930568",
         "0.550496399265235",
         "0.24206315908468548",
         "0.26104669442082673",
         "0.20305895164154344",
         "0.47347456798180587",
         "0.5161167857659117",
         "0.5979459061658234",
         "0.8489817707786907",
         "0.5676454223144108",
         "0.32736521875454905",
         "0.1459170480082439",
         "1.0439998927284353",
         "0.24206315908468548",
         "0.5498760878393267",
         "0.7708851708981024",
         "0.2810452361238469",
         "0.5863933284673918",
         "0.32574389510063606",
         "0.5657274824098654",
         "0.5214447343611492",
         "0.6004356286117669",
         "1.1659348709887098",
         "0.43101391600910655",
         "1.118630182428582",
         "0.7163074437530744",
         "0.6065451560746119",
         "0.36326000712775075",
         "0.7516736755369838",
         "0.5174748572630713",
         "0.45032974083926947",
         "0.11012146157182237",
         "0.12926322761532041",
         "0.6071669212744347",
         "0.28567607874239603",
         "1.9089810949070918",
         "0.4237744362458581",
         "0.5034194363027936",
         "0.40744935142515004",
         "0.43101391600910655",
         "0.13857919255584958",
         "0.8410577454016486",
         "0.6492917390624952",
         "0.1777544168946779",
         "0.11209411447874036",
         "0.19003250539810826",
         "0.20541513582226764",
         "0.40286282970167664",
         "0.09417963098887173",
         "0.1912398453797744",
         "0.24915201508854504",
         "0.40061465705361926",
         "0.3028478779936057",
         "0.6016776573097677",
         "0.34716254964459153",
         "0.4089201972169995",
         "0.9718007043254472",
         "0.6760242151101049",
         "0.4324868229606984",
         "0.40139386854967174",
         "0.3143799379720103",
         "0.504062246620176",
         "0.3822287058466152",
         "0.5081628730059751",
         "0.19828543412181443",
         "0.9422479899641232",
         "1.838365258527694",
         "0.17133315506487187",
         "0.5770242997332083",
         "0.2669507705866608",
         "0.435368486156474",
         "0.27920877453050547",
         "0.19249897346600311",
         "0.3496268960257929",
         "0.08124213059188479",
         "0.2901807480093212",
         "0.21745870489201538",
         "2.2698070071500744",
         "0.781719140662531",
         "0.3601027474787542",
         "0.36405365529705885",
         "0.33904557282601205",
         "0.2369191727923201",
         "0.24509869386769306",
         "0.34716254964459153",
         "0.19478676718380472",
         "0.8510399233438526",
         "1.4395909563392408",
         "0.41046778042866344",
         "0.17133315506487187",
         "0.5233594329395556",
         "0.21095705370156922",
         "0.328264939064402",
         "0.21855219576593687",
         "0.9076080211263597",
         "0.2065560950545169",
         "0.7853928167749675",
         "0.2512232582919699",
         "0.3205123261587355",
         "0.37438176219572705",
         "1.2140980351015633",
         "0.45032974083926947",
         "0.2649947595566959",
         "0.2773530187925346",
         "0.28196263181843534",
         "0.7089974629492667",
         "1.0129406332254867",
         "0.670198398490327",
         "0.5676454223144108",
         "0.20305895164154344",
         "0.4873158129638069",
         "0.3222304629153711",
         "0.2120746079457211",
         "0.6633035410325026",
         "0.46156103935912773",
         "0.3528338821975772",
         "0.8856004835681889",
         "1.181316388410923",
         "0.500644846965191",
         "0.24610999423924013",
         "0.3767419205991645",
         "0.17133315506487187",
         "0.41271816815262097",
         "0.5782917741837634",
         "0.5135143733139185",
         "0.2901807480093212",
         "0.3672581744932072",
         "0.4933592838745358",
         "0.2399894944473055",
         "0.41712537032466135",
         "1.6094674627997254",
         "0.22509390060279413",
         "0.20305895164154344",
         "0.07888382681221023",
         "0.3585002626516522",
         "1.1272735851483373",
         "0.705019013103062",
         "0.19590622321007156",
         "0.12756713593025307",
         "0.2430545480599227",
         "0.5542895780141872",
         "0.3838421552689345",
         "0.37834821371034827",
         "0.6879280352528973",
         "0.6598750651906827",
         "0.3455073004873263",
         "0.22183571241489566",
         "0.9991626404890553",
         "0.5807218125192565",
         "1.2657150819779397",
         "0.4755566616889145",
         "2.259868437721764",
         "0.18397931595696165",
         "0.5292225734650224",
         "0.577668301933915",
         "0.36089385798171997",
         "0.10228442690943369",
         "0.2501672302547971",
         "0.22400553279740693",
         "0.6742606612769075",
         "0.44256753271849825",
         "0.44897227058144984",
         "0.5060865001199859",
         "0.3422960414521015",
         "0.3179494883810333",
         "0.3045968541227422",
         "0.2229017953902731",
         "0.2946291699513528",
         "0.4179363881022025",
         "1.099249523498813",
         "0.5259354145023579",
         "0.1242489549017953",
         "0.16483546043072486",
         "0.3853540073026373",
         "0.1777544168946779",
         "0.28012579728059855",
         "0.3536599411821102",
         "0.22073804173541114",
         "0.2430545480599227",
         "0.5467631451814545",
         "0.7682107626113205",
         "0.18517496609503073",
         "0.7146586744786896",
         "1.4664040001276297",
         "0.19948658952565543",
         "0.9497178173078503",
         "0.5707545955867535",
         "1.1527982656169944",
         "0.2471034721348151",
         "0.2065560950545169",
         "0.18517496609503073",
         "0.577668301933915",
         "0.5549225441805671",
         "0.9315799053178003",
         "0.25220446487577713",
         "0.3090495632437491",
         "0.6381110200249618",
         "0.172620836902448",
         "0.6811335880314607",
         "0.887610132892438",
         "0.21745870489201538",
         "0.03182980194162035",
         "0.975256683603455",
         "0.20991529155535782",
         "0.7924022018799106",
         "0.2726618978201689",
         "1.0257998963305512",
         "0.4043843433810582",
         "0.26883949609559965",
         "0.3265339996479001",
         "0.19828543412181443",
         "0.20184859479724288",
         "0.22615748864982518",
         "0.4119400475530678",
         "0.9168567469291125",
         "1.1683239734196127",
         "0.26975374008591785",
         "0.2399894944473055",
         "0.17389688731216543",
         "0.6811335880314607",
         "0.09621041862397718",
         "0.4973449542584525",
         "0.46370243832881",
         "0.4755566616889145",
         "0.10228442690943369",
         "0.17133315506487187",
         "0.3406659162207036",
         "0.19249897346600311",
         "0.17901797523225269",
         "0.11012146157182237",
         "0.429622524777857",
         "0.23266445715853995",
         "1.2676274823641347",
         "0.15019106179275568",
         "0.19828543412181443",
         "0.40061465705361926",
         "0.35532387468839005",
         "0.37756701099067685",
         "0.27452030155407653",
         "0.8682553335592796",
         "1.8279861081895037",
         "0.18397931595696165",
         "0.5382734997122358",
         "0.3161732522758757",
         "1.3091214486893166",
         "0.500644846965191",
         "0.19828543412181443",
         "2.0430156823068297",
         "0.2716672997312245",
         "0.46510394253820336",
         "0.5135143733139185",
         "0.18517496609503073",
         "0.329946741201884",
         "0.6107722483188286",
         "0.6352280427605643",
         "0.6089805331518569",
         "0.6369369724479569",
         "0.2874142318548427",
         "1.03418190581399",
         "0.8287002987760371",
         "0.3107661243258311",
         "0.5154444557558515",
         "0.2707028419381663",
         "0.5088575097567518",
         "0.25220446487577713",
         "0.6604548736341471",
         "0.37128421186156557",
         "1.3806999799726078",
         "1.1113399929604706",
         "0.09829387037589911",
         "0.4289236933978278",
         "0.9101766571290794",
         "0.14145253832668478",
         "0.11737114855073992",
         "0.8917681023007707",
         "0.7594482463343619",
         "1.013977359198909",
         "0.4267195180906564",
         "0.8358557342767268",
         "0.6299102214465436",
         "0.4933592838745358",
         "0.13089068501972992",
         "0.24509869386769306",
         "0.20426094526668967",
         "0.2892768563951985",
         "0.8630462782093282",
         "0.5467631451814545",
         "0.11209411447874036",
         "0.1971034298394005",
         "1.2899454317511985",
         "0.17389688731216543",
         "0.7902643192363213",
         "0.4672033190462582",
         "0.1674678171005679",
         "0.7112768276427484",
         "0.3063484193357657",
         "0.19948658952565543",
         "0.8165118742525351",
         "0.1777544168946779",
         "1.0846715454854263",
         "1.1006795014402297",
         "0.6690614775435487",
         "1.333668671786814",
         "2.600026445498547",
         "1.6686851971423735",
         "0.20768606249590132",
         "0.9941897327020947",
         "0.5115136672249349",
         "0.08792435070665036",
         "0.5220919338157983",
         "0.47489224050504086",
         "0.3569613953097655",
         "0.18759284587157693",
         "0.2229017953902731",
         "0.26883949609559965",
         "0.36894854621550893",
         "0.20305895164154344",
         "0.3117350833341667",
         "0.1324687357096026",
         "0.1516458195661254",
         "0.11554175482619077",
         "0.41271816815262097",
         "0.09417963098887173",
         "0.1370813893276279",
         "0.7273877180664682",
         "0.18283914160337308",
         "0.1488386279309429",
         "0.18397931595696165",
         "0.13563011900336086",
         "0.3161732522758757",
         "0.553683589793956",
         "0.1543461532846683",
         "0.2883326905930568",
         "0.38843628638838973",
         "0.8297370208654606",
         "0.17523285927994905",
         "0.3196352094509604",
         "0.6041540927741451",
         "0.4163517018054023",
         "0.4586941477346678",
         "0.43900631793957473",
         "0.4208404617796023",
         "0.21095705370156922",
         "0.13400619711641795",
         "1.092395089118636",
         "0.6452206087146789",
         "1.3533797684050535",
         "0.5518012910996493",
         "1.2800211004431807",
         "0.3705050441713989",
         "0.18397931595696165",
         "0.882034575633084",
         "0.3721046632029544",
         "0.21963068388133525",
         "0.5272539885740212",
         "0.2369191727923201",
         "0.2304554034548915",
         "0.18397931595696165",
         "0.1609704359735461",
         "0.21422166358487546",
         "0.1815600888008592",
         "1.1884041174860052",
         "0.6975463209777385",
         "0.26104669442082673",
         "0.48796771885497686",
         "2.2578276432281137",
         "0.45590578953905375",
         "0.3479556038775975",
         "0.10428464825665563",
         "0.21422166358487546",
         "1.526188898629357",
         "0.397616601156821",
         "0.20541513582226764",
         "2.1746317433954667",
         "0.36166221717631675",
         "0.1863960309839949",
         "0.34148857613628725",
         "0.4317525382477956",
         "0.2501672302547971",
         "0.23481766498711465",
         "0.43324971557697517",
         "0.8599161950598281",
         "0.3265339996479001",
         "0.6463641658408934",
         "0.22935174439354863",
         "0.39231362676444814",
         "0.6604548736341471",
         "0.5719954402263744",
         "0.47967580546186467",
         "0.7262478095506174",
         "0.44822624469950245",
         "0.5511693402575812",
         "0.24405336112246906",
         "0.4200934729600997",
         "0.4565595429658789",
         "0.5764032965712897",
         "0.22935174439354863",
         "0.6404740717762354",
         "0.7811508022118893",
         "0.34632892889182226",
         "0.15834068865759998",
         "0.2847489294070584",
         "0.4845085792035093",
         "0.2726618978201689",
         "0.1609704359735461",
         "0.276473197317953",
         "1.032698378147217",
         "0.9417613619432672",
         "0.2669507705866608",
         "0.6633035410325026",
         "0.3512261955632923",
         "0.6862689342853223",
         "0.9142829931372228",
         "0.49204480149464985",
         "0.1863960309839949",
         "0.4382877211665226",
         "0.43611009435104103",
         "0.2570703721755751",
         "1.275801233928798",
         "0.57948253199208",
         "0.26883949609559965",
         "0.3422960414521015",
         "0.5034194363027936",
         "0.4259754966464973",
         "0.3152470676506806",
         "2.119349437099384",
         "0.8774982514103801",
         "0.4816800637125765",
         "0.1815600888008592",
         "0.29736197711581025",
         "1.1132796227142647",
         "0.6422479679019747",
         "0.273587964248726",
         "0.6089805331518569",
         "0.3736676697386408",
         "0.3422960414521015",
         "0.166148874017591"
        ],
        [
         "ENSG00000188976.10",
         "5.922929813810162",
         "5.679322741920019",
         "5.755678761298719",
         "6.224135498491936",
         "6.0328255644790225",
         "5.611051779325836",
         "5.771384280881334",
         "6.161742879174699",
         "6.013711521105088",
         "6.333351789813988",
         "5.79502980326671",
         "5.802704866840985",
         "5.913582292611208",
         "6.199778024339699",
         "5.594200918894032",
         "6.26490271890401",
         "6.385753985047407",
         "6.20400591015994",
         "6.364824914956364",
         "5.372563559728843",
         "6.272253116819365",
         "5.921807885623965",
         "5.613985762926693",
         "6.0647563980399815",
         "5.462809423779135",
         "5.596960799666398",
         "5.504372346661213",
         "5.67244529589513",
         "5.35939178955255",
         "6.041824305520084",
         "5.652753681914124",
         "5.836548216512637",
         "5.475049804966106",
         "5.828707817052132",
         "5.628467560279773",
         "6.415110483505032",
         "5.844123477360986",
         "5.870085208855567",
         "5.58204065291034",
         "5.862002870914211",
         "5.351924292251509",
         "5.357697416294164",
         "6.345870092147343",
         "5.882712795861886",
         "5.774515022462651",
         "5.443698647624589",
         "5.215788682324152",
         "6.363229700386308",
         "6.582504184820592",
         "6.0277884533633745",
         "5.774515022462651",
         "6.25765435522375",
         "6.219718217168137",
         "5.814433604985778",
         "6.336508897592659",
         "5.833168093344494",
         "5.879334710540531",
         "6.221216962845287",
         "5.95317327910417",
         "6.087120706415128",
         "5.824326305985968",
         "6.126003809822444",
         "5.783083765159699",
         "5.552385732806858",
         "5.713302317778301",
         "6.272253116819365",
         "5.992474208033103",
         "5.455116705293778",
         "5.602494666746587",
         "6.011236018271129",
         "6.062133399584437",
         "6.14109202136317",
         "5.848552308447308",
         "6.222652440964044",
         "5.711273055084022",
         "5.415688018431516",
         "5.4900456893490475",
         "5.402061058652907",
         "5.809993384703762",
         "5.457752607999379",
         "6.400296386383315",
         "6.138404021387081",
         "5.9617962212592674",
         "5.418297844426454",
         "5.850855154342539",
         "5.644908911403837",
         "5.936215213233821",
         "6.714007792915094",
         "5.545172599213994",
         "5.979073700140594",
         "6.352119815630138",
         "5.451649203009245",
         "6.1099586420957115",
         "5.471559429930909",
         "6.073983718055958",
         "6.014972889537052",
         "5.98875247199307",
         "5.352680095389426",
         "6.745234489537944",
         "5.944605451552179",
         "5.346889738287348",
         "5.519774101915311",
         "5.95078954706814",
         "5.662509917928496",
         "5.641957271522472",
         "5.826535273132007",
         "5.54789935927012",
         "6.002496746899933",
         "5.652753681914124",
         "5.333276823441057",
         "6.052051763752174",
         "5.718509992807744",
         "6.323783475580693",
         "5.286297881753033",
         "6.463802436961242",
         "6.279642589070949",
         "6.221216962845287",
         "5.885011103434902",
         "5.785221442947932",
         "5.458565653591626",
         "6.014972889537052",
         "6.037888645803375",
         "6.753573375747839",
         "5.521454605437012",
         "5.996225732979859",
         "6.436717645963456",
         "6.176981349974033",
         "5.374276206550704",
         "5.979073700140594",
         "6.25765435522375",
         "6.5535836421610645",
         "5.955629810207875",
         "5.609120880422595",
         "5.86318845787469",
         "6.124627129404005",
         "6.2914933944727345",
         "5.803726422182969",
         "6.182600075788036",
         "6.366433085015376",
         "6.5735315380558195",
         "6.161742879174699",
         "6.237109654273209",
         "5.566119031702711",
         "5.960498802014047",
         "5.995019017869134",
         "6.052051763752174",
         "5.958000884522567",
         "6.079197565373732",
         "6.352119815630138",
         "6.036640998251008",
         "5.73201372834274",
         "5.986407890166257",
         "6.40688877160242",
         "6.003681282406425",
         "5.690020870101557",
         "5.383539650849578",
         "6.307050896594387",
         "5.652753681914124",
         "6.178416260668288",
         "6.397054049186506",
         "6.011236018271129",
         "5.779873330331634",
         "5.710237441406983",
         "5.8804862093694705",
         "5.4028617836979205",
         "5.36103094003915",
         "6.076528048120931",
         "5.919439502518955",
         "5.807896229218085",
         "6.458754521231313",
         "5.622770133005321",
         "5.605341579010174",
         "5.6391170614058055",
         "6.135708961359905",
         "6.2591047647760245",
         "6.02534176030864",
         "5.378490444541545",
         "6.450223191195711",
         "5.5670799242497475",
         "6.0277884533633745",
         "6.084522218061324",
         "6.138404021387081",
         "5.95193726355767",
         "5.844123477360986",
         "5.637189108505673",
         "5.567932497030811",
         "6.398654047513728",
         "5.550583948126244",
         "6.041824305520084",
         "5.921807885623965",
         "5.95193726355767",
         "5.674448836369748",
         "5.8804862093694705",
         "6.020141787405632",
         "6.270759119892033",
         "6.008677176948323",
         "6.53197674719078",
         "6.316235684700024",
         "5.8474169678862635",
         "6.260499486225374",
         "5.649885468678149",
         "5.728823305534145",
         "5.6940126497737555",
         "5.456848842882611",
         "6.491451282983258",
         "6.124627129404005",
         "5.674448836369748",
         "5.292793750476296",
         "6.43495806922772",
         "5.958000884522567",
         "5.371793266146733",
         "6.161742879174699",
         "5.413963531671286",
         "5.644908911403837",
         "6.526574813062517",
         "5.674448836369748",
         "6.063451523106854",
         "5.606253324258568",
         "5.865497056422285",
         "5.887262034282902",
         "6.016300331813633",
         "5.453402183097728",
         "6.068699692752215",
         "5.427840742018691",
         "5.27202596981686",
         "6.020141787405632",
         "5.832054262033471",
         "5.924122284908293",
         "6.5992139744332174",
         "5.97665675292498",
         "5.700969890707437",
         "6.0582809711235655",
         "5.518948311292816",
         "5.374276206550704",
         "5.898780544523021",
         "6.2914933944727345",
         "6.405253676356293",
         "6.1099586420957115",
         "5.843000713475415",
         "5.954378206433501",
         "5.392844602096128",
         "5.996225732979859",
         "6.2856214419875345",
         "6.131647916811921",
         "5.564239016350018",
         "5.337332395289734",
         "5.437563286967416",
         "5.58204065291034",
         "6.095207455901316",
         "6.311569552678272",
         "5.396173987390016",
         "5.822130280433415",
         "5.868913476321965",
         "5.756753788653921",
         "5.465497499515797",
         "5.901125176547994",
         "5.93136855249882",
         "6.419952927712096",
         "5.215788682324152",
         "6.0277884533633745",
         "6.156320945161472",
         "6.137058396965745",
         "6.095207455901316",
         "5.603417847370989",
         "5.89998624329991",
         "6.014972889537052",
         "6.53197674719078",
         "5.4689640171608085",
         "5.924122284908293",
         "5.7917880302775036",
         "6.270759119892033",
         "6.183934034450129",
         "5.663550121730053",
         "5.721507027034605",
         "6.072613475692079",
         "5.338098963887881",
         "5.919439502518955",
         "5.142410024513603",
         "5.845192477684198",
         "5.334928923716422",
         "5.722546702516978",
         "5.38868189391269",
         "5.883856022333294",
         "5.669428127243106",
         "5.846317035873489",
         "5.874643283629119",
         "5.95317327910417",
         "6.183934034450129",
         "6.088491225047635",
         "5.7051445722068586",
         "6.3100743403606625",
         "5.6479032351779415",
         "6.009979089153378",
         "6.096555511520011",
         "6.009979089153378",
         "6.052051763752174",
         "6.288500790112437",
         "6.218293986434488",
         "5.755678761298719",
         "6.126003809822444",
         "5.901125176547994",
         "5.635315156335893",
         "6.153630091269326",
         "6.183934034450129",
         "6.085830617991422",
         "6.209774336503765",
         "6.544359721487779",
         "5.911260002995282",
         "6.113882987961755",
         "6.0073998798604595",
         "5.452470044958467",
         "5.8474169678862635",
         "6.201203485245542",
         "6.372662294280233",
         "6.503697121445697",
         "5.980311463447463",
         "5.83544346478676",
         "6.1343437214075545",
         "6.477614897502371",
         "5.5772249977468435",
         "5.755678761298719",
         "5.707131061523165",
         "6.100630082306819",
         "6.361610098590888",
         "5.651839225712532",
         "5.6586525417394",
         "6.001257131863918",
         "6.111297236714053",
         "5.992474208033103",
         "6.0392135855931715",
         "6.073983718055958",
         "6.1099586420957115",
         "5.893013003947198",
         "6.026626254098735",
         "5.876991374532391",
         "5.903323631954082",
         "6.099271513268345",
         "5.9385331097726475",
         "5.843000713475415",
         "5.748472005390578",
         "6.278127565007938",
         "6.465556080560709",
         "6.2357445198196775",
         "6.229878463471173",
         "5.841965261641816",
         "6.194090419801301",
         "6.895019883841287",
         "6.2977957424428315",
         "6.436717645963456",
         "6.522972272108472",
         "6.115130048655708",
         "6.389024196086207",
         "5.865497056422285",
         "6.034127477374915",
         "6.092500735998048",
         "5.890684573872078",
         "5.59038885231617",
         "6.706054159415705",
         "5.779873330331634",
         "6.050746710036639",
         "5.7917880302775036",
         "6.243027824505157",
         "6.12885098588238",
         "6.0660849665154615",
         "5.902191242266861",
         "6.883203426940306",
         "5.678268034295702",
         "5.971662236865621",
         "5.594200918894032",
         "5.376800966169782",
         "5.517983753113041",
         "5.838758063452961",
         "6.43495806922772",
         "5.530514267225973",
         "6.045707720208956",
         "5.348582989695632",
         "5.895302192660961",
         "6.2518364638259145",
         "5.455971738190347",
         "6.021451890212455",
         "5.9482610399888385",
         "5.767093384167394",
         "5.556940103380554",
         "5.729886245249466",
         "5.992474208033103",
         "6.353671117799634",
         "5.2903578868151335",
         "5.97665675292498",
         "5.843000713475415",
         "5.96920576501036",
         "5.523284959476357",
         "5.865497056422285",
         "5.771384280881334",
         "6.1853783533854205",
         "5.58760572803988",
         "5.391168107773624",
         "5.813290792381504",
         "5.6970480031524176",
         "5.932558410243488",
         "5.896508914944915",
         "5.606253324258568",
         "6.462159918121674",
         "6.003681282406425",
         "5.6362251612409215",
         "6.438351715768403",
         "6.342704890374401",
         "6.182600075788036",
         "5.958000884522567",
         "5.834291860773593",
         "6.279642589070949",
         "5.826535273132007",
         "5.98875247199307",
         "5.8199882966386856",
         "5.829847619618412",
         "5.87813443843798",
         "6.062133399584437",
         "6.158935614897351",
         "5.113479843142899",
         "5.943441986092968",
         "6.218293986434488",
         "5.954378206433501",
         "6.0353504971136465",
         "5.419078263453057",
         "5.650864549518414",
         "5.475049804966106",
         "6.243027824505157",
         "6.071331565798995",
         "5.298287021183757",
         "6.049570931299871",
         "5.679322741920019",
         "5.895302192660961",
         "6.294588473786594",
         "6.036640998251008",
         "6.043136513997137",
         "5.407937477903857",
         "6.164495791885054",
         "5.834291860773593",
         "6.40688877160242",
         "5.919439502518955",
         "5.8496943630596885",
         "5.563275794683725",
         "6.150856516329232",
         "6.063451523106854",
         "6.299354650830136",
         "6.163120262800465",
         "5.622770133005321",
         "6.722166900238759",
         "6.325343150504836",
         "5.325923010025577",
         "6.377616755487809",
         "6.670392561249121",
         "5.675477603207115",
         "5.83544346478676",
         "5.834291860773593",
         "6.186849111520921",
         "5.874643283629119",
         "5.980311463447463",
         "5.455971738190347",
         "6.137058396965745",
         "5.995019017869134",
         "5.53422465955098",
         "5.728823305534145",
         "5.882712795861886",
         "5.651839225712532",
         "6.446939141778052",
         "5.250867861586088",
         "5.815559239496134",
         "5.5442505628739625",
         "5.3818391175051215",
         "5.543347321700535",
         "6.009979089153378",
         "5.972897675784301",
         "5.906766670722987",
         "6.031575962015552",
         "5.417466653264112",
         "6.405253676356293",
         "5.3860453497795415",
         "5.252421589607439",
         "6.503697121445697",
         "5.853079342923693",
         "6.288500790112437",
         "6.0277884533633745",
         "5.799310013758738",
         "6.540722151656242",
         "5.780966989016394",
         "5.576273013988769",
         "6.253352280639843",
         "6.160373000292019",
         "5.673428396409352",
         "5.364307363251185",
         "5.875828857877684",
         "6.158935614897351",
         "5.690020870101557",
         "6.199778024339699",
         "6.389024196086207",
         "5.856439200267392",
         "6.347469416183467",
         "5.434031185477563",
         "5.502581470774071",
         "6.1853783533854205",
         "6.224135498491936",
         "5.872327988411346",
         "6.117812317575508",
         "5.193685777313739",
         "5.452470044958467",
         "5.613985762926693",
         "5.551488668605822",
         "6.341129715160186",
         "6.164495791885054",
         "6.395453474934061",
         "5.661548103637714",
         "5.501728324650726",
         "5.871227493146332",
         "6.477614897502371",
         "6.224135498491936",
         "5.549703628939253",
         "6.062133399584437",
         "5.62180655764648",
         "5.955629810207875",
         "6.054496538471611",
         "5.535965891522201",
         "5.356917891877268",
         "5.687028760777814",
         "5.59038885231617",
         "5.614907493683267",
         "5.83544346478676",
         "5.406272078453688",
         "5.896508914944915",
         "5.834291860773593",
         "5.495456793228008",
         "5.48304579907209",
         "5.574305099482665",
         "6.111297236714053",
         "6.448547331274585",
         "6.266351620224959",
         "5.615933707739541",
         "5.817765011108771",
         "5.7660269954184535",
         "6.156320945161472",
         "6.305607887968605",
         "5.448108456815855",
         "5.661548103637714",
         "5.507987508115529",
         "5.442791874624718",
         "5.603417847370989",
         "5.987582781859931",
         "6.191187962292188",
         "5.48304579907209",
         "5.528702210165973",
         "6.36959141278345",
         "5.600650868006375",
         "6.253352280639843",
         "5.646887531970947",
         "5.565169202988893",
         "5.809993384703762",
         "5.4645859097542395",
         "5.640101597344996",
         "5.396997953795282",
         "5.979073700140594",
         "5.3759665807234835",
         "5.526004794802673",
         "6.356780165622012",
         "6.60501181641278",
         "5.5847732685988944",
         "5.903323631954082",
         "6.472555575490702",
         "6.451941724058922",
         "5.651839225712532",
         "5.909037768818535",
         "5.424384084707015",
         "5.93136855249882",
         "6.087120706415128",
         "6.0392135855931715",
         "6.247470170878821",
         "5.95317327910417",
         "5.662509917928496",
         "6.347469416183467",
         "6.643208761714617",
         "6.011236018271129",
         "6.030297718317342",
         "5.813290792381504",
         "6.294588473786594",
         "5.677326418065213",
         "5.720543136406829",
         "5.980311463447463",
         "6.163120262800465",
         "5.966776507527445",
         "6.067371918861906",
         "6.135708961359905",
         "6.3130698249371715",
         "6.124627129404005",
         "5.667478802546337",
         "6.084522218061324",
         "5.886179832473474",
         "6.014972889537052",
         "6.119226727919421",
         "5.906766670722987",
         "5.618853370619569",
         "5.768194098472637",
         "6.352119815630138",
         "5.676372722826659",
         "5.289574876634542",
         "6.068699692752215",
         "5.874643283629119",
         "5.745458487361899",
         "5.57254942606164",
         "5.987582781859931",
         "5.537846780541343",
         "5.828707817052132",
         "6.353671117799634",
         "5.799310013758738",
         "6.186849111520921",
         "6.5002003116944564",
         "5.702023433392281",
         "6.641128242326028",
         "6.183934034450129",
         "5.755678761298719",
         "6.084522218061324",
         "6.514236529001596",
         "5.653700583475167",
         "6.248890112982937",
         "6.006174303176911",
         "6.460477496794899",
         "6.405253676356293",
         "5.629444337607021",
         "6.380934717982551",
         "6.0938844519102995",
         "6.092500735998048",
         "5.478573846054995",
         "5.787389359905653",
         "6.566303241941175",
         "6.076528048120931",
         "5.539671313054175",
         "6.345870092147343",
         "6.248890112982937",
         "5.574305099482665",
         "5.844123477360986",
         "5.95317327910417",
         "6.440025509381578",
         "6.0660849665154615",
         "5.591350825562218",
         "5.618853370619569",
         "6.387367198662449",
         "5.232066364586801",
         "5.566119031702711",
         "5.345307508091465",
         "5.520593635975512",
         "5.436642821663333",
         "5.682238879127028",
         "6.326962529964664",
         "5.551488668605822",
         "5.533313963169473",
         "5.596048472676178",
         "5.787389359905653",
         "5.748472005390578",
         "5.258710863609028",
         "6.124627129404005",
         "6.226961847865371",
         "6.475890575888321",
         "5.675477603207115",
         "5.562372988836493",
         "5.185252778158207",
         "6.2591047647760245",
         "5.627496183921391",
         "5.277656527165347",
         "5.603417847370989",
         "6.043136513997137",
         "5.468092003653058",
         "5.430487893709721",
         "6.198384090412915",
         "5.352680095389426",
         "5.366746534739446",
         "5.146919016271954",
         "5.729886245249466",
         "5.756753788653921",
         "5.389509055904978",
         "6.016300331813633",
         "6.331704772272558",
         "6.282555412551021",
         "6.783136045324345",
         "6.167357911387045",
         "6.670392561249121",
         "5.460275534646968",
         "6.0582809711235655",
         "6.350458204890322",
         "5.745458487361899",
         "5.226619564902847",
         "6.25765435522375",
         "6.347469416183467",
         "6.002496746899933",
         "6.186849111520921",
         "5.653700583475167",
         "6.501995898653736",
         "6.345870092147343",
         "5.514255439466339",
         "5.528702210165973",
         "6.228394454127525",
         "6.126003809822444",
         "5.9592310720881825",
         "5.323470687312901",
         "5.94225225265969",
         "6.287047864768559",
         "5.977880164882977",
         "5.404574465075544",
         "5.567932497030811",
         "5.503467533231715",
         "5.545172599213994",
         "5.725765229431669",
         "5.256337409572517",
         "5.3920064073085",
         "5.411362626025303",
         "5.708155376028697",
         "5.5414960341550135",
         "6.352119815630138",
         "6.20400591015994",
         "5.5470086420239655",
         "6.215346745862937",
         "6.5771710310851494",
         "6.254810001155697",
         "5.839827189670099",
         "5.991242078833666",
         "6.477614897502371",
         "5.728823305534145",
         "5.565169202988893",
         "5.451649203009245",
         "6.077884235565626",
         "5.629444337607021",
         "5.936215213233821",
         "5.613985762926693",
         "6.2518364638259145",
         "5.934997710965221",
         "5.433156999485981",
         "5.258710863609028",
         "6.119226727919421",
         "5.702023433392281",
         "5.497216649346795",
         "6.559014428016813",
         "6.0938844519102995",
         "5.600650868006375",
         "5.528702210165973",
         "5.44895742998063",
         "6.601101621726062",
         "5.720543136406829",
         "6.453638257251658",
         "5.914721113338295",
         "5.7041571751621625",
         "6.53197674719078",
         "6.325343150504836",
         "5.868913476321965",
         "6.704120603522334",
         "6.623984118178008",
         "5.780966989016394",
         "5.891844977531318",
         "6.222652440964044",
         "5.576273013988769",
         "6.338111818131203",
         "5.366746534739446",
         "5.456848842882611",
         "5.549703628939253",
         "5.037359911886968",
         "5.394499426792055",
         "6.05708889755635",
         "5.850855154342539",
         "6.164495791885054",
         "5.803726422182969",
         "5.827641669745743",
         "5.890684573872078",
         "5.728823305534145",
         "5.497216649346795",
         "6.0000043247683275",
         "5.6586525417394",
         "5.949540390303136",
         "5.781982112935538",
         "5.87813443843798",
         "5.86318845787469",
         "6.334941502817752",
         "6.123259397990908",
         "5.803726422182969",
         "5.928979602180382",
         "5.882712795861886",
         "5.893013003947198",
         "5.480328991816934",
         "5.873509726937609",
         "5.077988856611959",
         "5.624683475297187",
         "5.421712166048397",
         "5.570662468123443",
         "5.998719852491343",
         "6.170169568974456",
         "5.771384280881334",
         "6.53197674719078",
         "5.754625382843198",
         "6.27522012500836",
         "5.666519379505754",
         "6.209774336503765",
         "6.360077958291885",
         "5.881590756200097",
         "6.336508897592659"
        ],
        [
         "ENSG00000187961.13",
         "1.995472325953732",
         "1.7751909043191139",
         "1.3477239206993497",
         "1.941918493338303",
         "1.7318071352141569",
         "1.506001632050458",
         "1.6339676157347112",
         "1.9187087315907525",
         "1.8831417164812572",
         "1.8975920086119737",
         "1.5712991080513414",
         "1.9762242911861063",
         "1.946332741953108",
         "1.9736433156353894",
         "1.3967470256546384",
         "1.450854101699916",
         "1.7639153412414765",
         "2.393337225339614",
         "1.9920266936153659",
         "1.568511725703698",
         "2.0523677795516235",
         "2.236146794322482",
         "1.2894704963588157",
         "1.5712991080513414",
         "2.2528802295791377",
         "1.8911029186581667",
         "1.8315739832719675",
         "1.9023956589787936",
         "1.890665847218957",
         "1.3958046220521243",
         "1.5153917041500715",
         "1.6387222630697333",
         "1.8388086719819101",
         "1.4848211277956254",
         "1.4536538753801196",
         "2.0713945026827196",
         "1.6859905395107084",
         "1.9335748872445484",
         "1.6910327135939522",
         "1.7175725272558435",
         "1.5187335604223409",
         "1.7079435731843113",
         "1.7381315523841547",
         "1.3091214486893166",
         "1.5824967219444743",
         "1.5467338401728397",
         "1.50934601598394",
         "1.9889220344461118",
         "2.187972024973494",
         "1.642801962501783",
         "2.814668365273445",
         "2.0030081765188044",
         "2.1900916870335854",
         "1.8729894905736084",
         "2.9333977217743525",
         "1.8560500664049733",
         "1.443867793439549",
         "1.884898200616415",
         "2.0868768368480843",
         "1.5182610960325547",
         "1.8623260247226319",
         "2.0562971511712766",
         "1.9792813904255164",
         "1.9502900124170923",
         "1.9498306895203685",
         "1.5694264755429999",
         "1.8320472913500234",
         "1.842843264600027",
         "2.2881064243115055",
         "2.004757878781774",
         "1.7243796855448756",
         "1.1325645668950806",
         "1.814533632409328",
         "1.003035336816809",
         "1.4885681390602663",
         "1.4433863138002478",
         "1.7834316490031767",
         "1.0846715454854263",
         "2.0072954046169773",
         "0.990746226921463",
         "1.7198186023519422",
         "1.8050355785002539",
         "1.9112128024362844",
         "1.526188898629357",
         "1.9613994421111813",
         "2.355197825321768",
         "2.087268650675187",
         "1.9200409926445856",
         "1.8786821461242822",
         "1.7340543379081426",
         "1.8822831423340296",
         "1.8019079096779613",
         "2.1265889870007024",
         "1.1927105311331871",
         "1.1760121263853203",
         "2.1342498081242343",
         "1.7643624352876357",
         "1.3421186186587595",
         "2.224428123138243",
         "1.5885955182192946",
         "1.599327631222843",
         "1.632596277046175",
         "1.9727850981296302",
         "0.7983601417060091",
         "2.0237083637104925",
         "2.1834287573778046",
         "1.7751909043191139",
         "1.4654472798101315",
         "1.372239180776027",
         "1.758025570685587",
         "2.4194088947093455",
         "1.46497353298106",
         "1.9994712795298286",
         "1.7960408602692917",
         "1.7189421556242193",
         "1.43771492490827",
         "2.2115762634108918",
         "1.9757913328159622",
         "1.5453727318505357",
         "1.479039565844992",
         "2.417740382035948",
         "1.4885681390602663",
         "1.505515112125674",
         "1.6878238865395134",
         "1.8401531111032208",
         "1.5591668789785988",
         "2.027586889772808",
         "0.9628218312414295",
         "1.7648257843477342",
         "1.4584201630867366",
         "1.8450256150086504",
         "1.7363204145971944",
         "1.8100040731581193",
         "2.432001207724995",
         "1.846790807094367",
         "1.6878238865395134",
         "1.7688871152925543",
         "1.6873685399009992",
         "2.0280266379774807",
         "1.865406261168039",
         "2.10055329413378",
         "2.110471970679436",
         "1.4074614459769497",
         "2.018471816734825",
         "1.5657548322019006",
         "1.8538324813598344",
         "1.8275478347541783",
         "2.218660667852474",
         "1.965743082029929",
         "1.6732846009680937",
         "1.6558386513079382",
         "1.758025570685587",
         "1.833890750062938",
         "2.179234622652607",
         "1.6456325773502984",
         "1.6996616742480821",
         "1.6686851971423735",
         "1.4828866336982038",
         "1.8054864620359765",
         "1.4630786517394918",
         "1.8515836721462344",
         "2.20447390522047",
         "1.5276071902749024",
         "1.6791756197244505",
         "1.5778115988891925",
         "0.9653185680115257",
         "1.7892110751791195",
         "1.3637840161940802",
         "2.0016787393793183",
         "1.8297777457350413",
         "1.9788399958254055",
         "1.9015167264445312",
         "1.8302163118772656",
         "1.98979987143158",
         "1.866268819334338",
         "1.4729802071110147",
         "1.2474726481991643",
         "2.000824843442729",
         "1.7152192972715254",
         "1.792376538571904",
         "2.121057586024355",
         "1.3750478644628965",
         "1.09674071385372",
         "1.302974886246202",
         "1.6932794383968792",
         "0.49204480149464985",
         "1.6819111015133021",
         "1.7444637268790921",
         "2.1312586053234033",
         "1.652101978535998",
         "1.4721190556869368",
         "1.384970121225939",
         "1.6709895645019899",
         "1.713368074323054",
         "1.9766503369890678",
         "1.7883169450086818",
         "1.4946418742058587",
         "1.8140761703347352",
         "1.9401592286574574",
         "2.2664779545531006",
         "1.9107638829924751",
         "1.9757913328159622",
         "1.4922753986882662",
         "1.0277218767237135",
         "1.565300587854207",
         "1.7834316490031767",
         "1.681026265780637",
         "1.4743485606234632",
         "1.9480900644741754",
         "2.050654374922485",
         "1.5368726565667965",
         "1.7716305895319124",
         "2.2182650942245825",
         "2.4665673564871176",
         "2.1675138011349304",
         "1.74674125136768",
         "1.8167517037642433",
         "1.1712065638730773",
         "1.6563308098401632",
         "1.599327631222843",
         "1.9200409926445856",
         "1.7584850537592256",
         "2.3424892894786065",
         "1.2800211004431807",
         "1.4852938272118166",
         "2.0176149077226118",
         "1.7331370915310185",
         "1.9981299286458694",
         "1.5323148304182603",
         "1.9989972274207288",
         "2.3688041427961752",
         "1.3878532983749505",
         "1.2427012081923805",
         "1.4348398780460774",
         "2.050260894779872",
         "2.1859197662494183",
         "1.5182610960325547",
         "2.0816882928394755",
         "1.995472325953732",
         "1.8875637280767856",
         "1.9103047558231847",
         "1.952543468835864",
         "1.433907953234203",
         "1.3416581134648453",
         "1.8257832656788116",
         "1.2927967095463648",
         "1.4536538753801196",
         "1.4019114282023069",
         "1.470227444794798",
         "1.5937453689697236",
         "1.9098672916990618",
         "2.0830241939556617",
         "1.2383568358775152",
         "1.5923282833811643",
         "1.899365628505415",
         "1.7248361603187359",
         "1.849822892626789",
         "1.4126667550704755",
         "1.5541148269057978",
         "1.6718987023143588",
         "2.001256045205172",
         "1.6349512051721584",
         "1.6377663235670221",
         "1.1113399929604706",
         "1.4098117150587657",
         "1.3176413862502772",
         "1.9010780803115048",
         "1.8293399363463116",
         "1.1645206221034505",
         "1.3557787375964905",
         "1.979725736929285",
         "1.9041456156533851",
         "1.9845994414733659",
         "1.7616224532553295",
         "2.3149495295049536",
         "1.9985553916235717",
         "1.2619573986090804",
         "1.8587219471199927",
         "1.77751610093392",
         "1.5002710062820117",
         "1.8984676755030856",
         "1.5545789457445855",
         "1.9924510895178842",
         "1.5629095124790164",
         "1.9187087315907525",
         "1.9832352945839857",
         "2.0387244172018724",
         "1.382145743204633",
         "2.3404037008064478",
         "1.7616224532553295",
         "1.9976664277730765",
         "2.078299337798979",
         "2.0980326695245597",
         "2.247411569161953",
         "2.003434595577053",
         "2.194316053601314",
         "1.4126667550704755",
         "1.6919650401271358",
         "1.7318071352141569",
         "1.763445221994797",
         "1.8199294843990663",
         "1.53140570515407",
         "1.5012206056155364",
         "1.4192263648677759",
         "1.2474726481991643",
         "1.9191472279106587",
         "1.6658892942480519",
         "1.7308611127201277",
         "1.946332741953108",
         "1.895379064310241",
         "1.7083806703394016",
         "2.285159666680885",
         "1.8167517037642433",
         "1.8190061982328256",
         "1.7874243580905274",
         "2.1346562084482805",
         "1.6691419726836467",
         "1.6705370330099298",
         "2.1444121563805294",
         "1.6700750830588473",
         "1.909422572378993",
         "1.9296815013270405",
         "1.9631534500600774",
         "1.7207271964839674",
         "1.6288791308729926",
         "2.066263396845505",
         "1.9591915523331436",
         "2.1091899766856637",
         "2.0068858236010323",
         "1.6066898897271458",
         "1.6335061652931198",
         "1.5997816194980936",
         "2.0081382074617267",
         "2.0323232646679403",
         "2.110471970679436",
         "1.5425573086263107",
         "1.4107247941233327",
         "1.9627287016988122",
         "1.86982963890408",
         "0.8531787899327501",
         "1.6149919812970013",
         "2.4039855578189657",
         "1.4664040001276297",
         "1.9854516343995054",
         "0.9867636733017386",
         "1.046906596177043",
         "2.5788143177392264",
         "1.821718530143577",
         "1.7652846655017687",
         "2.1662581899166375",
         "2.2285988539745745",
         "1.4329355859433028",
         "1.9222397013901518",
         "1.9322745721459187",
         "1.9313749895865528",
         "1.851127207387723",
         "1.537334743242527",
         "1.2227414912073518",
         "1.8348192029566486",
         "0.9315799053178003",
         "1.4202146402984472",
         "1.5638608827943579",
         "1.7570933675484797",
         "1.3010206959045345",
         "1.861868777573803",
         "2.547972116119439",
         "1.5960589513622525",
         "1.9187087315907525",
         "1.8875637280767856",
         "1.772083168499124",
         "1.8392639506337218",
         "1.2899454317511985",
         "1.5745896115975389",
         "1.9191472279106587",
         "1.650261810202567",
         "1.7643624352876357",
         "2.0558591234444523",
         "1.5382615113946712",
         "1.4937152438393881",
         "1.8707475049553013",
         "1.5610326335106506",
         "1.3972000108285982",
         "1.5638608827943579",
         "2.1830210490749065",
         "1.7010320776788512",
         "2.0916064472879556",
         "1.4295840995588407",
         "1.3797427757532847",
         "1.675113325896828",
         "2.27311676145313",
         "1.694241641994916",
         "1.1822888295024678",
         "1.6233492923654185",
         "2.061074224271832",
         "1.3976807236384199",
         "1.731323826183596",
         "1.9138527331586042",
         "1.73450886073081",
         "1.5401646479861624",
         "2.147738345619399",
         "1.4852938272118166",
         "1.141263852820194",
         "1.4239596327974862",
         "2.5707089768124995",
         "1.5045270370064479",
         "1.5586890501252197",
         "1.9959052418746601",
         "2.049029404404426",
         "1.0420414336297368",
         "2.3700245124374115",
         "1.4310422932262514",
         "1.758918078459693",
         "1.4890461392991556",
         "1.7202469969310763",
         "2.0442933751041097",
         "1.941918493338303",
         "1.6511648683782745",
         "1.4974436465341505",
         "1.5017103402150105",
         "2.093342190056736",
         "1.4009624958444997",
         "1.68145799844044",
         "1.8014475226910018",
         "1.6901037759111714",
         "1.5914126566903466",
         "1.6978826671065954",
         "1.6783004800638286",
         "1.2809927965541472",
         "2.2839107008583186",
         "1.9472069579984246",
         "1.854272686791286",
         "2.0323232646679403",
         "1.6823710801666825",
         "1.3218437629160642",
         "1.5960589513622525",
         "1.5467338401728397",
         "1.4951181233563764",
         "2.1410156528062134",
         "1.4997981198090482",
         "2.0705319201010055",
         "1.5271423313644563",
         "2.151142960514437",
         "2.2714498915205574",
         "2.093342190056736",
         "2.0511280895448922",
         "1.8172255981924776",
         "1.9805936461340568",
         "2.198544874795759",
         "1.265247250561702",
         "2.0206785622189853",
         "1.853374434835296",
         "1.778902699371801",
         "1.4937152438393881",
         "1.5494993725256032",
         "0.8671934664020929",
         "2.308335672543314",
         "1.6636668316358265",
         "1.4088650495294444",
         "1.6293393890918582",
         "1.8853483847866355",
         "1.6534937643341685",
         "1.5876913718293149",
         "1.477214463578012",
         "1.98979987143158",
         "1.9388289954631988",
         "1.8941368197141821",
         "1.5689714306647258",
         "1.6896499163812566",
         "1.690578645180798",
         "1.9574339578829993",
         "1.5135557891659417",
         "1.476691585109546",
         "1.943302401481574",
         "1.0386189571043536",
         "1.6247447571568074",
         "1.6850897272604954",
         "1.5327615732724944",
         "1.7548126316338315",
         "1.9313749895865528",
         "1.782547638106711",
         "1.8257832656788116",
         "1.7458338853957711",
         "1.5810828929108738",
         "1.6737246175132008",
         "2.0323232646679403",
         "1.315766884857774",
         "2.087268650675187",
         "1.7847633486232422",
         "1.7280735592748326",
         "1.6663505952125548",
         "2.0374253796145796",
         "2.195608092938732",
         "1.9327189312629465",
         "2.3379767734455594",
         "1.8310988720718542",
         "1.758918078459693",
         "2.047769023888694",
         "1.2503190727818454",
         "1.7675295473044843",
         "1.6252124830381838",
         "2.250367162008584",
         "2.8753937046705054",
         "1.9561265763442008",
         "1.1764787398279606",
         "1.1683239734196127",
         "1.8632304803284399",
         "1.8949579254503914",
         "2.6455074317210143",
         "1.848970121997124",
         "1.0677947653800555",
         "2.2207487879032044",
         "1.7593574055745262",
         "2.1252986679837065",
         "1.9383943104812904",
         "2.0090338288497893",
         "1.5140188555194103",
         "1.5782905638028575",
         "1.9222397013901518",
         "2.0975953088224313",
         "1.8248456775422284",
         "2.7576231390675114",
         "1.8641108212751578",
         "1.8032199123461718",
         "1.5050276780083172",
         "1.6622668870076132",
         "1.5007491162538023",
         "1.599327631222843",
         "1.4286246213590095",
         "1.3388662715659991",
         "1.0154702006041236",
         "1.7666120668888465",
         "1.9112128024362844",
         "1.8949579254503914",
         "1.6507010783564249",
         "1.5848644350299792",
         "1.6195546100034377",
         "0.9249148771081603",
         "2.17380796537236",
         "1.677843257637427",
         "2.230264373427686",
         "1.6163391110206937",
         "1.7675295473044843",
         "1.3388662715659991",
         "1.689193201195727",
         "2.344998878162992",
         "2.2570250755536096",
         "1.5844352363699727",
         "1.5177694894397582",
         "1.6791756197244505",
         "2.1533139214050943",
         "1.3538406622083294",
         "2.534071960010531",
         "1.7738509747465778",
         "1.68145799844044",
         "1.861011800337651",
         "1.3228019928931984",
         "1.3034567503958068",
         "1.9613994421111813",
         "1.6773679293983272",
         "1.635444681781965",
         "1.8064142475180935",
         "2.462538320383733",
         "1.77751610093392",
         "1.6284148033266017",
         "1.9836932480545701",
         "1.5619792658914862",
         "1.9516103936500109",
         "1.7106480443716585",
         "1.2203435873506132",
         "1.1263132143798125",
         "1.4697702761684135",
         "1.9792813904255164",
         "1.0793344097779027",
         "1.4922753986882662",
         "1.8667330563270512",
         "1.0658583585958026",
         "3.075775941321741",
         "1.8410457335684542",
         "1.6145615166621685",
         "1.7359083856050943",
         "2.059342234353258",
         "1.3048717227588926",
         "1.3360330712129371",
         "2.0413121112473624",
         "2.3621841544699747",
         "1.8392639506337218",
         "1.3482131686139225",
         "1.683696068271574",
         "1.315766884857774",
         "1.8293399363463116",
         "2.139730230983009",
         "1.4145536811378554",
         "1.2503190727818454",
         "2.022436216035876",
         "1.6256747415947561",
         "2.113478243970952",
         "2.166656071286325",
         "1.1272735851483373",
         "1.004995542184397",
         "1.763445221994797",
         "1.5633736457903062",
         "1.659060078615232",
         "2.1494378459627046",
         "1.5983965968795477",
         "1.5462537124545037",
         "2.1638024802631146",
         "1.5633736457903062",
         "2.16500348528777",
         "1.865406261168039",
         "2.1052695895157583",
         "1.43771492490827",
         "1.7896625837781537",
         "2.156666690645282",
         "1.7946829004917808",
         "2.236146794322482",
         "2.5190340262035513",
         "1.7843128589247164",
         "1.8600957332421217",
         "1.6609035528364682",
         "1.9327189312629465",
         "1.810899907568668",
         "1.3731964201691103",
         "2.047333775969587",
         "2.2281777085937224",
         "1.4135936600533252",
         "1.5586890501252197",
         "1.5619792658914862",
         "1.7202469969310763",
         "1.6043555532753213",
         "2.229886095908389",
         "1.8641108212751578",
         "1.6572387330802063",
         "1.6043555532753213",
         "2.232331257544432",
         "1.3623921172827018",
         "1.773419341178978",
         "1.659532663787589",
         "1.971916929975312",
         "1.9200409926445856",
         "1.9322745721459187",
         "1.3694352945691428",
         "1.482425053083475",
         "1.6882675935649598",
         "0.8866062836036629",
         "1.6576964206339833",
         "1.26242197529235",
         "1.7598072068820716",
         "1.2270239151314342",
         "1.1258490316010215",
         "1.3868847460735871",
         "1.522930827170969",
         "1.4890461392991556",
         "1.8320472913500234",
         "1.6396581379470017",
         "1.713368074323054",
         "1.3958046220521243",
         "2.101404439876043",
         "1.3477239206993497",
         "2.2855785044067507",
         "1.5084034440331957",
         "1.7684304151549388",
         "1.0213574707761943",
         "1.6887455809227399",
         "2.1771618829120323",
         "1.261487559288854",
         "1.104050781303836",
         "2.17338979459271",
         "2.1359032645806955",
         "1.275365312431946",
         "1.3689653189755366",
         "2.027586889772808",
         "1.5867806162428697",
         "1.0502393681050088",
         "1.4659342126687052",
         "1.3318042091436593",
         "1.4174156808493235",
         "1.4890461392991556",
         "1.595594802869715",
         "2.4761030089372786",
         "2.1846640280795087",
         "1.795590614790471",
         "2.023299557547327",
         "1.0464173585177545",
         "1.0749507547939696",
         "1.7412674719771117",
         "2.02112703522912",
         "1.54722016821563",
         "1.3209012183933735",
         "1.9080724489572107",
         "1.1354382534080256",
         "1.5121583977749324",
         "1.822633325662203",
         "1.864974267840123",
         "2.3408258845904397",
         "1.890665847218957",
         "1.4904522702611391",
         "2.2069659793380576",
         "2.582099252748576",
         "2.2132614481421022",
         "1.3199846843844798",
         "1.6456325773502984",
         "1.9989972274207288",
         "1.9732332533769188",
         "1.3995276065243032",
         "0.781719140662531",
         "1.5187335604223409",
         "1.305846816416466",
         "1.9454583961224778",
         "1.2070219845546668",
         "1.7079435731843113",
         "1.1855425313540233",
         "1.3519475967129952",
         "1.9270376109209828",
         "1.5824967219444743",
         "1.4946418742058587",
         "1.5079460652884809",
         "1.8329774758871746",
         "1.4848211277956254",
         "1.4452601647790677",
         "1.2169258201445006",
         "1.649809724893448",
         "2.202803108288454",
         "2.3941575622408475",
         "1.6783004800638286",
         "1.6131993077530422",
         "2.021995821587961",
         "1.560561495654243",
         "1.4324651207773584",
         "1.3034567503958068",
         "1.6636668316358265",
         "1.3449500293528034",
         "1.7304009936316513",
         "1.2748876663645572",
         "1.2595507960528733",
         "2.018471816734825",
         "1.6368282668658845",
         "1.4135936600533252",
         "1.8388086719819101",
         "1.782547638106711",
         "1.6970062983627974",
         "1.766177984076771",
         "1.7322497175762919",
         "2.2256811176016784",
         "1.8000831811667024",
         "1.3091214486893166",
         "2.3929356170002047",
         "1.365202980697085",
         "1.4697702761684135",
         "1.1575022826668004",
         "1.6136667018739783",
         "1.6627595617392819",
         "1.255641140196902",
         "1.303937609920378",
         "1.9370456562597054",
         "0.6156459737662162",
         "1.4922753986882662",
         "1.659532663787589",
         "1.0332067575131945",
         "1.887125635102827",
         "1.1234565433119006",
         "1.0919206696817725",
         "1.5201684983103978",
         "1.7974005929644867",
         "2.07609776096364",
         "1.1002225833150254",
         "2.0336037070144024",
         "1.4683451942997452",
         "1.5782905638028575",
         "1.4621416919944294",
         "2.4409349568852847",
         "1.6071739125660969",
         "2.164603573618393",
         "1.49417568842363",
         "1.6686851971423735",
         "1.543009067113172",
         "2.4109140807957963",
         "1.7161682350219238",
         "1.7666120668888465",
         "2.18508118479768",
         "1.5290332966347862",
         "1.9600735525526631",
         "1.3782952766638097",
         "2.146916212689433",
         "1.8555839704223054",
         "1.5848644350299792",
         "1.698767393354827",
         "1.8627631169321157",
         "1.7679787921623753",
         "1.6783004800638286",
         "1.4946418742058587",
         "2.0575924239455707",
         "2.113478243970952",
         "2.0821151034153367",
         "2.0267577700144077",
         "1.3637840161940802",
         "2.035280397137378",
         "1.2451198279340079",
         "1.9999090116850624"
        ],
        [
         "ENSG00000187583.10",
         "0.2946291699513528",
         "0.9927362857320947",
         "1.5345899239078222",
         "0.7994556194039388",
         "0.4913802875408572",
         "0.4845085792035093",
         "0.7251495760411745",
         "0.21526341303583246",
         "0.6528578371733256",
         "0.14438938281968838",
         "0.7741941320067142",
         "0.6492917390624952",
         "0.3307431202825068",
         "0.6463641658408934",
         "1.4781430923537775",
         "0.20991529155535782",
         "1.2274841535615837",
         "0.8202278422221334",
         "0.6935532524371915",
         "0.9106751343144852",
         "0.7412389704534215",
         "0.5220919338157983",
         "0.7268305382936673",
         "0.356139902627693",
         "0.18759284587157693",
         "0.44467950524307753",
         "1.0517151430142802",
         "0.8537299353963523",
         "1.0595548913962998",
         "0.498670042299469",
         "0.5240212334978845",
         "0.5382734997122358",
         "1.1378223404765784",
         "3.4509895949068476",
         "0.6198306535993301",
         "0.5882466402009483",
         "0.4741886009350694",
         "0.21422166358487546",
         "0.393051851118171",
         "0.08573817778291415",
         "0.7279430222640065",
         "0.6198306535993301",
         "0.5876634812457604",
         "0.45523163253853477",
         "1.1869576000635615",
         "1.5121583977749324",
         "0.8186420841547895",
         "0.504062246620176",
         "0.6879280352528973",
         "0.28012579728059855",
         "0.2304554034548915",
         "0.20875923929577975",
         "1.4107247941233327",
         "0.544140604724152",
         "0.11737114855073992",
         "0.24206315908468548",
         "0.46370243832881",
         "0.7924022018799106",
         "0.2131698004485339",
         "0.2755152620593738",
         "0.7719818893781006",
         "0.6487352145064975",
         "0.6004356286117669",
         "0.7610785399670621",
         "0.5732680039498154",
         "0.713518864849858",
         "0.40668338535415677",
         "0.7455743946243174",
         "0.33327607945462107",
         "0.8785160241039665",
         "0.07138187421686311",
         "0.25220446487577713",
         "0.8728634660280389",
         "0.33159419409743335",
         "0.45100848696688944",
         "0.8614945497759855",
         "1.5074589691936113",
         "1.2169258201445006",
         "1.1750305035797912",
         "0.9193790673303196",
         "1.2336816316221026",
         "0.585126313175727",
         "0.9598118486617603",
         "0.4148972800830728",
         "0.10428464825665563",
         "2.9535165003116775",
         "0.3585002626516522",
         "1.7969297244359288",
         "0.7583319269369018",
         "0.17901797523225269",
         "0.11737114855073992",
         "0.5266194215115099",
         "0.1687281200398718",
         "0.9224162314905665",
         "1.0473646835462096",
         "0.7643386762543519",
         "0.46510394253820336",
         "0.2946291699513528",
         "0.4475236339780515",
         "0.5819584068220672",
         "1.2279599214760637",
         "0.9239175847453968",
         "1.1103703019031377",
         "0.5208128598806177",
         "0.11554175482619077",
         "0.17901797523225269",
         "1.0837538883478732",
         "0.5094913050956767",
         "0.3479556038775975",
         "0.7477877907482228",
         "0.5454406996597868",
         "0.8748755903074252",
         "1.4918687066632514",
         "0.5266194215115099",
         "0.7643386762543519",
         "0.4433025992230209",
         "0.36089385798171997",
         "0.5562075658166273",
         "0.5676454223144108",
         "0.8159743048305639",
         "1.3025303137641229",
         "0.4148972800830728",
         "0.22073804173541114",
         "0.9996466403748191",
         "0.6107722483188286",
         "0.4193821543534589",
         "0.2550798234577514",
         "0.5479970603787171",
         "0.9653185680115257",
         "0.6964426317770952",
         "0.5201467180108673",
         "0.40744935142515004",
         "0.9417613619432672",
         "0.8212846428332299",
         "0.3430864643655584",
         "0.3767419205991645",
         "0.7741941320067142",
         "0.47347456798180587",
         "0.702149014040941",
         "0.4179363881022025",
         "0.7555224370393048",
         "1.156094153570191",
         "0.46510394253820336",
         "0.504062246620176",
         "0.43101391600910655",
         "0.6022830344877511",
         "0.26883949609559965",
         "0.4622701399514834",
         "0.17005283567941204",
         "0.25316337435451",
         "0.28012579728059855",
         "0.3496268960257929",
         "0.29736197711581025",
         "0.273587964248726",
         "0.6101660364759119",
         "1.3043988309291827",
         "0.9951551980550017",
         "1.4300641237735279",
         "0.3090495632437491",
         "0.6010657367329751",
         "0.8307445479986681",
         "2.546742217427467",
         "0.4593697224307827",
         "0.33409396252101975",
         "0.9295430559272609",
         "0.874394268444712",
         "0.11554175482619077",
         "0.24097293685771046",
         "0.12926322761532041",
         "0.7379492120911699",
         "1.5694264755429999",
         "0.4776324053437739",
         "1.4461942916102775",
         "0.7044212237233888",
         "0.8405240489923145",
         "0.6386744611115274",
         "0.172620836902448",
         "0.6828633280006573",
         "0.4545105860679972",
         "0.1370813893276279",
         "0.22615748864982518",
         "0.2550798234577514",
         "0.2229017953902731",
         "0.7714276308650051",
         "0.5141313871875465",
         "0.670198398490327",
         "0.33409396252101975",
         "0.8599161950598281",
         "0.6299102214465436",
         "0.5233594329395556",
         "0.28196263181843534",
         "0.2471034721348151",
         "0.10038534007133375",
         "0.7095500317976129",
         "0.3528338821975772",
         "0.7577706985869406",
         "0.256074576026207",
         "0.3455073004873263",
         "1.1584563020318455",
         "0.47065151309265263",
         "1.5671280585885514",
         "0.989783139363738",
         "0.9417613619432672",
         "0.2755152620593738",
         "0.3422960414521015",
         "0.17901797523225269",
         "0.356139902627693",
         "0.3830519588522569",
         "0.5330481737963221",
         "1.376918663744763",
         "0.5676454223144108",
         "0.38925712642568866",
         "0.8410577454016486",
         "0.9956458049932955",
         "1.00065279582276",
         "0.97129105268662",
         "0.08124213059188479",
         "0.8421077113663921",
         "0.3161732522758757",
         "0.39153702270651997",
         "0.5524544523419876",
         "0.24509869386769306",
         "0.6731324138633139",
         "0.3422960414521015",
         "0.5967445214329351",
         "0.1543461532846683",
         "0.9310644433731127",
         "1.505515112125674",
         "0.07387222492083201",
         "0.1971034298394005",
         "1.7335964039302305",
         "0.3656912832329968",
         "0.9653185680115257",
         "0.6873497745334392",
         "0.30992142416789087",
         "0.338206950770623",
         "0.2369191727923201",
         "0.7768679854526773",
         "1.773419341178978",
         "0.44119121854427934",
         "0.7318472670447488",
         "0.6357783172435613",
         "0.4993176013311249",
         "0.4119400475530678",
         "0.9270044275399102",
         "0.6053414430993911",
         "0.4823704586563253",
         "0.45523163253853477",
         "1.391594238359383",
         "0.3054738609911214",
         "0.26000427681991733",
         "0.48304172760845837",
         "0.26309611267617994",
         "0.4186168393308492",
         "0.550496399265235",
         "0.20426094526668967",
         "0.34716254964459153",
         "0.13563011900336086",
         "1.2308622462122327",
         "0.21855219576593687",
         "0.17523285927994905",
         "0.7549597552035684",
         "0.5402115470532708",
         "1.223212386216985",
         "0.6748490130640036",
         "0.34716254964459153",
         "0.20541513582226764",
         "0.9009909024027227",
         "0.39231362676444814",
         "1.263840046134486",
         "0.6516749451944601",
         "0.753852666942335",
         "0.41046778042866344",
         "0.44822624469950245",
         "1.3053851084260208",
         "0.2065560950545169",
         "0.7757727770457056",
         "0.3107661243258311",
         "0.3705050441713989",
         "0.6047489839831699",
         "0.24809704933906157",
         "0.9112169590138117",
         "0.8159743048305639",
         "0.9582948853211222",
         "0.2621245216838915",
         "0.7038618411091833",
         "0.20768606249590132",
         "0.26309611267617994",
         "0.45730235254800533",
         "0.8191624493603595",
         "0.7897280817524115",
         "0.8271078858961772",
         "0.24610999423924013",
         "0.5882466402009483",
         "0.5912970816888822",
         "0.4375607750141179",
         "0.4769247765378463",
         "1.0483165009876108",
         "0.19478676718380472",
         "0.11906925480928886",
         "0.3307431202825068",
         "1.1527982656169944",
         "0.2911149335856897",
         "0.1764762371643818",
         "0.4565595429658789",
         "0.16360226036485015",
         "0.26104669442082673",
         "0.4179363881022025",
         "0.3672581744932072",
         "0.8938090346570762",
         "0.7124350552544226",
         "0.8338212416152996",
         "0.884557233688165",
         "0.23891721009492783",
         "0.4755566616889145",
         "0.6126037023359678",
         "0.8753782707410384",
         "0.16360226036485015",
         "0.2621245216838915",
         "0.5285345434718898",
         "0.23791230562627325",
         "0.22509390060279413",
         "0.39834052442490325",
         "0.20875923929577975",
         "0.3045968541227422",
         "0.3759659584705927",
         "0.36894854621550893",
         "0.4368420228588096",
         "1.0648526595145136",
         "0.2773530187925346",
         "0.7902643192363213",
         "0.44188216435868427",
         "0.20875923929577975",
         "0.5181341769535064",
         "0.5240212334978845",
         "0.5580393642335063",
         "1.2313452797411901",
         "0.6363747498402941",
         "0.6198306535993301",
         "0.49539232981643755",
         "0.6016776573097677",
         "1.140279117530894",
         "0.7779554924993443",
         "0.43900631793957473",
         "0.6107722483188286",
         "0.3868870678090722",
         "0.5382734997122358",
         "0.11380839992884866",
         "0.4397078176242498",
         "0.4816800637125765",
         "1.210365668705043",
         "0.6563979346655925",
         "1.0716682786324228",
         "0.8881347336208189",
         "0.6041540927741451",
         "0.5832430090705838",
         "0.6794646860400118",
         "0.33327607945462107",
         "0.29373249527650364",
         "0.45169516896341266",
         "0.6644877319905833",
         "0.1674678171005679",
         "0.6998644572372836",
         "0.4303286623255267",
         "0.9178334740530926",
         "1.3675360810796822",
         "1.2551486233053704",
         "1.144109367369274",
         "0.8563408236941199",
         "1.8667330563270512",
         "0.7875061732121398",
         "0.41271816815262097",
         "0.3868870678090722",
         "2.540997063817006",
         "0.4267195180906564",
         "0.32574389510063606",
         "0.3945851100471446",
         "0.4223051959198721",
         "1.054609420645275",
         "0.3536599411821102",
         "0.40061465705361926",
         "0.888660948328648",
         "1.0203245877491305",
         "1.195543011800537",
         "0.4886873885083206",
         "0.5813209876762979",
         "0.8255655239888332",
         "0.9219248527618343",
         "0.37519376784804376",
         "2.6991134192001804",
         "0.6281091210507483",
         "0.7290344994852426",
         "0.5208128598806177",
         "0.9224162314905665",
         "0.5955070915603972",
         "0.45032974083926947",
         "0.887610132892438",
         "1.2284657328157724",
         "0.4693188590937521",
         "2.3515333280255617",
         "0.5713822699576641",
         "0.3487637034894027",
         "0.48379141698103245",
         "0.553683589793956",
         "0.18759284587157693",
         "0.5670009024936536",
         "0.33159419409743335",
         "0.5000062830876199",
         "0.399076783079737",
         "2.3211987653897532",
         "0.8191624493603595",
         "1.1167084679098094",
         "0.166148874017591",
         "0.6857031072717678",
         "0.21745870489201538",
         "0.38925712642568866",
         "0.5141313871875465",
         "0.44188216435868427",
         "0.6305346651077924",
         "0.5625682315641318",
         "0.44897227058144984",
         "0.42156669182135237",
         "2.141867530842713",
         "0.7527474943031441",
         "1.0055057787014614",
         "0.4397078176242498",
         "0.18033248407395255",
         "0.6203876286246092",
         "0.4776324053437739",
         "0.460828050785867",
         "0.7395907798221901",
         "0.8410577454016486",
         "0.3054738609911214",
         "0.7660280192209831",
         "1.0144749889878217",
         "1.0595548913962998",
         "1.8975920086119737",
         "0.1674678171005679",
         "0.399076783079737",
         "1.0065073311800758",
         "1.1984385661147128",
         "0.6126037023359678",
         "0.1815600888008592",
         "0.9244198699060767",
         "0.7201966729151428",
         "1.1494346159607927",
         "0.855268231063393",
         "0.4593697224307827",
         "0.8542489097468382",
         "0.4148972800830728",
         "0.20875923929577975",
         "1.5848644350299792",
         "1.8813698809475745",
         "1.4862601038495336",
         "0.5128700064873143",
         "0.6794646860400118",
         "0.13400619711641795",
         "0.5807218125192565",
         "0.41563391210157263",
         "0.44897227058144984",
         "0.4699745251709595",
         "0.24097293685771046",
         "0.4755566616889145",
         "1.0420414336297368",
         "0.20305895164154344",
         "2.148587220241296",
         "0.26309611267617994",
         "0.9742776720982192",
         "0.6964426317770952",
         "0.6650654506537854",
         "0.1609704359735461",
         "0.20426094526668967",
         "0.38609905114892684",
         "0.534964954194392",
         "1.1369094428589142",
         "0.17133315506487187",
         "0.40214054520897446",
         "0.20875923929577975",
         "0.276473197317953",
         "0.33904557282601205",
         "0.4112086672099785",
         "0.4089201972169995",
         "0.15702931514781573",
         "0.2065560950545169",
         "2.0425880003488417",
         "0.6964426317770952",
         "0.2892768563951985",
         "0.8495080593553692",
         "1.016904686686373",
         "0.5479970603787171",
         "0.961833559096359",
         "1.1589153391594955",
         "0.34391037791011186",
         "0.23159147161110677",
         "0.2874142318548427",
         "1.1859997917226404",
         "0.40668338535415677",
         "0.7124350552544226",
         "1.4225661713383841",
         "0.24809704933906157",
         "0.5402115470532708",
         "0.21963068388133525",
         "0.3063484193357657",
         "1.5079460652884809",
         "1.157998360888217",
         "0.9009909024027227",
         "0.874394268444712",
         "0.19478676718380472",
         "0.4375607750141179",
         "0.5272539885740212",
         "0.9224162314905665",
         "0.7511234446103388",
         "1.8190061982328256",
         "0.2810452361238469",
         "0.5447498661171504",
         "0.6879280352528973",
         "0.6209796060802072",
         "1.0769268056742953",
         "0.1863960309839949",
         "0.20875923929577975",
         "0.22935174439354863",
         "1.5401646479861624",
         "0.8122129481757903",
         "0.7056149541993021",
         "1.35904631230368",
         "0.7967189548934523",
         "0.5492808243788991",
         "0.3705050441713989",
         "0.19249897346600311",
         "0.4769247765378463",
         "0.6557907275080633",
         "1.0188337360274613",
         "0.6138326159708826",
         "0.43101391600910655",
         "0.6552081957443356",
         "0.9209404441241222",
         "0.6239188271760125",
         "0.8943034633255188",
         "0.5919040506115679",
         "0.5278796994484972",
         "1.5331983396920474",
         "0.24809704933906157",
         "0.8698259252666168",
         "1.1152681001463323",
         "0.45169516896341266",
         "0.1242489549017953",
         "0.4686125666392911",
         "1.061974248050486",
         "0.8698259252666168",
         "0.11906925480928886",
         "0.626314697778636",
         "0.3179494883810333",
         "0.4200934729600997",
         "0.6528578371733256",
         "0.36894854621550893",
         "0.5637898286771726",
         "0.6673484121271741",
         "0.37128421186156557",
         "0.3373944296581052",
         "0.30192259503313224",
         "0.6633035410325026",
         "0.17133315506487187",
         "0.5467631451814545",
         "1.9489760920176575",
         "0.47967580546186467",
         "0.42742348434534727",
         "0.393051851118171",
         "0.6035270487040136",
         "0.8073741138073013",
         "0.8421077113663921",
         "0.36405365529705885",
         "0.2892768563951985",
         "0.4873158129638069",
         "0.30992142416789087",
         "0.4324868229606984",
         "0.4565595429658789",
         "0.2810452361238469",
         "0.5925326629000774",
         "0.6257346432038405",
         "0.2358754029608288",
         "0.4913802875408572",
         "0.1400270625604406",
         "0.3767419205991645",
         "0.28012579728059855",
         "1.5201684983103978",
         "0.25414651609480476",
         "0.18886800276136442",
         "0.27452030155407653",
         "0.64695387661836",
         "0.4755566616889145",
         "0.36405365529705885",
         "0.8244843703298698",
         "0.5744737394769003",
         "0.6621607719322421",
         "0.19003250539810826",
         "0.26402951498565047",
         "0.6487352145064975",
         "0.1488386279309429",
         "0.504062246620176",
         "0.29645432209817274",
         "0.7368439694991927",
         "0.46510394253820336",
         "0.2892768563951985",
         "0.3544684402181578",
         "0.4163517018054023",
         "1.5206311297969262",
         "0.2892768563951985",
         "0.2065560950545169",
         "0.22830583281303427",
         "0.6305346651077924",
         "0.5220919338157983",
         "0.18283914160337308",
         "0.5863933284673918",
         "0.5214447343611492",
         "0.5233594329395556",
         "1.2178933021516487",
         "0.23370694541736117",
         "0.3938308049841138",
         "0.44188216435868427",
         "0.5479970603787171",
         "0.43469556045065855",
         "0.790810953284615",
         "0.5278796994484972",
         "0.4375607750141179",
         "0.6742606612769075",
         "0.29201374756545573",
         "0.12084900707583454",
         "0.7967189548934523",
         "0.46582272625036436",
         "0.6352280427605643",
         "0.10228442690943369",
         "0.5524544523419876",
         "0.942740208714688",
         "0.10038534007133375",
         "0.5619292421405714",
         "1.6238272227248032",
         "0.40668338535415677",
         "0.3512261955632923",
         "0.40286282970167664",
         "0.49471977130500794",
         "0.5020270833594973",
         "0.24509869386769306",
         "0.6907450013314826",
         "0.23891721009492783",
         "0.7682107626113205",
         "0.577668301933915",
         "1.1422277660896134",
         "1.5206311297969262",
         "0.8068461178168679",
         "0.3907542526517647",
         "0.3838421552689345",
         "0.338206950770623",
         "1.2412311295582676",
         "1.0198523856139725",
         "0.6209796060802072",
         "0.5919040506115679",
         "0.38065487351614063",
         "0.4537821642148248",
         "0.9772570110764892",
         "0.9065716487241835",
         "0.47276716173717553",
         "0.4112086672099785",
         "0.557447162730372",
         "1.9428505717233862",
         "0.3705050441713989",
         "0.32736521875454905",
         "0.3759659584705927",
         "0.5240212334978845",
         "1.4635557059583573",
         "0.35532387468839005",
         "0.3248878912177609",
         "0.9320883902959083",
         "0.84370803897791",
         "1.0919206696817725",
         "0.9402217667431096",
         "0.9608135474717561",
         "0.5088575097567518",
         "0.6089805331518569",
         "0.6245011085702228",
         "0.10228442690943369",
         "0.3143799379720103",
         "0.40744935142515004",
         "1.1654382396291447",
         "1.0643756694721451",
         "0.38065487351614063",
         "0.9613205029763159",
         "0.6782921169548424",
         "0.9310644433731127",
         "0.8810307123282274",
         "0.409670609941011",
         "0.15299382596926608",
         "1.9696720255201992",
         "0.7010015160578004",
         "0.44188216435868427",
         "1.1764787398279606",
         "0.7095500317976129",
         "0.47830620484295383",
         "0.7719818893781006",
         "0.2369191727923201",
         "0.9547846647779255",
         "0.8276545227002963",
         "0.11906925480928886",
         "0.15959561210108186",
         "1.3374260953025476",
         "0.5375650858802603",
         "0.3938308049841138",
         "0.5161167857659117",
         "2.4592949012251064",
         "1.7765451548246363",
         "0.2991930995971395",
         "0.7902643192363213",
         "1.0080109424416057",
         "0.5726302190660001",
         "0.22935174439354863",
         "0.14291310871215757",
         "0.9688140255131739",
         "0.4810278664181543",
         "0.5375650858802603",
         "0.2659619015967421",
         "0.7616309196217985",
         "0.4035873092727169",
         "0.555560502411274",
         "0.2847489294070584",
         "0.5259354145023579",
         "1.073057583943405",
         "0.10623261998472544",
         "0.6805914596589877",
         "0.3161732522758757",
         "0.5701398499474173",
         "1.0356222528191834",
         "1.1668967264160288",
         "0.17133315506487187",
         "0.9204090838934426",
         "0.4496691839692255",
         "0.14740665355127622",
         "0.36894854621550893",
         "0.3406659162207036",
         "0.2755152620593738",
         "1.157998360888217",
         "1.043509208804874",
         "1.0040171483544509",
         "0.29828743480476827",
         "2.275549876930603",
         "0.8276545227002963",
         "0.38762670642303093",
         "0.24809704933906157",
         "0.8917681023007707",
         "0.8568682732571388",
         "1.2042140409438111",
         "0.5000062830876199",
         "0.8196914484517267",
         "0.42525063230111704",
         "0.3520624010237934",
         "0.256074576026207",
         "1.032698378147217",
         "0.45032974083926947",
         "0.3648795957652463",
         "1.2685915487763764",
         "0.46790016338063356",
         "1.074005287348389",
         "0.38609905114892684",
         "0.48379141698103245",
         "0.22724227587751225",
         "0.23266445715853995",
         "1.4706980168116757",
         "0.6156459737662162",
         "0.3479556038775975",
         "0.45523163253853477",
         "0.33159419409743335",
         "0.2838148840989279",
         "1.4550844838563002",
         "0.4886873885083206",
         "0.6794646860400118",
         "0.31878955585946034",
         "0.8212846428332299",
         "0.19478676718380472",
         "0.35927866417441884",
         "1.4159929843119001",
         "0.3938308049841138",
         "0.14740665355127622",
         "0.5919040506115679",
         "0.8609619381401565",
         "0.22724227587751225",
         "0.9472260216409069",
         "0.2399894944473055",
         "0.4200934729600997",
         "0.2659619015967421",
         "0.3265339996479001",
         "0.20305895164154344",
         "0.5135143733139185",
         "0.41563391210157263",
         "0.3998097520073061",
         "0.47136909827955836",
         "0.64695387661836",
         "0.39611452039871975",
         "0.3791151146572858",
         "0.5108346700811318",
         "0.26975374008591785"
        ],
        [
         "ENSG00000187642.9",
         "6.209774336503765",
         "8.516953894577352",
         "8.426668674370807",
         "7.130217085395312",
         "6.079197565373732",
         "7.121830301648651",
         "7.4431181376448805",
         "3.5915616303262876",
         "7.782679750032675",
         "7.547938182241148",
         "8.294650157421467",
         "7.297220427671392",
         "7.478044516725368",
         "6.625891714245917",
         "7.331999817670715",
         "4.755571330960459",
         "7.30691710348688",
         "6.0392135855931715",
         "6.800602907151267",
         "7.152918303031838",
         "8.075664273640125",
         "5.025349507326362",
         "7.5107349976674325",
         "6.441799131240037",
         "7.1329667712414375",
         "6.811689605108066",
         "8.144864969458286",
         "6.967342162126532",
         "7.778182816738039",
         "5.338881323755235",
         "7.567112894947795",
         "7.127460609447687",
         "8.059795453545718",
         "6.384167388783649",
         "7.8839702344539075",
         "7.138605250573108",
         "7.023457927523437",
         "7.49274460668386",
         "6.947547751196034",
         "6.694157269439807",
         "8.275877193715056",
         "8.049429443982165",
         "6.262072714347998",
         "4.066020034192892",
         "7.704265433437945",
         "8.251592563376887",
         "7.054545471236217",
         "5.58574596811143",
         "4.904700274306858",
         "6.8095289311001626",
         "3.1943842434791327",
         "2.9326048404891094",
         "8.059795453545718",
         "7.26909784708599",
         "5.562372988836493",
         "1.4664040001276297",
         "6.403681812643047",
         "6.969806296827181",
         "5.307915205243178",
         "7.764596313858832",
         "6.974657809880259",
         "6.851579829240971",
         "4.9372504589566955",
         "7.778182816738039",
         "7.3098248890392235",
         "5.840914016783805",
         "7.638046729859607",
         "7.478044516725368",
         "5.680294322177472",
         "6.676256066924688",
         "6.030297718317342",
         "5.08233214112363",
         "7.870103297309582",
         "7.0919415324988755",
         "6.145190517008189",
         "7.208437853332134",
         "7.503319823226985",
         "7.594504198915466",
         "7.405674453075465",
         "8.374584551020076",
         "8.18820611526904",
         "5.864376146040906",
         "6.692194640584461",
         "6.375940501448307",
         "3.0049815250904013",
         "8.294650157421467",
         "5.49364314078445",
         "6.945086980258064",
         "7.977482497863829",
         "5.20888160278468",
         "4.76000492121862",
         "7.704265433437945",
         "4.698402364797739",
         "7.456839863424358",
         "6.108730196975843",
         "7.751660618386469",
         "8.281911187725754",
         "7.586713748482763",
         "6.726509253949351",
         "6.20400591015994",
         "7.773953787168874",
         "8.023333626583483",
         "7.241506617863959",
         "6.618190992847633",
         "4.426801720282549",
         "6.745234489537944",
         "7.641976708843041",
         "7.097269936107541",
         "4.935206234916658",
         "7.432834066812811",
         "7.325639759338762",
         "7.903074842812292",
         "7.695597633899773",
         "7.578882274911691",
         "6.389024196086207",
         "6.51240520876658",
         "6.668563764260059",
         "6.770312548658054",
         "6.835724587280303",
         "7.578882274911691",
         "8.59976396744756",
         "7.196338143024814",
         "4.87155982637008",
         "7.439817042150662",
         "7.2022055450169775",
         "3.4686592019276614",
         "6.90905307901278",
         "7.674628509431557",
         "7.081387272374065",
         "6.54977048592103",
         "6.419952927712096",
         "5.862002870914211",
         "8.412897371566164",
         "8.275877193715056",
         "6.20400591015994",
         "4.563177737424767",
         "7.467440796548505",
         "7.041565517652741",
         "7.065178554386733",
         "5.411362626025303",
         "7.987759515898723",
         "6.408496814629113",
         "4.946018976873046",
         "6.783136045324345",
         "6.1059885463109955",
         "7.666459137863034",
         "4.451927284500508",
         "8.033586229305882",
         "4.201844475169381",
         "5.709217747195411",
         "6.895019883841287",
         "6.674448832554166",
         "4.335089993871275",
         "6.467280647179059",
         "7.147101498778843",
         "7.942571333098478",
         "7.046750615971129",
         "8.461346370384868",
         "5.669428127243106",
         "7.641976708843041",
         "6.040473516645869",
         "8.4068022129626",
         "8.36829927500202",
         "6.148018171407666",
         "7.478044516725368",
         "7.127460609447687",
         "4.804345358420788",
         "3.4035548485095517",
         "6.003681282406425",
         "5.725765229431669",
         "7.641976708843041",
         "5.430487893709721",
         "7.658116456720193",
         "7.078652148955032",
         "7.0157751350611735",
         "6.537211449130035",
         "8.79510066962913",
         "6.062133399584437",
         "5.146142476005648",
         "6.438351715768403",
         "7.181932084475868",
         "7.691223043960117",
         "3.710455795706116",
         "6.858207362635205",
         "6.880868167215995",
         "7.602363325994194",
         "5.543347321700535",
         "8.999247854769118",
         "7.30047075711667",
         "6.053237610142935",
         "5.687028760777814",
         "6.796221691959582",
         "6.1059885463109955",
         "5.436642821663333",
         "6.895019883841287",
         "7.089341113322173",
         "5.643938697871342",
         "6.505480149201949",
         "8.166480039682048",
         "6.714007792915094",
         "8.41980480093185",
         "6.515885071179857",
         "7.078652148955032",
         "7.351861460742092",
         "5.7535970757450565",
         "6.1925925705178715",
         "8.447381814820698",
         "6.56807632475491",
         "6.12885098588238",
         "8.117471522831726",
         "7.514324749402197",
         "6.6471740243015445",
         "7.721179483277651",
         "6.959858838611733",
         "6.835724587280303",
         "7.682972549035419",
         "6.17426781652832",
         "7.4818286133201335",
         "5.3675856824669514",
         "7.540338097739484",
         "6.51240520876658",
         "7.602363325994194",
         "6.722166900238759",
         "5.997480640951362",
         "7.582861866132415",
         "6.606906789839733",
         "7.708483805923996",
         "8.257827495071052",
         "5.005590431971291",
         "6.994925365544808",
         "8.227799389386538",
         "5.898780544523021",
         "7.717064473157383",
         "8.16107500584938",
         "6.219718217168137",
         "7.325639759338762",
         "4.3201827972603155",
         "7.0919415324988755",
         "7.818907279385925",
         "6.491451282983258",
         "7.385264945655204",
         "6.920895921500515",
         "7.450185773946975",
         "6.730670765625829",
         "7.319296079345551",
         "7.952355169278714",
         "6.945086980258064",
         "7.116336298550684",
         "8.193847121012064",
         "6.522972272108472",
         "7.028689689294191",
         "7.046750615971129",
         "5.2352416342579255",
         "6.704120603522334",
         "5.034591144326967",
         "4.933168414468263",
         "5.720543136406829",
         "3.099914890127308",
         "7.335300627873535",
         "5.687981777511076",
         "6.124627129404005",
         "6.696166905814528",
         "6.9975758539249915",
         "7.755869219401052",
         "6.772390800182471",
         "5.7928601940552005",
         "5.175385993645809",
         "7.046750615971129",
         "6.652928931103059",
         "8.075664273640125",
         "6.923186091481935",
         "7.303691570700524",
         "7.03405711350261",
         "6.320778259239746",
         "7.075911917948257",
         "6.345870092147343",
         "5.692047859742941",
         "7.105542244601516",
         "7.791719753675263",
         "7.898144826175499",
         "6.338111818131203",
         "8.033586229305882",
         "5.096730789898048",
         "7.506980048071748",
         "6.560806735391044",
         "7.898144826175499",
         "4.568400405408133",
         "5.255569071784204",
         "6.5535836421610645",
         "7.738797093338751",
         "6.972215137449592",
         "8.892031700758372",
         "6.8696623634047524",
         "5.666519379505754",
         "7.691223043960117",
         "7.247650111277776",
         "7.71271058927053",
         "7.559734582885507",
         "5.98529623251447",
         "5.5223571499210635",
         "6.156320945161472",
         "8.216183271046663",
         "6.815928006481486",
         "7.429491962947043",
         "6.764096033416918",
         "4.830705301549689",
         "3.7753857743606942",
         "7.922749468795645",
         "6.40688877160242",
         "6.874035285615702",
         "7.987759515898723",
         "7.630127070955833",
         "6.164495791885054",
         "3.001007088193766",
         "6.0582809711235655",
         "7.3098248890392235",
         "7.193360186349829",
         "4.639565814481291",
         "6.7181216927733125",
         "8.227799389386538",
         "7.4431181376448805",
         "5.263415314061639",
         "7.952355169278714",
         "5.730974003365976",
         "5.115614322789233",
         "6.57541228517965",
         "5.574305099482665",
         "6.755667692837571",
         "7.432834066812811",
         "5.046578145675005",
         "7.415985886514038",
         "6.522972272108472",
         "6.979632163107917",
         "6.221216962845287",
         "7.039044467286349",
         "7.322519035509964",
         "8.440633178698326",
         "5.6586525417394",
         "7.614279391039451",
         "6.826847664403301",
         "6.538983061995883",
         "7.119097585779182",
         "7.833256376813408",
         "6.451941724058922",
         "5.932558410243488",
         "5.209620537193166",
         "3.767430277598509",
         "5.302241662921822",
         "5.450722672912941",
         "5.98875247199307",
         "6.9283124216702365",
         "7.865359738331729",
         "7.2875915685358015",
         "7.942571333098478",
         "6.175605358001909",
         "7.634128262745645",
         "7.782679750032675",
         "4.054550229440348",
         "7.325639759338762",
         "5.6970480031524176",
         "8.16107500584938",
         "5.015449291360758",
         "7.769121271003611",
         "6.104603014924676",
         "6.018825008658727",
         "8.013112852662681",
         "8.15048420905348",
         "6.631611668481981",
         "7.734425951591796",
         "7.967426195659329",
         "7.155715626123745",
         "7.602363325994194",
         "3.211318345113633",
         "8.631031910930801",
         "6.314613425991416",
         "5.533313963169473",
         "8.134123922778638",
         "6.278127565007938",
         "8.123074213136308",
         "7.729932241583789",
         "6.009979089153378",
         "8.23365868913999",
         "8.576401683803958",
         "7.879348058615875",
         "7.170424202916196",
         "5.356033394547869",
         "8.607930716792588",
         "7.158531988263605",
         "6.829088142632987",
         "6.107393268652573",
         "7.734425951591796",
         "6.496585031753062",
         "7.555972754927056",
         "8.524179724439728",
         "8.355054832955952",
         "8.59216139323368",
         "8.318621963518344",
         "7.586713748482763",
         "7.439817042150662",
         "9.129253983567414",
         "6.474204304070859",
         "6.037888645803375",
         "6.692194640584461",
         "6.0000043247683275",
         "4.4412241192325075",
         "7.170424202916196",
         "5.169377705523397",
         "6.778970082225019",
         "4.288182335712277",
         "8.065158101854326",
         "7.499912817634779",
         "6.755667692837571",
         "3.55908760816346",
         "6.753573375747839",
         "5.711273055084022",
         "7.081387272374065",
         "7.51804084520736",
         "7.365301096331823",
         "7.10829467359918",
         "8.330854523127696",
         "6.530189791322185",
         "6.766156390322988",
         "8.607930716792588",
         "7.4023850464726575",
         "8.3006733511815",
         "4.64136589319273",
         "7.073370165480308",
         "7.297220427671392",
         "5.787389359905653",
         "8.912086179748195",
         "7.658116456720193",
         "8.933477964322094",
         "6.559014428016813",
         "6.400296386383315",
         "8.193847121012064",
         "6.30240243980219",
         "7.3818650390057226",
         "1.5443922145988174",
         "4.573032998699145",
         "8.05458927334062",
         "7.654062239995993",
         "6.416717108245107",
         "6.831390080070313",
         "8.044067302514257",
         "7.426177471928769",
         "7.682972549035419",
         "6.330029669945199",
         "6.68597430904161",
         "7.10829467359918",
         "6.316235684700024",
         "4.8854613334908406",
         "8.696604945194515",
         "7.405674453075465",
         "7.97234784422271",
         "7.345114343488632",
         "6.633469439098804",
         "5.631330520842545",
         "7.764596313858832",
         "6.847063434592937",
         "7.439817042150662",
         "7.691223043960117",
         "1.1917457445356707",
         "6.181185554935371",
         "7.678829608141531",
         "6.678078970098243",
         "8.475074485050282",
         "4.983372319205385",
         "7.127460609447687",
         "7.238572778446724",
         "7.4023850464726575",
         "6.813840211757879",
         "5.975398764496929",
         "6.0818883467930025",
         "6.774647241413977",
         "7.791719753675263",
         "2.8593112954286437",
         "6.913862672962748",
         "6.72857099076774",
         "5.50977709215356",
         "5.803726422182969",
         "5.041622836188756",
         "6.395453474934061",
         "6.161742879174699",
         "6.470812894673762",
         "5.317744362578456",
         "7.49274460668386",
         "4.215875849316574",
         "7.738797093338751",
         "7.297220427671392",
         "7.265935217443045",
         "7.567112894947795",
         "7.008196532983018",
         "6.489765017214454",
         "5.137242747698378",
         "5.676372722826659",
         "8.182664340799992",
         "6.36959141278345",
         "8.524179724439728",
         "8.128586050567842",
         "5.450722672912941",
         "7.678829608141531",
         "3.9073255245949174",
         "6.186849111520921",
         "7.345114343488632",
         "8.96636214327084",
         "7.081387272374065",
         "6.390665406174703",
         "3.651759433103454",
         "5.945791129332798",
         "4.232189329722664",
         "8.318621963518344",
         "7.205313528714174",
         "8.003249046702322",
         "6.487994784958906",
         "6.9924522796442625",
         "7.8839702344539075",
         "6.443532586434815",
         "6.692194640584461",
         "4.706956322985215",
         "6.672282219661964",
         "4.6372687544015125",
         "8.096850715737515",
         "6.481017845714247",
         "7.555972754927056",
         "7.405674453075465",
         "6.651072663138858",
         "7.453463855666948",
         "7.232443436104211",
         "4.770602884663689",
         "6.985076215142466",
         "7.982696297837107",
         "7.874776305601453",
         "7.695597633899773",
         "5.747456269887158",
         "6.766156390322988",
         "7.075911917948257",
         "7.708483805923996",
         "7.051944309215121",
         "5.717497034169523",
         "6.17426781652832",
         "7.540338097739484",
         "5.673428396409352",
         "8.482321573035968",
         "7.982696297837107",
         "7.828465564884885",
         "3.6343287496319117",
         "5.843000713475415",
         "7.977482497863829",
         "7.800588269922305",
         "6.9283124216702365",
         "7.241506617863959",
         "6.0660849665154615",
         "7.721179483277651",
         "8.065158101854326",
         "7.532844276099167",
         "8.380421158501804",
         "8.013112852662681",
         "5.712240977833822",
         "6.967342162126532",
         "7.536514651276931",
         "7.30047075711667",
         "4.816525393147368",
         "6.602996631381156",
         "8.374584551020076",
         "7.547938182241148",
         "2.3609480252650297",
         "5.299890106728615",
         "8.275877193715056",
         "5.150693837616989",
         "7.805297181479361",
         "4.73480885689255",
         "6.241556718245063",
         "5.594200918894032",
         "4.88746418459128",
         "6.462159918121674",
         "5.796129353503953",
         "4.309136059863577",
         "6.143886072203549",
         "7.070641213862924",
         "7.536514651276931",
         "7.529194451454183",
         "3.416517900899107",
         "7.023457927523437",
         "4.6090097358110445",
         "7.691223043960117",
         "5.993773942394643",
         "5.325923010025577",
         "2.382685269734078",
         "8.09129441095113",
         "5.914721113338295",
         "6.178416260668288",
         "7.181932084475868",
         "7.3818650390057226",
         "6.436717645963456",
         "5.407092676495309",
         "3.708277155978889",
         "7.72560420109134",
         "7.415985886514038",
         "6.428332945548384",
         "7.0364639933752695",
         "6.736933488109178",
         "5.8474169678862635",
         "7.097269936107541",
         "6.555582186734159",
         "7.782679750032675",
         "7.791719753675263",
         "7.1027594452773934",
         "6.37929393145537",
         "6.837935546353458",
         "7.368594990417849",
         "7.121830301648651",
         "6.188252084392464",
         "7.998174444978929",
         "6.625891714245917",
         "7.002906255487929",
         "7.0919415324988755",
         "4.225066068766771",
         "5.414813722710388",
         "5.717497034169523",
         "5.491849713742761",
         "7.4818286133201335",
         "5.016136105744158",
         "5.451649203009245",
         "6.602996631381156",
         "7.405674453075465",
         "5.143881177637871",
         "4.2545362875527735",
         "6.3100743403606625",
         "7.419118846465311",
         "6.621967641299157",
         "2.55450668817331",
         "6.72857099076774",
         "7.2022055450169775",
         "1.8437398303446173",
         "7.614279391039451",
         "7.778182816738039",
         "6.967342162126532",
         "6.837935546353458",
         "6.517725536844284",
         "5.9385331097726475",
         "7.626347362990621",
         "6.820317875911609",
         "5.736167121589024",
         "7.8839702344539075",
         "7.232443436104211",
         "7.274923127359781",
         "7.903074842812292",
         "8.824336252110642",
         "7.412617978350358",
         "6.270759119892033",
         "7.998174444978929",
         "8.182664340799992",
         "8.59976396744756",
         "7.942571333098478",
         "3.9370677982128797",
         "7.415985886514038",
         "4.326658351952026",
         "5.609120880422595",
         "7.070641213862924",
         "7.429491962947043",
         "7.181932084475868",
         "6.745234489537944",
         "5.479462306822906",
         "7.795984913175531",
         "6.43171475798488",
         "6.580684526258374",
         "5.470683382578899",
         "7.947468426174052",
         "8.496240841158132",
         "5.508834765707253",
         "7.30047075711667",
         "8.34891774110744",
         "7.489154103531015",
         "7.14139469507866",
         "7.626347362990621",
         "7.708483805923996",
         "6.211161011176499",
         "6.278127565007938",
         "6.0392135855931715",
         "4.714304123103084",
         "6.326962529964664",
         "6.23850840137509",
         "8.26414473904177",
         "7.284422124457154",
         "6.68597430904161",
         "6.962438384851455",
         "7.450185773946975",
         "6.43495806922772",
         "6.150856516329232",
         "7.208437853332134",
         "5.278410743132675",
         "7.823794694455588",
         "5.4542811858957405",
         "6.26490271890401",
         "8.199283939695693",
         "7.622405856439127",
         "6.237109654273209",
         "5.816667087642733",
         "5.170113226778146",
         "7.641976708843041",
         "6.566303241941175",
         "3.4607155351845624",
         "4.378405314880939",
         "8.26414473904177",
         "7.2142257785673385",
         "7.372029555666732",
         "6.672282219661964",
         "7.699836092026549",
         "7.232443436104211",
         "5.963027290969012",
         "7.567112894947795",
         "8.75745032576073",
         "7.119097585779182",
         "6.008677176948323",
         "4.817206744332973",
         "7.870103297309582",
         "6.150856516329232",
         "4.501391644413186",
         "6.710013117062144",
         "6.158935614897351",
         "6.987435333487219",
         "5.44895742998063",
         "1.8591982896530967",
         "7.460321797196237",
         "7.563552728987986",
         "5.278410743132675",
         "7.773953787168874",
         "5.744443432174603",
         "7.809865000808911",
         "7.436347696582704",
         "8.342818829539487",
         "6.530189791322185",
         "7.155715626123745",
         "5.503467533231715",
         "6.551696827039411",
         "7.26909784708599",
         "5.1746169528030785",
         "6.798406248495325",
         "7.982696297837107",
         "8.144864969458286",
         "7.028689689294191",
         "6.666518107055286",
         "8.4068022129626",
         "7.26909784708599",
         "5.505338820358216",
         "2.7576231390675114",
         "6.384167388783649",
         "5.748472005390578",
         "8.73982300869277",
         "4.0630951437724985",
         "8.631031910930801",
         "6.672282219661964",
         "2.659650688929598",
         "5.997480640951362",
         "8.210507606754375",
         "5.186769567072277",
         "7.30047075711667",
         "7.893533267756622",
         "8.106842142514887",
         "7.220116523551316",
         "2.749998580506689",
         "7.084027252985173",
         "7.3753920649585",
         "5.416605623212482",
         "8.312740035305715",
         "7.778182816738039",
         "5.0119197041260675",
         "6.757705310984094",
         "4.297647861302962",
         "3.2356183358709356",
         "7.814400789623408",
         "6.959858838611733",
         "6.17426781652832",
         "4.023301903769457",
         "8.722366610537254",
         "5.783083765159699",
         "2.837295555374398",
         "8.028311411823276",
         "6.897318419767306",
         "3.5886654598025096",
         "7.1027594452773934",
         "7.439817042150662",
         "4.288182335712277",
         "6.658873970170654",
         "4.64136589319273",
         "7.456839863424358",
         "5.366746534739446",
         "7.247650111277776",
         "4.368726498596945",
         "7.2264724974584365",
         "6.985076215142466",
         "6.633469439098804",
         "7.073370165480308",
         "7.205313528714174",
         "5.637189108505673",
         "5.92652418475104",
         "6.428332945548384",
         "4.486818497116405"
        ]
       ],
       "shape": {
        "columns": 798,
        "rows": 5
       }
      },
      "text/html": [
       "<div>\n",
       "<style scoped>\n",
       "    .dataframe tbody tr th:only-of-type {\n",
       "        vertical-align: middle;\n",
       "    }\n",
       "\n",
       "    .dataframe tbody tr th {\n",
       "        vertical-align: top;\n",
       "    }\n",
       "\n",
       "    .dataframe thead th {\n",
       "        text-align: right;\n",
       "    }\n",
       "</style>\n",
       "<table border=\"1\" class=\"dataframe\">\n",
       "  <thead>\n",
       "    <tr style=\"text-align: right;\">\n",
       "      <th></th>\n",
       "      <th>GTEX-111CU-2026-SM-5GZZC</th>\n",
       "      <th>GTEX-113JC-2726-SM-5EGIS</th>\n",
       "      <th>GTEX-117YW-2426-SM-5Q5AE</th>\n",
       "      <th>GTEX-117YX-2526-SM-5EQ4Q</th>\n",
       "      <th>GTEX-1192X-0426-SM-5GIEE</th>\n",
       "      <th>GTEX-11DXW-0726-SM-5H12J</th>\n",
       "      <th>GTEX-11DXZ-2426-SM-5N9DT</th>\n",
       "      <th>GTEX-11DZ1-0926-SM-5EQ5R</th>\n",
       "      <th>GTEX-11EM3-2126-SM-5H11M</th>\n",
       "      <th>GTEX-11EQ9-2126-SM-5PNVW</th>\n",
       "      <th>...</th>\n",
       "      <th>GTEX-ZF28-0526-SM-4WKGW</th>\n",
       "      <th>GTEX-ZF29-2426-SM-DO92G</th>\n",
       "      <th>GTEX-ZLV1-2126-SM-4WWD2</th>\n",
       "      <th>GTEX-ZPCL-2026-SM-57WFD</th>\n",
       "      <th>GTEX-ZQG8-1226-SM-51MRX</th>\n",
       "      <th>GTEX-ZVT3-0526-SM-5GIE9</th>\n",
       "      <th>GTEX-ZXG5-0326-SM-5GICH</th>\n",
       "      <th>GTEX-ZYFG-2426-SM-5GIE8</th>\n",
       "      <th>GTEX-ZYW4-0526-SM-5GZZ5</th>\n",
       "      <th>GTEX-ZYY3-0526-SM-5E45G</th>\n",
       "    </tr>\n",
       "  </thead>\n",
       "  <tbody>\n",
       "    <tr>\n",
       "      <th>ENSG00000187634.11</th>\n",
       "      <td>0.330743</td>\n",
       "      <td>0.627497</td>\n",
       "      <td>0.538273</td>\n",
       "      <td>0.168728</td>\n",
       "      <td>0.267884</td>\n",
       "      <td>0.791886</td>\n",
       "      <td>0.625735</td>\n",
       "      <td>0.453782</td>\n",
       "      <td>0.586393</td>\n",
       "      <td>0.197103</td>\n",
       "      <td>...</td>\n",
       "      <td>0.481680</td>\n",
       "      <td>0.181560</td>\n",
       "      <td>0.297362</td>\n",
       "      <td>1.113280</td>\n",
       "      <td>0.642248</td>\n",
       "      <td>0.273588</td>\n",
       "      <td>0.608981</td>\n",
       "      <td>0.373668</td>\n",
       "      <td>0.342296</td>\n",
       "      <td>0.166149</td>\n",
       "    </tr>\n",
       "    <tr>\n",
       "      <th>ENSG00000188976.10</th>\n",
       "      <td>5.922930</td>\n",
       "      <td>5.679323</td>\n",
       "      <td>5.755679</td>\n",
       "      <td>6.224135</td>\n",
       "      <td>6.032826</td>\n",
       "      <td>5.611052</td>\n",
       "      <td>5.771384</td>\n",
       "      <td>6.161743</td>\n",
       "      <td>6.013712</td>\n",
       "      <td>6.333352</td>\n",
       "      <td>...</td>\n",
       "      <td>6.170170</td>\n",
       "      <td>5.771384</td>\n",
       "      <td>6.531977</td>\n",
       "      <td>5.754625</td>\n",
       "      <td>6.275220</td>\n",
       "      <td>5.666519</td>\n",
       "      <td>6.209774</td>\n",
       "      <td>6.360078</td>\n",
       "      <td>5.881591</td>\n",
       "      <td>6.336509</td>\n",
       "    </tr>\n",
       "    <tr>\n",
       "      <th>ENSG00000187961.13</th>\n",
       "      <td>1.995472</td>\n",
       "      <td>1.775191</td>\n",
       "      <td>1.347724</td>\n",
       "      <td>1.941918</td>\n",
       "      <td>1.731807</td>\n",
       "      <td>1.506002</td>\n",
       "      <td>1.633968</td>\n",
       "      <td>1.918709</td>\n",
       "      <td>1.883142</td>\n",
       "      <td>1.897592</td>\n",
       "      <td>...</td>\n",
       "      <td>1.678300</td>\n",
       "      <td>1.494642</td>\n",
       "      <td>2.057592</td>\n",
       "      <td>2.113478</td>\n",
       "      <td>2.082115</td>\n",
       "      <td>2.026758</td>\n",
       "      <td>1.363784</td>\n",
       "      <td>2.035280</td>\n",
       "      <td>1.245120</td>\n",
       "      <td>1.999909</td>\n",
       "    </tr>\n",
       "    <tr>\n",
       "      <th>ENSG00000187583.10</th>\n",
       "      <td>0.294629</td>\n",
       "      <td>0.992736</td>\n",
       "      <td>1.534590</td>\n",
       "      <td>0.799456</td>\n",
       "      <td>0.491380</td>\n",
       "      <td>0.484509</td>\n",
       "      <td>0.725150</td>\n",
       "      <td>0.215263</td>\n",
       "      <td>0.652858</td>\n",
       "      <td>0.144389</td>\n",
       "      <td>...</td>\n",
       "      <td>0.203059</td>\n",
       "      <td>0.513514</td>\n",
       "      <td>0.415634</td>\n",
       "      <td>0.399810</td>\n",
       "      <td>0.471369</td>\n",
       "      <td>0.646954</td>\n",
       "      <td>0.396115</td>\n",
       "      <td>0.379115</td>\n",
       "      <td>0.510835</td>\n",
       "      <td>0.269754</td>\n",
       "    </tr>\n",
       "    <tr>\n",
       "      <th>ENSG00000187642.9</th>\n",
       "      <td>6.209774</td>\n",
       "      <td>8.516954</td>\n",
       "      <td>8.426669</td>\n",
       "      <td>7.130217</td>\n",
       "      <td>6.079198</td>\n",
       "      <td>7.121830</td>\n",
       "      <td>7.443118</td>\n",
       "      <td>3.591562</td>\n",
       "      <td>7.782680</td>\n",
       "      <td>7.547938</td>\n",
       "      <td>...</td>\n",
       "      <td>4.368726</td>\n",
       "      <td>7.226472</td>\n",
       "      <td>6.985076</td>\n",
       "      <td>6.633469</td>\n",
       "      <td>7.073370</td>\n",
       "      <td>7.205314</td>\n",
       "      <td>5.637189</td>\n",
       "      <td>5.926524</td>\n",
       "      <td>6.428333</td>\n",
       "      <td>4.486818</td>\n",
       "    </tr>\n",
       "  </tbody>\n",
       "</table>\n",
       "<p>5 rows × 798 columns</p>\n",
       "</div>"
      ],
      "text/plain": [
       "                    GTEX-111CU-2026-SM-5GZZC  GTEX-113JC-2726-SM-5EGIS  \\\n",
       "ENSG00000187634.11                  0.330743                  0.627497   \n",
       "ENSG00000188976.10                  5.922930                  5.679323   \n",
       "ENSG00000187961.13                  1.995472                  1.775191   \n",
       "ENSG00000187583.10                  0.294629                  0.992736   \n",
       "ENSG00000187642.9                   6.209774                  8.516954   \n",
       "\n",
       "                    GTEX-117YW-2426-SM-5Q5AE  GTEX-117YX-2526-SM-5EQ4Q  \\\n",
       "ENSG00000187634.11                  0.538273                  0.168728   \n",
       "ENSG00000188976.10                  5.755679                  6.224135   \n",
       "ENSG00000187961.13                  1.347724                  1.941918   \n",
       "ENSG00000187583.10                  1.534590                  0.799456   \n",
       "ENSG00000187642.9                   8.426669                  7.130217   \n",
       "\n",
       "                    GTEX-1192X-0426-SM-5GIEE  GTEX-11DXW-0726-SM-5H12J  \\\n",
       "ENSG00000187634.11                  0.267884                  0.791886   \n",
       "ENSG00000188976.10                  6.032826                  5.611052   \n",
       "ENSG00000187961.13                  1.731807                  1.506002   \n",
       "ENSG00000187583.10                  0.491380                  0.484509   \n",
       "ENSG00000187642.9                   6.079198                  7.121830   \n",
       "\n",
       "                    GTEX-11DXZ-2426-SM-5N9DT  GTEX-11DZ1-0926-SM-5EQ5R  \\\n",
       "ENSG00000187634.11                  0.625735                  0.453782   \n",
       "ENSG00000188976.10                  5.771384                  6.161743   \n",
       "ENSG00000187961.13                  1.633968                  1.918709   \n",
       "ENSG00000187583.10                  0.725150                  0.215263   \n",
       "ENSG00000187642.9                   7.443118                  3.591562   \n",
       "\n",
       "                    GTEX-11EM3-2126-SM-5H11M  GTEX-11EQ9-2126-SM-5PNVW  ...  \\\n",
       "ENSG00000187634.11                  0.586393                  0.197103  ...   \n",
       "ENSG00000188976.10                  6.013712                  6.333352  ...   \n",
       "ENSG00000187961.13                  1.883142                  1.897592  ...   \n",
       "ENSG00000187583.10                  0.652858                  0.144389  ...   \n",
       "ENSG00000187642.9                   7.782680                  7.547938  ...   \n",
       "\n",
       "                    GTEX-ZF28-0526-SM-4WKGW  GTEX-ZF29-2426-SM-DO92G  \\\n",
       "ENSG00000187634.11                 0.481680                 0.181560   \n",
       "ENSG00000188976.10                 6.170170                 5.771384   \n",
       "ENSG00000187961.13                 1.678300                 1.494642   \n",
       "ENSG00000187583.10                 0.203059                 0.513514   \n",
       "ENSG00000187642.9                  4.368726                 7.226472   \n",
       "\n",
       "                    GTEX-ZLV1-2126-SM-4WWD2  GTEX-ZPCL-2026-SM-57WFD  \\\n",
       "ENSG00000187634.11                 0.297362                 1.113280   \n",
       "ENSG00000188976.10                 6.531977                 5.754625   \n",
       "ENSG00000187961.13                 2.057592                 2.113478   \n",
       "ENSG00000187583.10                 0.415634                 0.399810   \n",
       "ENSG00000187642.9                  6.985076                 6.633469   \n",
       "\n",
       "                    GTEX-ZQG8-1226-SM-51MRX  GTEX-ZVT3-0526-SM-5GIE9  \\\n",
       "ENSG00000187634.11                 0.642248                 0.273588   \n",
       "ENSG00000188976.10                 6.275220                 5.666519   \n",
       "ENSG00000187961.13                 2.082115                 2.026758   \n",
       "ENSG00000187583.10                 0.471369                 0.646954   \n",
       "ENSG00000187642.9                  7.073370                 7.205314   \n",
       "\n",
       "                    GTEX-ZXG5-0326-SM-5GICH  GTEX-ZYFG-2426-SM-5GIE8  \\\n",
       "ENSG00000187634.11                 0.608981                 0.373668   \n",
       "ENSG00000188976.10                 6.209774                 6.360078   \n",
       "ENSG00000187961.13                 1.363784                 2.035280   \n",
       "ENSG00000187583.10                 0.396115                 0.379115   \n",
       "ENSG00000187642.9                  5.637189                 5.926524   \n",
       "\n",
       "                    GTEX-ZYW4-0526-SM-5GZZ5  GTEX-ZYY3-0526-SM-5E45G  \n",
       "ENSG00000187634.11                 0.342296                 0.166149  \n",
       "ENSG00000188976.10                 5.881591                 6.336509  \n",
       "ENSG00000187961.13                 1.245120                 1.999909  \n",
       "ENSG00000187583.10                 0.510835                 0.269754  \n",
       "ENSG00000187642.9                  6.428333                 4.486818  \n",
       "\n",
       "[5 rows x 798 columns]"
      ]
     },
     "execution_count": 24,
     "metadata": {},
     "output_type": "execute_result"
    }
   ],
   "source": [
    "processed_df.head()"
   ]
  },
  {
   "cell_type": "code",
   "execution_count": null,
   "id": "9df31ed6",
   "metadata": {},
   "outputs": [],
   "source": []
  }
 ],
 "metadata": {
  "kernelspec": {
   "display_name": "new_base",
   "language": "python",
   "name": "python3"
  },
  "language_info": {
   "codemirror_mode": {
    "name": "ipython",
    "version": 3
   },
   "file_extension": ".py",
   "mimetype": "text/x-python",
   "name": "python",
   "nbconvert_exporter": "python",
   "pygments_lexer": "ipython3",
   "version": "3.11.9"
  }
 },
 "nbformat": 4,
 "nbformat_minor": 5
}
