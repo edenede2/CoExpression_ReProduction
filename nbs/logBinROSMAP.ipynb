{
 "cells": [
  {
   "cell_type": "markdown",
   "id": "282ef3ad",
   "metadata": {},
   "source": [
    "## After updating the checkscale free function for CT to use log bining"
   ]
  },
  {
   "cell_type": "code",
   "execution_count": 2,
   "id": "bbcd742b",
   "metadata": {
    "vscode": {
     "languageId": "r"
    }
   },
   "outputs": [
    {
     "name": "stderr",
     "output_type": "stream",
     "text": [
      "Loading required package: dynamicTreeCut\n",
      "\n"
     ]
    },
    {
     "name": "stderr",
     "output_type": "stream",
     "text": [
      "Loading required package: fastcluster\n",
      "\n",
      "\n",
      "Attaching package: ‘fastcluster’\n",
      "\n",
      "\n",
      "The following object is masked from ‘package:stats’:\n",
      "\n",
      "    hclust\n",
      "\n",
      "\n",
      "\n",
      "\n",
      "\n",
      "Attaching package: ‘WGCNA’\n",
      "\n",
      "\n",
      "The following object is masked from ‘package:stats’:\n",
      "\n",
      "    cor\n",
      "\n",
      "\n"
     ]
    },
    {
     "name": "stdout",
     "output_type": "stream",
     "text": [
      "Allowing multi-threading with up to 32 threads.\n",
      "Allowing multi-threading with up to 32 threads.\n"
     ]
    }
   ],
   "source": [
    "source(\"/media/psylab-6028/DATA/Eden/CoExpression_ReProduction/old_scripts/ClusteringBuilding.R\")"
   ]
  },
  {
   "cell_type": "code",
   "execution_count": 3,
   "id": "08e6c2ab",
   "metadata": {
    "vscode": {
     "languageId": "r"
    }
   },
   "outputs": [],
   "source": [
    "rosmap_files <- c(\n",
    "    \"/media/psylab-6028/DATA/Eden/CoExpression_ReProduction/ROSMAP_fixed_AC.csv\",\n",
    "    \"/media/psylab-6028/DATA/Eden/CoExpression_ReProduction/ROSMAP_fixed_MFBA9BA46.csv\",\n",
    "    \"/media/psylab-6028/DATA/Eden/CoExpression_ReProduction/ROSMAP_fixed_PCGBA23.csv\"\n",
    ")"
   ]
  },
  {
   "cell_type": "code",
   "execution_count": 4,
   "id": "7889734e",
   "metadata": {
    "vscode": {
     "languageId": "r"
    }
   },
   "outputs": [],
   "source": [
    "tissues = c(\"AC\",\"MFBA9BA46\",\"PCGBA23\")"
   ]
  },
  {
   "cell_type": "code",
   "execution_count": 5,
   "id": "07662b76",
   "metadata": {
    "vscode": {
     "languageId": "r"
    }
   },
   "outputs": [
    {
     "name": "stderr",
     "output_type": "stream",
     "text": [
      "Auto-picking TS/CT betas (WGCNA new)…\n",
      "\n"
     ]
    },
    {
     "name": "stdout",
     "output_type": "stream",
     "text": [
      "\n",
      "==============================================\n",
      "[TS] AC — scale-free fit vs β (target R²=0.80)\n",
      "==============================================\n",
      "  Power SFT.R.sq slope   mean.k median.k    max.k\n",
      "  0.500    0.512 2.640 5968.359 5936.863 8490.063\n",
      "  1.526    0.530 0.906 1141.155 1035.392 2996.754\n",
      "  2.553    0.543 0.559  324.668  247.902 1406.069\n",
      "  3.579    0.544 0.405  118.062   71.666  782.498\n",
      "  4.605    0.535 0.310   51.016   23.499  483.095\n",
      "  5.632    0.524 0.252   25.078    8.433  330.326\n",
      "  6.658    0.517 0.216   13.615    3.274  240.472\n",
      "  7.684    0.514 0.190    7.990    1.337  181.937\n",
      "  8.711    0.508 0.169    4.987    0.573  141.563\n",
      "  9.737    0.511 0.155    3.271    0.257  112.491\n",
      " 10.763    0.511 0.142    2.233    0.118   90.856\n",
      " 11.789    0.519 0.132    1.575    0.056   74.336\n",
      " 12.816    0.527 0.124    1.141    0.028   61.464\n",
      " 13.842    0.536 0.117    0.846    0.014   51.267\n",
      " 14.868    0.545 0.111    0.640    0.007   43.080\n",
      " 15.895    0.551 0.106    0.492    0.004   36.433\n",
      " 16.921    0.556 0.101    0.383    0.002   30.983\n",
      " 17.947    0.562 0.096    0.303    0.001   26.477\n",
      " 18.974    0.565 0.092    0.242    0.001   22.726\n",
      " 20.000    0.566 0.088    0.196    0.000   19.583\n",
      "Chosen β (TS, AC): 20\n",
      "\n",
      "=====================================================\n",
      "[TS] MFBA9BA46 — scale-free fit vs β (target R²=0.80)\n",
      "=====================================================\n",
      "  Power SFT.R.sq slope   mean.k median.k    max.k\n",
      "  0.500    0.459 1.919 5888.511 5849.968 8841.768\n",
      "  1.526    0.469 0.655 1114.294  975.000 3334.469\n",
      "  2.553    0.467 0.397  317.361  219.132 1634.136\n",
      "  3.579    0.480 0.296  115.522   58.956  921.643\n",
      "  4.605    0.483 0.236   49.636   17.872  568.135\n",
      "  5.632    0.495 0.200   24.037    5.917  372.368\n",
      "  6.658    0.507 0.175   12.737    2.100  255.211\n",
      "  7.684    0.519 0.157    7.240    0.795  181.554\n",
      "  8.711    0.533 0.143    4.352    0.313  135.103\n",
      "  9.737    0.542 0.131    2.738    0.128  102.950\n",
      " 10.763    0.553 0.122    1.789    0.055   79.991\n",
      " 11.789    0.559 0.114    1.206    0.024   63.168\n",
      " 12.816    0.564 0.107    0.836    0.011   50.571\n",
      " 13.842    0.572 0.101    0.593    0.005   40.961\n",
      " 14.868    0.579 0.096    0.430    0.002   33.513\n",
      " 15.895    0.584 0.091    0.317    0.001   27.660\n",
      " 16.921    0.592 0.087    0.238    0.001   23.005\n",
      " 17.947    0.592 0.082    0.181    0.000   19.263\n",
      " 18.974    0.603 0.078    0.140    0.000   16.227\n",
      " 20.000    0.601 0.075    0.109    0.000   13.744\n",
      "Chosen β (TS, MFBA9BA46): 18\n",
      "\n",
      "===================================================\n",
      "[TS] PCGBA23 — scale-free fit vs β (target R²=0.80)\n",
      "===================================================\n",
      "  Power SFT.R.sq slope   mean.k median.k    max.k\n",
      "  0.500    0.458 1.895 5921.555 5887.612 8745.155\n",
      "  1.526    0.482 0.659 1132.963  998.426 3223.860\n",
      "  2.553    0.499 0.412  325.756  230.756 1535.252\n",
      "  3.579    0.520 0.309  119.460   63.277  840.242\n",
      "  4.605    0.527 0.247   51.626   19.560  515.164\n",
      "  5.632    0.533 0.206   25.126    6.640  340.687\n",
      "  6.658    0.538 0.179   13.381    2.409  236.952\n",
      "  7.684    0.545 0.160    7.647    0.937  171.250\n",
      "  8.711    0.552 0.145    4.624    0.382  127.538\n",
      "  9.737    0.561 0.134    2.930    0.163   97.292\n",
      " 10.763    0.568 0.124    1.929    0.072   75.683\n",
      " 11.789    0.573 0.115    1.312    0.032   59.833\n",
      " 12.816    0.580 0.108    0.918    0.015   47.946\n",
      " 13.842    0.587 0.102    0.658    0.007   38.865\n",
      " 14.868    0.596 0.097    0.481    0.003   31.814\n",
      " 15.895    0.607 0.092    0.359    0.002   26.265\n",
      " 16.921    0.616 0.088    0.272    0.001   21.846\n",
      " 17.947    0.613 0.084    0.209    0.000   18.289\n",
      " 18.974    0.617 0.080    0.163    0.000   15.401\n",
      " 20.000    0.622 0.077    0.129    0.000   13.035\n",
      "Chosen β (TS, PCGBA23): 20\n",
      "\n",
      "=========================================================\n",
      "[CT] AC||MFBA9BA46 — scale-free fit vs β (target R²=0.80)\n",
      "=========================================================\n",
      "  Power SFT.R.sq slope   mean.k median.k    max.k\n",
      "  0.500    0.223 1.538 4605.487 4613.037 6928.088\n",
      "  1.526    0.220 0.507  512.676  475.242 1639.237\n",
      "  2.553    0.209 0.296   84.977   66.841  524.667\n",
      "  3.579    0.190 0.203   18.155   11.253  199.875\n",
      "  4.605    0.161 0.150    4.678    2.153   85.701\n",
      "  5.632    0.149 0.124    1.401    0.460   40.101\n",
      "  6.658    0.145 0.107    0.477    0.110   20.802\n",
      "  7.684    0.146 0.096    0.182    0.028   11.678\n",
      "  8.711    0.140 0.084    0.076    0.008    7.227\n",
      "  9.737    0.131 0.073    0.035    0.002    4.677\n",
      " 10.763    0.127 0.065    0.018    0.001    3.138\n",
      " 11.789    0.120 0.058    0.010    0.000    2.168\n",
      " 12.816    0.115 0.052    0.006    0.000    1.533\n",
      " 13.842    0.111 0.048    0.004    0.000    1.106\n",
      " 14.868    0.105 0.043    0.002    0.000    0.904\n",
      " 15.895    0.094 0.039    0.002    0.000    0.817\n",
      " 16.921    0.082 0.034    0.001    0.000    0.743\n",
      " 17.947    0.072 0.030    0.001    0.000    0.677\n",
      " 18.974    0.061 0.026    0.001    0.000    0.620\n",
      " 20.000    0.049 0.022    0.001    0.000    0.569\n",
      "Chosen β (CT, AC||MFBA9BA46): 0\n",
      "\n",
      "=======================================================\n",
      "[CT] AC||PCGBA23 — scale-free fit vs β (target R²=0.80)\n",
      "=======================================================\n",
      "  Power SFT.R.sq slope   mean.k median.k    max.k\n",
      "  0.500    0.212 1.823 4653.015 4659.754 6601.457\n",
      "  1.526    0.186 0.570  520.045  491.876 1466.135\n",
      "  2.553    0.169 0.331   85.445   71.053  455.285\n",
      "  3.579    0.135 0.212   18.018   12.395  171.408\n",
      "  4.605    0.103 0.150    4.585    2.470   73.252\n",
      "  5.632    0.092 0.122    1.362    0.551   34.257\n",
      "  6.658    0.095 0.110    0.463    0.139   17.142\n",
      "  7.684    0.104 0.102    0.177    0.038    9.045\n",
      "  8.711    0.109 0.093    0.076    0.011    4.983\n",
      "  9.737    0.113 0.085    0.036    0.003    2.890\n",
      " 10.763    0.114 0.077    0.019    0.001    1.800\n",
      " 11.789    0.092 0.063    0.011    0.000    1.616\n",
      " 12.816    0.079 0.054    0.007    0.000    1.463\n",
      " 13.842    0.067 0.046    0.005    0.000    1.334\n",
      " 14.868    0.061 0.040    0.003    0.000    1.224\n",
      " 15.895    0.054 0.035    0.002    0.000    1.128\n",
      " 16.921    0.048 0.031    0.002    0.000    1.044\n",
      " 17.947    0.042 0.028    0.002    0.000    0.969\n",
      " 18.974    0.038 0.025    0.001    0.000    0.903\n",
      " 20.000    0.032 0.021    0.001    0.000    0.843\n",
      "Chosen β (CT, AC||PCGBA23): 0\n",
      "\n",
      "==============================================================\n",
      "[CT] MFBA9BA46||PCGBA23 — scale-free fit vs β (target R²=0.80)\n",
      "==============================================================\n",
      "  Power SFT.R.sq slope   mean.k median.k    max.k\n",
      "  0.500    0.401 1.874 4737.553 4758.895 6831.880\n",
      "  1.526    0.395 0.617  553.701  517.624 1542.402\n",
      "  2.553    0.341 0.349   94.982   75.938  486.692\n",
      "  3.579    0.290 0.234   20.695   13.300  185.067\n",
      "  4.605    0.241 0.175    5.366    2.640   79.574\n",
      "  5.632    0.217 0.145    1.601    0.583   37.372\n",
      "  6.658    0.210 0.128    0.540    0.145   18.770\n",
      "  7.684    0.216 0.118    0.203    0.039    9.947\n",
      "  8.711    0.225 0.109    0.085    0.011    5.535\n",
      "  9.737    0.231 0.101    0.039    0.004    3.204\n",
      " 10.763    0.241 0.094    0.020    0.001    1.919\n",
      " 11.789    0.248 0.088    0.011    0.000    1.221\n",
      " 12.816    0.238 0.080    0.007    0.000    0.929\n",
      " 13.842    0.217 0.071    0.004    0.000    0.846\n",
      " 14.868    0.199 0.064    0.003    0.000    0.776\n",
      " 15.895    0.186 0.058    0.002    0.000    0.715\n",
      " 16.921    0.175 0.053    0.002    0.000    0.667\n",
      " 17.947    0.164 0.048    0.001    0.000    0.627\n",
      " 18.974    0.153 0.044    0.001    0.000    0.589\n",
      " 20.000    0.139 0.040    0.001    0.000    0.554\n",
      "Chosen β (CT, MFBA9BA46||PCGBA23): 0\n"
     ]
    },
    {
     "name": "stderr",
     "output_type": "stream",
     "text": [
      "Auto β selected: TS=20.000000 (per tissue: 20,18,20); CT=0.000000\n",
      "\n"
     ]
    },
    {
     "ename": "ERROR",
     "evalue": "Error in plot_beta_matrix_heatmap(beta_info, tissues, out_pdf = heatmap_pdf, : All entries in beta matrix are NA.\n",
     "output_type": "error",
     "traceback": [
      "Error in plot_beta_matrix_heatmap(beta_info, tissues, out_pdf = heatmap_pdf, : All entries in beta matrix are NA.\nTraceback:\n",
      "1. make_all_beta_plots(beta_info, tissues = tissues_vec, out_prefix = out_prefix)",
      "2. plot_beta_matrix_heatmap(beta_info, tissues, out_pdf = heatmap_pdf, \n .     out_csv = heatmap_csv, thr = thr, require_nonpos_slope = TRUE)",
      "3. stop(\"All entries in beta matrix are NA.\")",
      "4. .handleSimpleError(function (cnd) \n . {\n .     watcher$capture_plot_and_output()\n .     cnd <- sanitize_call(cnd)\n .     watcher$push(cnd)\n .     switch(on_error, continue = invokeRestart(\"eval_continue\"), \n .         stop = invokeRestart(\"eval_stop\"), error = NULL)\n . }, \"All entries in beta matrix are NA.\", base::quote(plot_beta_matrix_heatmap(beta_info, \n .     tissues, out_pdf = heatmap_pdf, out_csv = heatmap_csv, thr = thr, \n .     require_nonpos_slope = TRUE)))"
     ]
    }
   ],
   "source": [
    "XWGCNA_Clusters_autoBeta(\n",
    "    tissue_names = tissues,\n",
    "    tissue_expr_file_names = rosmap_files,\n",
    "    sd_quantile = 0.0,\n",
    "    max_genes_per_tissue = 999999,     \n",
    "    out_prefix = \"xwgcna_rosmap_logbins_autobeta\",\n",
    "    auto_beta = TRUE,\n",
    "    plot_beta_curves = TRUE,\n",
    "    blockwise_TOM = TRUE,\n",
    "    TS_power = 3,\n",
    "    CT_power = 2,\n",
    "    group = \"xwgcna_rosmap_logbins_autobeta\",\n",
    "    beta_method = \"wgcna_new\",\n",
    "    save_intermediates = TRUE,\n",
    "    wgcna_powerVector = seq(0.5, 20, length.out = 20),\n",
    "    ct_fisher = FALSE,\n",
    "    ct_fisher_scheme = \"to_ref\",\n",
    "    ct_fisher_Nref = \"max\",\n",
    "    ct_too_few_action = \"zero\",\n",
    "    adj_type = \"new\"\n",
    ")"
   ]
  }
 ],
 "metadata": {
  "kernelspec": {
   "display_name": "R",
   "language": "R",
   "name": "ir"
  },
  "language_info": {
   "codemirror_mode": "r",
   "file_extension": ".r",
   "mimetype": "text/x-r-source",
   "name": "R",
   "pygments_lexer": "r",
   "version": "4.5.1"
  }
 },
 "nbformat": 4,
 "nbformat_minor": 5
}
