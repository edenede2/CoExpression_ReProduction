{
 "cells": [
  {
   "cell_type": "markdown",
   "id": "d9ce20b8",
   "metadata": {},
   "source": [
    "# Jupyter Notebook for inter tissue WGCNA"
   ]
  },
  {
   "cell_type": "markdown",
   "id": "1a1f7fc2",
   "metadata": {},
   "source": [
    "## Import libraries"
   ]
  },
  {
   "cell_type": "code",
   "execution_count": 1,
   "id": "dc184d8c",
   "metadata": {
    "vscode": {
     "languageId": "r"
    }
   },
   "outputs": [
    {
     "name": "stderr",
     "output_type": "stream",
     "text": [
      "Loading required package: dynamicTreeCut\n",
      "\n",
      "Loading required package: fastcluster\n",
      "\n",
      "\n",
      "Attaching package: 'fastcluster'\n",
      "\n",
      "\n",
      "The following object is masked from 'package:stats':\n",
      "\n",
      "    hclust\n",
      "\n",
      "\n",
      "\n",
      "\n",
      "\n",
      "Attaching package: 'WGCNA'\n",
      "\n",
      "\n",
      "The following object is masked from 'package:stats':\n",
      "\n",
      "    cor\n",
      "\n",
      "\n"
     ]
    },
    {
     "name": "stdout",
     "output_type": "stream",
     "text": [
      "Allowing multi-threading with up to 8 threads.\n"
     ]
    }
   ],
   "source": [
    "library(WGCNA)\n",
    "options(stringsAsFactors = FALSE)\n",
    "suppressMessages(WGCNA::allowWGCNAThreads())"
   ]
  },
  {
   "cell_type": "markdown",
   "id": "bfc20db9",
   "metadata": {},
   "source": [
    "## Helper functions"
   ]
  },
  {
   "cell_type": "code",
   "execution_count": null,
   "id": "49dfcc75",
   "metadata": {
    "vscode": {
     "languageId": "r"
    }
   },
   "outputs": [],
   "source": [
    ".extract_donor <- function(x) sub(\"^([^-]+-[^-]+).*\", \"\\\\1\", x)\n",
    "\n",
    ".aggregate_by_donor <- function(mat) {\n",
    "    d <- .extract_donor(rownames(mat))\n",
    "    split_idx <- split(seq_len(nrow(mat)), d)\n",
    "    res <- do.call(rbind, lapply(split_idx, function(ix) {\n",
    "        colMeans(mat[ix, , drop = FALSE], na.rm = TRUE)\n",
    "    }))\n",
    "    rownames(res) <- names(split_idx)\n",
    "    storage.mode(res) <- \"double\"\n",
    "    res\n",
    "}\n",
    "split_gene_id <- function(x) {\n",
    "  x <- as.character(x)\n",
    "  tissue <- sub(\"_([^_]*)$\", \"\", x)\n",
    "  gene   <- sub(\"^.*_\", \"\", x) \n",
    "  list(tissue = tissue, gene = gene)\n",
    "}\n",
    ".make_CT_map <- function(tissues, beta) {\n",
    "  if (length(tissues) < 2) return(setNames(numeric(0), character(0)))\n",
    "  pairs <- t(combn(tissues, 2))\n",
    "  keys  <- paste(pairs[,1], pairs[,2], sep = \"||\")\n",
    "  setNames(rep.int(beta, length(keys)), keys)\n",
    "}"
   ]
  },
  {
   "cell_type": "markdown",
   "id": "707c6641",
   "metadata": {},
   "source": []
  }
 ],
 "metadata": {
  "kernelspec": {
   "display_name": "R 4.5",
   "language": "R",
   "name": "ir-4.4"
  },
  "language_info": {
   "codemirror_mode": "r",
   "file_extension": ".r",
   "mimetype": "text/x-r-source",
   "name": "R",
   "pygments_lexer": "r",
   "version": "4.5.1"
  }
 },
 "nbformat": 4,
 "nbformat_minor": 5
}
