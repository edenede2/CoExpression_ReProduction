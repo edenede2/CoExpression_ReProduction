{
 "cells": [
  {
   "cell_type": "code",
   "execution_count": 1,
   "id": "a7617470",
   "metadata": {},
   "outputs": [
    {
     "name": "stdout",
     "output_type": "stream",
     "text": [
      "[load] AC: donors=730, genes=17306 (from ROSMAP_fixed_AC.csv)\n",
      "[load] MFBA9BA46: donors=1216, genes=17306 (from ROSMAP_fixed_MFBA9BA46.csv)\n",
      "[load] PCGBA23: donors=659, genes=17306 (from ROSMAP_fixed_PCGBA23.csv)\n",
      "[align] Common donors across 3 tissues: 464\n",
      "Saved: /media/psylab-6028/DATA/Eden/CoExpression_ReProduction/corr_beta_anim/corr_beta_anim_COMMON_DONORS__TS.html /media/psylab-6028/DATA/Eden/CoExpression_ReProduction/corr_beta_anim/corr_beta_anim_COMMON_DONORS__CT.html\n"
     ]
    }
   ],
   "source": [
    "import sys\n",
    "sys.path.append(\"/media/psylab-6028/DATA/Eden/CoExpression_ReProduction\")\n",
    "import os\n",
    "from animate_corr_distributions_common_donors import animate_from_csvs_common_donors\n",
    "\n",
    "tissues = [\"AC\", \"MFBA9BA46\", \"PCGBA23\"]\n",
    "files   = [\n",
    "    \"//media/psylab-6028/DATA/Eden/CoExpression_ReProduction/ROSMAP_fixed_AC.csv\",\n",
    "    \"//media/psylab-6028/DATA/Eden/CoExpression_ReProduction/ROSMAP_fixed_MFBA9BA46.csv\",\n",
    "    \"//media/psylab-6028/DATA/Eden/CoExpression_ReProduction/ROSMAP_fixed_PCGBA23.csv\",\n",
    "]\n",
    "\n",
    "def donor_base(x: str) -> str:\n",
    "    # tweak if your donor IDs include run/replicate suffixes\n",
    "    import re\n",
    "    m = re.match(r\"^([^-]+-[^-]+)\", str(x))\n",
    "    return m.group(1) if m else str(x)\n",
    "\n",
    "output_path = \"/media/psylab-6028/DATA/Eden/CoExpression_ReProduction/corr_beta_anim\"\n",
    "\n",
    "if not os.path.exists(output_path):\n",
    "    os.makedirs(output_path)\n",
    "\n",
    "out_TS, out_CT = animate_from_csvs_common_donors(\n",
    "    tissue_names=tissues,\n",
    "    tissue_files=files,\n",
    "    donor_id_func=donor_base,     # or None if not needed\n",
    "    betas=list(range(1, 21)),\n",
    "    sample_per_group=200_000,     # downsample for speed\n",
    "    bins=1000,\n",
    "    density=True,\n",
    "    seed=42,\n",
    "    out_html_prefix=os.path.join(output_path, \"corr_beta_anim_COMMON_DONORS\"),\n",
    "    height=420,\n",
    "    verbose=True,\n",
    ")\n",
    "print(\"Saved:\", out_TS, out_CT)\n"
   ]
  }
 ],
 "metadata": {
  "kernelspec": {
   "display_name": "Python 3",
   "language": "python",
   "name": "python3"
  },
  "language_info": {
   "codemirror_mode": {
    "name": "ipython",
    "version": 3
   },
   "file_extension": ".py",
   "mimetype": "text/x-python",
   "name": "python",
   "nbconvert_exporter": "python",
   "pygments_lexer": "ipython3",
   "version": "3.10.12"
  }
 },
 "nbformat": 4,
 "nbformat_minor": 5
}
